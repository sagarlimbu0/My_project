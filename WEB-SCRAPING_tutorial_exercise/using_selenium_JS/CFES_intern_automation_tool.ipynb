{
 "cells": [
  {
   "cell_type": "code",
   "execution_count": 1,
   "metadata": {},
   "outputs": [],
   "source": [
    "from selenium import webdriver\n",
    "from selenium.webdriver.common.by import By\n",
    "from selenium.webdriver.support.ui import WebDriverWait\n",
    "from selenium.webdriver.support import expected_conditions as EC\n",
    "from selenium.common.exceptions import TimeoutException\n",
    "from selenium.webdriver.support.ui import Select\n",
    "from selenium.webdriver.common.keys import Keys"
   ]
  },
  {
   "cell_type": "code",
   "execution_count": 2,
   "metadata": {},
   "outputs": [],
   "source": [
    "# BEAUTIFUL SOUP and DATABASE LIBRARIES\n",
    "import requests\n",
    "from bs4 import BeautifulSoup\n",
    "import records"
   ]
  },
  {
   "cell_type": "code",
   "execution_count": 3,
   "metadata": {},
   "outputs": [],
   "source": [
    "url= 'https://nces.ed.gov/ccd/schoolsearch/'"
   ]
  },
  {
   "cell_type": "code",
   "execution_count": 4,
   "metadata": {},
   "outputs": [],
   "source": [
    "browser= webdriver.Chrome()\n",
    "browser.get(url)"
   ]
  },
  {
   "cell_type": "code",
   "execution_count": 5,
   "metadata": {},
   "outputs": [],
   "source": [
    "state_select= Select(browser.find_element_by_name('State'))\n",
    "\n",
    "state_select.select_by_index(5)"
   ]
  },
  {
   "cell_type": "code",
   "execution_count": 6,
   "metadata": {},
   "outputs": [],
   "source": [
    "# using Zip code to get the address\n",
    "# passing keys\n",
    "zip_input= browser.find_element_by_name('Zip')\n",
    "zip_input.send_keys('91303')\n",
    "\n",
    "# sending keys as INPUT to element\n",
    "zip_input.send_keys(Keys.ENTER)\n"
   ]
  },
  {
   "cell_type": "code",
   "execution_count": 7,
   "metadata": {},
   "outputs": [],
   "source": [
    "# Iteration on web page\n",
    "\n",
    "# creting a self instance\n",
    "class atleast_one_element(object):\n",
    "    \n",
    "    def __init__(self, locator, n):\n",
    "        self.locator= locator\n",
    "        self.n= n\n",
    "        \n",
    "    # call FUNCTION itself for the browser\n",
    "    def __call__(self, browser):\n",
    "        # get the elements from the browser\n",
    "        div_element= browser.find_element(*self.locator)\n",
    "        \n",
    "        # iterate unless the elements counts on n\n",
    "        if (len(div_element) >= n):\n",
    "            return div_element\n",
    "        else:\n",
    "            \n",
    "            return False        "
   ]
  },
  {
   "cell_type": "code",
   "execution_count": 8,
   "metadata": {},
   "outputs": [],
   "source": [
    "# use the TIME duration for BROWSER by calling implicitly\n",
    "browser.implicitly_wait(10)\n",
    "\n",
    "# Locate the elements by Class NAME\n",
    "\n"
   ]
  },
  {
   "cell_type": "code",
   "execution_count": null,
   "metadata": {},
   "outputs": [],
   "source": []
  },
  {
   "cell_type": "code",
   "execution_count": null,
   "metadata": {},
   "outputs": [],
   "source": []
  },
  {
   "cell_type": "code",
   "execution_count": null,
   "metadata": {},
   "outputs": [],
   "source": []
  },
  {
   "cell_type": "code",
   "execution_count": 9,
   "metadata": {},
   "outputs": [
    {
     "name": "stdout",
     "output_type": "stream",
     "text": [
      "Enter to quitquit\n"
     ]
    }
   ],
   "source": [
    "input('Enter to quit')\n",
    "browser.quit()"
   ]
  },
  {
   "cell_type": "code",
   "execution_count": null,
   "metadata": {},
   "outputs": [],
   "source": []
  }
 ],
 "metadata": {
  "kernelspec": {
   "display_name": "Python 3",
   "language": "python",
   "name": "python3"
  },
  "language_info": {
   "codemirror_mode": {
    "name": "ipython",
    "version": 3
   },
   "file_extension": ".py",
   "mimetype": "text/x-python",
   "name": "python",
   "nbconvert_exporter": "python",
   "pygments_lexer": "ipython3",
   "version": "3.8.5"
  }
 },
 "nbformat": 4,
 "nbformat_minor": 4
}
