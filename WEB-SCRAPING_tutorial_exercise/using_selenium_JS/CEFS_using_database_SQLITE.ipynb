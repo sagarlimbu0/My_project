{
 "cells": [
  {
   "cell_type": "code",
   "execution_count": 1,
   "metadata": {},
   "outputs": [],
   "source": [
    "from bs4 import BeautifulSoup\n",
    "import requests\n",
    "from urllib.parse import urljoin\n",
    "from sqlalchemy.exc import IntegrityError\n",
    "import records\n",
    "import sqlite3"
   ]
  },
  {
   "cell_type": "code",
   "execution_count": 2,
   "metadata": {},
   "outputs": [],
   "source": [
    "# Create a NEW DATABASE for sqlite\n",
    "#db= records.Database('sqlite:///crawler_database.db')"
   ]
  },
  {
   "cell_type": "code",
   "execution_count": 3,
   "metadata": {},
   "outputs": [],
   "source": [
    "db_connect= sqlite3.connect('crawler.db')\n",
    "db= db_connect.cursor()"
   ]
  },
  {
   "cell_type": "code",
   "execution_count": 4,
   "metadata": {},
   "outputs": [
    {
     "data": {
      "text/plain": [
       "<sqlite3.Cursor at 0x2334b680260>"
      ]
     },
     "execution_count": 4,
     "metadata": {},
     "output_type": "execute_result"
    }
   ],
   "source": [
    "db.execute(''' CREATE TABLE IF NOT EXISTS links(\n",
    "    url text PRIMARY KEY,\n",
    "    created_at datetime,\n",
    "    visited_at datetime NULL )''')"
   ]
  },
  {
   "cell_type": "code",
   "execution_count": null,
   "metadata": {},
   "outputs": [],
   "source": []
  },
  {
   "cell_type": "code",
   "execution_count": 5,
   "metadata": {},
   "outputs": [
    {
     "data": {
      "text/plain": [
       "<sqlite3.Cursor at 0x2334b680260>"
      ]
     },
     "execution_count": 5,
     "metadata": {},
     "output_type": "execute_result"
    }
   ],
   "source": [
    "db.execute(''' CREATE TABLE IF NOT EXISTS numbers (url text, number integer,\n",
    "        PRIMARY KEY (url, number))''')"
   ]
  },
  {
   "cell_type": "code",
   "execution_count": 6,
   "metadata": {},
   "outputs": [],
   "source": [
    "# TO STORE ANY links \n",
    "def store_link(url):\n",
    "    try:\n",
    "        #db.execute\n",
    "        db.execute(''' INSERT INTO links (url, created_at)\n",
    "                     VALUES(:url, CURRENT_TIMESTAMP)''',  url)\n",
    "        \n",
    "        \n",
    "    except IntegrityError as ie:\n",
    "        # this link already exists, Do Nothing\n",
    "        pass"
   ]
  },
  {
   "cell_type": "code",
   "execution_count": 7,
   "metadata": {},
   "outputs": [],
   "source": [
    "# DEF to store NUMBER\n",
    "def store_number(url, number):\n",
    "    try:\n",
    "        db.execute(''' INSERT INTO numbers(url, number)\n",
    "                     VALUES (:url, :number)''', url=url,\n",
    "        number= number)\n",
    "        \n",
    "    except IntegrityError as ie:\n",
    "        # This number already Exists, do nothing\n",
    "        pass"
   ]
  },
  {
   "cell_type": "code",
   "execution_count": 8,
   "metadata": {},
   "outputs": [],
   "source": [
    "# DEF to mark the link LAST VISITED\n",
    "\n",
    "def mark_visited(url):\n",
    "    db.execute('''UPDATE links SET visited_at= CURRENT_TIMESTAMP\n",
    "                WHERE url= :url''', url)"
   ]
  },
  {
   "cell_type": "code",
   "execution_count": 9,
   "metadata": {},
   "outputs": [],
   "source": [
    "# DEF to record any links that has not been visited\n",
    "def get_random_unvisited_link():\n",
    "    link= db.execute('''SELECT * FROM links\n",
    "                      WHERE visited_at IS NULL\n",
    "                      ORDER BY RANDOM() LIMIT 1''').first()\n",
    "    \n",
    "    return None if link is None else link.url"
   ]
  },
  {
   "cell_type": "code",
   "execution_count": 10,
   "metadata": {},
   "outputs": [],
   "source": [
    "# DEF FUNCTION TO visit any url\n",
    "\n",
    "def visit(url):\n",
    "    html= requests.get(url).text\n",
    "    \n",
    "    html_soup= BeautifulSoup(html, 'html.parser')\n",
    "    new_links= []\n",
    "    \n",
    "    for td in html_soup.find_all(\"td\"):\n",
    "        # store NUMBER for visited LINKS\n",
    "        store_number(url, int(td.text.strip()))\n",
    "        print('PASS~~~~~~~~~')\n",
    "    \n",
    "        #store links for visited SITE\n",
    "    for link in html_soup.find_all(\"a\"):\n",
    "        link_url= link.get('href')\n",
    "        print('PASS******************')\n",
    "    \n",
    "        \n",
    "        if link_url is None:\n",
    "            continue\n",
    "            print('PASS################')\n",
    "    \n",
    "            \n",
    "            # JOIN THE URL and link\n",
    "        full_url= link.get(url, link_url)\n",
    "        new_links.append(full_url)\n",
    "        \n",
    "    return new_links"
   ]
  },
  {
   "cell_type": "code",
   "execution_count": 11,
   "metadata": {},
   "outputs": [
    {
     "ename": "ProgrammingError",
     "evalue": "Incorrect number of bindings supplied. The current statement uses 1, and there are 286 supplied.",
     "output_type": "error",
     "traceback": [
      "\u001b[1;31m---------------------------------------------------------------------------\u001b[0m",
      "\u001b[1;31mProgrammingError\u001b[0m                          Traceback (most recent call last)",
      "\u001b[1;32m<ipython-input-11-6304f4176b67>\u001b[0m in \u001b[0;36m<module>\u001b[1;34m\u001b[0m\n\u001b[0;32m      1\u001b[0m \u001b[1;31m# PERFORM QUERY and store in DB\u001b[0m\u001b[1;33m\u001b[0m\u001b[1;33m\u001b[0m\u001b[1;33m\u001b[0m\u001b[0m\n\u001b[1;32m----> 2\u001b[1;33m \u001b[0mstore_link\u001b[0m\u001b[1;33m(\u001b[0m\u001b[1;34m'https://nces.ed.gov/ccd/schoolsearch/school_list.asp?Search=1&InstName=&SchoolID=&Address=&City=&State=06&Zip=91303&Miles=&County=&PhoneAreaCode=&Phone=&DistrictName=&DistrictID=&SchoolType=1&SchoolType=2&SchoolType=3&SchoolType=4&SpecificSchlTypes=all&IncGrade=-1&LoGrade=-1&HiGrade=-1'\u001b[0m\u001b[1;33m)\u001b[0m\u001b[1;33m\u001b[0m\u001b[1;33m\u001b[0m\u001b[0m\n\u001b[0m\u001b[0;32m      3\u001b[0m \u001b[1;33m\u001b[0m\u001b[0m\n\u001b[0;32m      4\u001b[0m \u001b[0murl_to_visit\u001b[0m\u001b[1;33m=\u001b[0m \u001b[0mget_random_unvisited_link\u001b[0m\u001b[1;33m(\u001b[0m\u001b[1;33m)\u001b[0m\u001b[1;33m\u001b[0m\u001b[1;33m\u001b[0m\u001b[0m\n\u001b[0;32m      5\u001b[0m \u001b[1;33m\u001b[0m\u001b[0m\n",
      "\u001b[1;32m<ipython-input-6-3555009b44a4>\u001b[0m in \u001b[0;36mstore_link\u001b[1;34m(url)\u001b[0m\n\u001b[0;32m      3\u001b[0m     \u001b[1;32mtry\u001b[0m\u001b[1;33m:\u001b[0m\u001b[1;33m\u001b[0m\u001b[1;33m\u001b[0m\u001b[0m\n\u001b[0;32m      4\u001b[0m         \u001b[1;31m#db.execute\u001b[0m\u001b[1;33m\u001b[0m\u001b[1;33m\u001b[0m\u001b[1;33m\u001b[0m\u001b[0m\n\u001b[1;32m----> 5\u001b[1;33m         db.execute(''' INSERT INTO links (url, created_at)\n\u001b[0m\u001b[0;32m      6\u001b[0m                      VALUES(:url, CURRENT_TIMESTAMP)''',  url)\n\u001b[0;32m      7\u001b[0m \u001b[1;33m\u001b[0m\u001b[0m\n",
      "\u001b[1;31mProgrammingError\u001b[0m: Incorrect number of bindings supplied. The current statement uses 1, and there are 286 supplied."
     ]
    }
   ],
   "source": [
    "# PERFORM QUERY and store in DB\n",
    "store_link('https://nces.ed.gov/ccd/schoolsearch/school_list.asp?Search=1&InstName=&SchoolID=&Address=&City=&State=06&Zip=91303&Miles=&County=&PhoneAreaCode=&Phone=&DistrictName=&DistrictID=&SchoolType=1&SchoolType=2&SchoolType=3&SchoolType=4&SpecificSchlTypes=all&IncGrade=-1&LoGrade=-1&HiGrade=-1')\n",
    "\n",
    "url_to_visit= get_random_unvisited_link()\n",
    "\n",
    "while url_to_visit is not None:\n",
    "    print('Now visiting: ', url_to_visit)\n",
    "    new_links= visit(url_to_visit)\n",
    "    print(len(new_links), 'new link(s) found')\n",
    "    \n",
    "    for link in new_links:\n",
    "        store(link)\n",
    "    mark_visited(url_to_visit)\n",
    "    url_to_visit= get_random_unvisited_link()"
   ]
  },
  {
   "cell_type": "code",
   "execution_count": null,
   "metadata": {},
   "outputs": [],
   "source": []
  }
 ],
 "metadata": {
  "kernelspec": {
   "display_name": "Python 3",
   "language": "python",
   "name": "python3"
  },
  "language_info": {
   "codemirror_mode": {
    "name": "ipython",
    "version": 3
   },
   "file_extension": ".py",
   "mimetype": "text/x-python",
   "name": "python",
   "nbconvert_exporter": "python",
   "pygments_lexer": "ipython3",
   "version": "3.8.5"
  }
 },
 "nbformat": 4,
 "nbformat_minor": 4
}
