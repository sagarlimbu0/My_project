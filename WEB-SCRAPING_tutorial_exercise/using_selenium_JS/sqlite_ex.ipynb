{
 "cells": [
  {
   "cell_type": "code",
   "execution_count": 1,
   "metadata": {},
   "outputs": [],
   "source": [
    "import requests\n",
    "from bs4 import BeautifulSoup\n",
    "from urllib.parse import urljoin\n",
    "base_url = 'https://nces.ed.gov/ccd/schoolsearch/school_list.asp?Search=1&InstName=&SchoolID=&Address=&City=&State=06&Zip=91303&Miles=&County=&PhoneAreaCode=&Phone=&DistrictName=&DistrictID=&SchoolType=1&SchoolType=2&SchoolType=3&SchoolType=4&SpecificSchlTypes=all&IncGrade=-1&LoGrade=-1&HiGrade=-1'\n",
    "links_seen = set()\n",
    "def visit(url, links_seen):\n",
    "    html = requests.get(url).text\n",
    "    html_soup = BeautifulSoup(html, 'html.parser')\n",
    "    links_seen.add(url)\n",
    "    for link in html_soup.find_all(\"a\"):\n",
    "        link_url = link.get('strong')\n",
    "        if link_url is None:\n",
    "            continue\n",
    "        full_url = urljoin(url, link_url)\n",
    "        if full_url in links_seen:\n",
    "            continue\n",
    "        print('Found a new page:', full_url)\n",
    "        # Normally, we'd store the results here too\n",
    "        visit(full_url, links_seen)\n",
    "visit(base_url, links_seen)"
   ]
  },
  {
   "cell_type": "code",
   "execution_count": null,
   "metadata": {},
   "outputs": [],
   "source": []
  }
 ],
 "metadata": {
  "kernelspec": {
   "display_name": "Python 3",
   "language": "python",
   "name": "python3"
  },
  "language_info": {
   "codemirror_mode": {
    "name": "ipython",
    "version": 3
   },
   "file_extension": ".py",
   "mimetype": "text/x-python",
   "name": "python",
   "nbconvert_exporter": "python",
   "pygments_lexer": "ipython3",
   "version": "3.8.5"
  }
 },
 "nbformat": 4,
 "nbformat_minor": 4
}
