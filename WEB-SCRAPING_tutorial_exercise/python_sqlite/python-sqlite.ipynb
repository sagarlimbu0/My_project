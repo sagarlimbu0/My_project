{
 "cells": [
  {
   "cell_type": "code",
   "execution_count": 1,
   "metadata": {},
   "outputs": [],
   "source": [
    "import sqlite3\n",
    "\n",
    "\n",
    "# in memory datbae = ':memory:'\n",
    "# for filename database= 'employee.db'\n",
    "\n",
    "conn= sqlite3.connect('employee.db') # new DB created on same PATH if not created BEFORE"
   ]
  },
  {
   "cell_type": "code",
   "execution_count": 3,
   "metadata": {},
   "outputs": [
    {
     "ename": "OperationalError",
     "evalue": "table employees already exists",
     "output_type": "error",
     "traceback": [
      "\u001b[1;31m---------------------------------------------------------------------------\u001b[0m",
      "\u001b[1;31mOperationalError\u001b[0m                          Traceback (most recent call last)",
      "\u001b[1;32m<ipython-input-3-5da81f16eed5>\u001b[0m in \u001b[0;36m<module>\u001b[1;34m\u001b[0m\n\u001b[0;32m      4\u001b[0m \u001b[1;31m# Executing SQL querries giving DATA types\u001b[0m\u001b[1;33m\u001b[0m\u001b[1;33m\u001b[0m\u001b[1;33m\u001b[0m\u001b[0m\n\u001b[0;32m      5\u001b[0m \u001b[1;33m\u001b[0m\u001b[0m\n\u001b[1;32m----> 6\u001b[1;33m c.execute(\"\"\"CREATE TABLE employees (\n\u001b[0m\u001b[0;32m      7\u001b[0m         \u001b[0mfirst\u001b[0m \u001b[0mtext\u001b[0m\u001b[1;33m,\u001b[0m\u001b[1;33m\u001b[0m\u001b[1;33m\u001b[0m\u001b[0m\n\u001b[0;32m      8\u001b[0m         \u001b[0mlast\u001b[0m \u001b[0mtext\u001b[0m\u001b[1;33m,\u001b[0m\u001b[1;33m\u001b[0m\u001b[1;33m\u001b[0m\u001b[0m\n",
      "\u001b[1;31mOperationalError\u001b[0m: table employees already exists"
     ]
    }
   ],
   "source": [
    "# CURSOR\n",
    "c= conn.cursor()\n",
    "\n",
    "# Executing SQL querries giving DATA types\n",
    "\n",
    "c.execute(\"\"\"CREATE TABLE employees (\n",
    "        first text,\n",
    "        last text,\n",
    "        pay integer\n",
    "        )\"\"\")\n",
    "\n",
    "# for CONNECTIOn, commits for CURRENT transaction\n",
    "conn.commit()\n",
    "\n",
    "# closing the connection after commit\n",
    "conn.close()"
   ]
  },
  {
   "cell_type": "code",
   "execution_count": 4,
   "metadata": {},
   "outputs": [],
   "source": [
    "# EXECUTE new quries to store NEW employee INFO\n",
    "c.execute(\"INSERT INTO employees VALUES('hirosima', 'yamaguchi', 50000)\")\n",
    "conn.commit()"
   ]
  },
  {
   "cell_type": "code",
   "execution_count": 5,
   "metadata": {},
   "outputs": [
    {
     "name": "stdout",
     "output_type": "stream",
     "text": [
      "[('hirosima', 'yamaguchi', 50000), ('hirosima', 'yamaguchi', 50000), ('hirosima', 'yamaguchi', 50000), ('hirosima', 'yamaguchi', 50000), ('hirosima', 'yamaguchi', 50000)]\n"
     ]
    }
   ],
   "source": [
    "# SELECT the entered QUERRIES\n",
    "\n",
    "c.execute(\"SELECT * FROM employees WHERE last='yamaguchi'\")\n",
    "\n",
    "# returns the selected element\n",
    "# fecthmany=5 selects upto 5 elements\n",
    "# fetchall= returns entire row or empty list\n",
    "#print(c.fetchone())\n",
    "\n",
    "# prints RESULT as LIST\n",
    "print(c.fetchall())\n",
    "\n",
    "# commit the changes of the SQL querry\n",
    "conn.commit()\n",
    "conn.close()"
   ]
  },
  {
   "cell_type": "code",
   "execution_count": null,
   "metadata": {},
   "outputs": [],
   "source": []
  }
 ],
 "metadata": {
  "kernelspec": {
   "display_name": "Python 3",
   "language": "python",
   "name": "python3"
  },
  "language_info": {
   "codemirror_mode": {
    "name": "ipython",
    "version": 3
   },
   "file_extension": ".py",
   "mimetype": "text/x-python",
   "name": "python",
   "nbconvert_exporter": "python",
   "pygments_lexer": "ipython3",
   "version": "3.8.5"
  }
 },
 "nbformat": 4,
 "nbformat_minor": 4
}
