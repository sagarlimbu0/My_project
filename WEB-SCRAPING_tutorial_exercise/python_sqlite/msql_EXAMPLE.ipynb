{
 "cells": [
  {
   "cell_type": "markdown",
   "metadata": {},
   "source": [
    "# MySQL DATABASE"
   ]
  },
  {
   "cell_type": "code",
   "execution_count": 1,
   "metadata": {},
   "outputs": [],
   "source": [
    "import mysql.connector"
   ]
  },
  {
   "cell_type": "code",
   "execution_count": 2,
   "metadata": {},
   "outputs": [],
   "source": [
    "# SOME example with MySQL querries\n",
    "\n",
    "mysql_conn= mysql.connector.connect(\n",
    "    host='localhost',\n",
    "    user= 'root',\n",
    "    password= 'Hotm@il0',\n",
    "    database= 'student')"
   ]
  },
  {
   "cell_type": "code",
   "execution_count": 3,
   "metadata": {},
   "outputs": [],
   "source": [
    "# DEFINING the cursor OBJECT\n",
    "cursor= mysql_conn.cursor()"
   ]
  },
  {
   "cell_type": "code",
   "execution_count": 4,
   "metadata": {},
   "outputs": [],
   "source": [
    "# CREATE a student TABLE \n",
    "sql_one= \"CREATE TABLE student_info (NAME CHAR(30) NOT NULL, AGE INT, GENDER CHAR(8), GRADE INT)\""
   ]
  },
  {
   "cell_type": "code",
   "execution_count": 7,
   "metadata": {},
   "outputs": [],
   "source": [
    "# execute the QUERRY\n",
    "cursor.execute(sql_one)\n",
    "\n",
    "# AFTER Executing the ABOVE query, NEW table has been already CREATED, so running again gives an ERROr"
   ]
  },
  {
   "cell_type": "code",
   "execution_count": 8,
   "metadata": {},
   "outputs": [],
   "source": [
    "# INSERTING new elements on the TABLE\n",
    "\n",
    "#student_one= \"INSERT INTO student (NAME, AGE, GENDER, GRADE) VALUES(?,?,?,?)\"\n",
    "#student_info= (\"hirosima\", 28, \"M\", 12)\n",
    "#cursor.execute(student_one, student_info)\n",
    "\n",
    "\n",
    "student_one=\"\"\"INSERT INTO student.student_info (NAME, AGE, GENDER, GRADE) VALUES(%s, %s, %s, %s)\"\"\"\n",
    "               \n",
    "student_info= (\"hirosima\", 28, \"M\", 12)\n",
    "cursor.execute(student_one, student_info)\n",
    "\n",
    "# commiting after making changes\n",
    "mysql_conn.commit()"
   ]
  },
  {
   "cell_type": "code",
   "execution_count": null,
   "metadata": {},
   "outputs": [],
   "source": []
  },
  {
   "cell_type": "code",
   "execution_count": null,
   "metadata": {},
   "outputs": [],
   "source": []
  }
 ],
 "metadata": {
  "kernelspec": {
   "display_name": "Python 3",
   "language": "python",
   "name": "python3"
  },
  "language_info": {
   "codemirror_mode": {
    "name": "ipython",
    "version": 3
   },
   "file_extension": ".py",
   "mimetype": "text/x-python",
   "name": "python",
   "nbconvert_exporter": "python",
   "pygments_lexer": "ipython3",
   "version": "3.8.5"
  }
 },
 "nbformat": 4,
 "nbformat_minor": 4
}
