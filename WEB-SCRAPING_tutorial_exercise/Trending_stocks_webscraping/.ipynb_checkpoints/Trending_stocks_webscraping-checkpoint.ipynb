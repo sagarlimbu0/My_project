{
 "cells": [
  {
   "cell_type": "code",
   "execution_count": 1,
   "metadata": {},
   "outputs": [],
   "source": [
    "from selenium import webdriver\n",
    "from selenium.webdriver.support.ui import WebDriverWait\n",
    "from selenium.webdriver.common.by import By\n",
    "from selenium.common.exceptions import TimeoutException"
   ]
  },
  {
   "cell_type": "code",
   "execution_count": 2,
   "metadata": {},
   "outputs": [],
   "source": [
    "import numpy as np\n",
    "import pandas as pd\n",
    "import matplotlib.pyplot as plt"
   ]
  },
  {
   "cell_type": "code",
   "execution_count": 3,
   "metadata": {},
   "outputs": [],
   "source": [
    "url= 'https://www.tipranks.com/trending-stocks'"
   ]
  },
  {
   "cell_type": "code",
   "execution_count": 4,
   "metadata": {},
   "outputs": [],
   "source": [
    "browser= webdriver.Chrome()"
   ]
  },
  {
   "cell_type": "code",
   "execution_count": 5,
   "metadata": {},
   "outputs": [],
   "source": [
    "browser.get(url)"
   ]
  },
  {
   "cell_type": "code",
   "execution_count": 6,
   "metadata": {},
   "outputs": [],
   "source": [
    "# Creating a CLASs that iterates over the Browser element\n",
    "class get_element(object):\n",
    "    \n",
    "    # initializing\n",
    "    # locator: to locate elements\n",
    "    # n: to get the NUMBER of elements\n",
    "    def __init__(self, locator, n):\n",
    "        self.locator= locator\n",
    "        self.n= n\n",
    "        \n",
    "    # call function for Iteration using the BROWSER to find element by LOCATING each WEB element\n",
    "    def __call__(self, browser):\n",
    "        \n",
    "        element= browser.find_elements(*self.locator)\n",
    "        \n",
    "        # compare the number of elements\n",
    "        if len(element) >= self.n:\n",
    "            return element\n",
    "        else:\n",
    "            return False"
   ]
  },
  {
   "cell_type": "code",
   "execution_count": 7,
   "metadata": {},
   "outputs": [],
   "source": [
    "# BROWSER waiting time\n",
    "# WAIT for atleast 10 seconds\n",
    "browser.implicitly_wait(10)"
   ]
  },
  {
   "cell_type": "code",
   "execution_count": 8,
   "metadata": {},
   "outputs": [],
   "source": [
    "# LOCATE the searched CONTENTS wherre the ITERATION will take place\n",
    "# DIV element from the Content\n",
    "div_element= browser.find_element_by_xpath('//*[@id=\"app\"]/div/div/main/div/div/div[2]/div[2]/div/div/div[1]/ul')"
   ]
  },
  {
   "cell_type": "code",
   "execution_count": 9,
   "metadata": {},
   "outputs": [],
   "source": [
    "# LOCATE each INDIVIDUAL element from the WEB element\n",
    "\n",
    "# stock INFO:\n",
    "locator_stock_info= (By.CLASS_NAME,'client-components-ratings-trending-stock-row__stockInfo')\n",
    "\n",
    "# stock Consensus \n",
    "locator_stock_consensus= (By.CLASS_NAME,'client-components-ratings-trending-stock-row__consensus')\n",
    "\n",
    "# stock Target Price\n",
    "locator_stoc_tgt_price= (By.CLASS_NAME, 'client-components-ratings-trending-stock-row__priceTarget')"
   ]
  },
  {
   "cell_type": "code",
   "execution_count": 10,
   "metadata": {},
   "outputs": [],
   "source": [
    "# iteration of each element\n",
    "stock_info_cnt=0\n",
    "stock_cons_cnt= 0\n",
    "stock_price_cnt= 0\n",
    "\n",
    "# RECORDS of empty list\n",
    "stock_info_rec= []\n",
    "stock_info_cons= []\n",
    "stock_info_price= []\n",
    "\n",
    "\n",
    "# create while loop \n",
    "while True:\n",
    "    \n",
    "    # use browser script for iteration over the browser DIV element \n",
    "    browser.execute_script(\n",
    "    'arguments[0].scrollTop= arguments[0].scrollHeight', div_element\n",
    "    )\n",
    "    \n",
    "    # use TRY and catch error method to ITERATE using the CLASS \n",
    "    \n",
    "    try:\n",
    "        # RECORD each iteration and wait for 3 seconds until ITERATIng other element\n",
    "        stock_info= WebDriverWait(browser, 3).until(\n",
    "            # USING THe located elmenets from the SECtion\n",
    "            get_element(locator_stock_info, stock_info_cnt +1)\n",
    "        )\n",
    "        \n",
    "        # stock consesnus\n",
    "        stock_cons= WebDriverWait(browser, 3).until(\n",
    "            get_element(locator_stock_consensus, stock_cons_cnt +1)\n",
    "        )\n",
    "        \n",
    "        # stock PRICE target\n",
    "        stock_tgt_price= WebDriverWait(browser, 3).until(\n",
    "            get_element(locator_stoc_tgt_price, stock_price_cnt +1)\n",
    "        )\n",
    "        \n",
    "    except TimeoutException as EC:\n",
    "        break\n",
    "        \n",
    "    # update the COLLECTED record info UNLESS returns FALSE\n",
    "    # number of RECORDS collected \n",
    "    stock_info_cnt= len(stock_info)\n",
    "    stock_cons_cnt= len(stock_cons)\n",
    "    stock_price_cnt= len(stock_tgt_price)\n",
    "    \n",
    "    for single_stock_info in stock_info:\n",
    "        stock_info_rec.append(single_stock_info.text)\n",
    "        \n",
    "    for single_stock_cons in stock_cons:\n",
    "        stock_info_cons.append(single_stock_cons.text)\n",
    "        \n",
    "    for single_stock_price in stock_tgt_price:\n",
    "        stock_info_price.append(single_stock_price.text)  \n",
    "    "
   ]
  },
  {
   "cell_type": "code",
   "execution_count": 11,
   "metadata": {},
   "outputs": [],
   "source": [
    "# QUIT\n",
    "browser.quit()"
   ]
  },
  {
   "cell_type": "code",
   "execution_count": 12,
   "metadata": {},
   "outputs": [
    {
     "data": {
      "text/plain": [
       "(21, 21, 21)"
      ]
     },
     "execution_count": 12,
     "metadata": {},
     "output_type": "execute_result"
    }
   ],
   "source": [
    "len(stock_info_price), len(stock_info_cons), len (stock_info_rec)"
   ]
  },
  {
   "cell_type": "markdown",
   "metadata": {},
   "source": [
    "# Creating the DATAFRAME"
   ]
  },
  {
   "cell_type": "code",
   "execution_count": 13,
   "metadata": {},
   "outputs": [],
   "source": [
    "\n",
    "df_stock_rec= pd.DataFrame({'Stock_info': stock_info_rec, 'Price_Target':stock_info_price, 'Consensus': stock_info_cons })"
   ]
  },
  {
   "cell_type": "code",
   "execution_count": 14,
   "metadata": {},
   "outputs": [
    {
     "data": {
      "text/html": [
       "<div>\n",
       "<style scoped>\n",
       "    .dataframe tbody tr th:only-of-type {\n",
       "        vertical-align: middle;\n",
       "    }\n",
       "\n",
       "    .dataframe tbody tr th {\n",
       "        vertical-align: top;\n",
       "    }\n",
       "\n",
       "    .dataframe thead th {\n",
       "        text-align: right;\n",
       "    }\n",
       "</style>\n",
       "<table border=\"1\" class=\"dataframe\">\n",
       "  <thead>\n",
       "    <tr style=\"text-align: right;\">\n",
       "      <th></th>\n",
       "      <th>Stock_info</th>\n",
       "      <th>Price_Target</th>\n",
       "      <th>Consensus</th>\n",
       "    </tr>\n",
       "  </thead>\n",
       "  <tbody>\n",
       "    <tr>\n",
       "      <th>1</th>\n",
       "      <td>2 days ago\\nAirbnb(ABNB)\\n169.999.19(5.72%)</td>\n",
       "      <td>$154.92</td>\n",
       "      <td>Moderate Buy</td>\n",
       "    </tr>\n",
       "    <tr>\n",
       "      <th>2</th>\n",
       "      <td>9 days ago\\nNike(NKE)\\n143.042.01(1.39%)</td>\n",
       "      <td>$163.07</td>\n",
       "      <td>Strong Buy</td>\n",
       "    </tr>\n",
       "    <tr>\n",
       "      <th>3</th>\n",
       "      <td>5 days ago\\nMicron(MU)\\n79.910.45(0.57%)</td>\n",
       "      <td>$96.92</td>\n",
       "      <td>Strong Buy</td>\n",
       "    </tr>\n",
       "    <tr>\n",
       "      <th>4</th>\n",
       "      <td>6 days ago\\nDarden(DRI)\\n124.862.47(1.94%)</td>\n",
       "      <td>$126.92</td>\n",
       "      <td>Moderate Buy</td>\n",
       "    </tr>\n",
       "    <tr>\n",
       "      <th>5</th>\n",
       "      <td>Today\\nTesla(TSLA)\\n854.414.97(0.59%)</td>\n",
       "      <td>$534.63</td>\n",
       "      <td>Hold</td>\n",
       "    </tr>\n",
       "    <tr>\n",
       "      <th>6</th>\n",
       "      <td>Yesterday\\nSarepta Therapeutics(SRPT)\\n87.220....</td>\n",
       "      <td>$129.27</td>\n",
       "      <td>Moderate Buy</td>\n",
       "    </tr>\n",
       "    <tr>\n",
       "      <th>7</th>\n",
       "      <td>2 days ago\\nChange Healthcare(CHNG)\\n23.910.11...</td>\n",
       "      <td>$24.66</td>\n",
       "      <td>Hold</td>\n",
       "    </tr>\n",
       "    <tr>\n",
       "      <th>8</th>\n",
       "      <td>6 days ago\\nFedEx(FDX)\\n252.223.18(1.28%)</td>\n",
       "      <td>$332.71</td>\n",
       "      <td>Moderate Buy</td>\n",
       "    </tr>\n",
       "    <tr>\n",
       "      <th>9</th>\n",
       "      <td>Today\\nIntel(INTC)\\n56.953.71(6.97%)</td>\n",
       "      <td>$54.15</td>\n",
       "      <td>Hold</td>\n",
       "    </tr>\n",
       "    <tr>\n",
       "      <th>10</th>\n",
       "      <td>Today\\nTwitter(TWTR)\\n47.220.18(0.38%)</td>\n",
       "      <td>$51.08</td>\n",
       "      <td>Moderate Buy</td>\n",
       "    </tr>\n",
       "    <tr>\n",
       "      <th>11</th>\n",
       "      <td>2 days ago\\nPalo Alto Networks(PANW)\\n365.804....</td>\n",
       "      <td>$367.88</td>\n",
       "      <td>Strong Buy</td>\n",
       "    </tr>\n",
       "    <tr>\n",
       "      <th>12</th>\n",
       "      <td>5 days ago\\nConstellation Brands(STZ)\\n224.573...</td>\n",
       "      <td>$249.44</td>\n",
       "      <td>Moderate Buy</td>\n",
       "    </tr>\n",
       "    <tr>\n",
       "      <th>13</th>\n",
       "      <td>Yesterday\\nGilead Sciences(GILD)\\n61.540.54(0....</td>\n",
       "      <td>$74.06</td>\n",
       "      <td>Moderate Buy</td>\n",
       "    </tr>\n",
       "    <tr>\n",
       "      <th>14</th>\n",
       "      <td>2 days ago\\nPaychex(PAYX)\\n89.561.16(1.28%)</td>\n",
       "      <td>$97.00</td>\n",
       "      <td>Hold</td>\n",
       "    </tr>\n",
       "    <tr>\n",
       "      <th>15</th>\n",
       "      <td>Today\\nZscaler(ZS)\\n207.081.18(0.57%)</td>\n",
       "      <td>$208.94</td>\n",
       "      <td>Moderate Buy</td>\n",
       "    </tr>\n",
       "    <tr>\n",
       "      <th>16</th>\n",
       "      <td>9 days ago\\nDoorDash(DASH)\\n198.006.01(3.13%)</td>\n",
       "      <td>$160.92</td>\n",
       "      <td>Moderate Buy</td>\n",
       "    </tr>\n",
       "    <tr>\n",
       "      <th>17</th>\n",
       "      <td>Today\\nAlibaba(BABA)\\n235.309.70(4.30%)</td>\n",
       "      <td>$333.44</td>\n",
       "      <td>Strong Buy</td>\n",
       "    </tr>\n",
       "    <tr>\n",
       "      <th>18</th>\n",
       "      <td>Today\\nPeloton Interactive(PTON)\\n167.4211.38(...</td>\n",
       "      <td>$153.52</td>\n",
       "      <td>Strong Buy</td>\n",
       "    </tr>\n",
       "    <tr>\n",
       "      <th>19</th>\n",
       "      <td>Yesterday\\nApple(AAPL)\\n130.892.09(1.62%)</td>\n",
       "      <td>$132.32</td>\n",
       "      <td>Moderate Buy</td>\n",
       "    </tr>\n",
       "    <tr>\n",
       "      <th>20</th>\n",
       "      <td>5 days ago\\nL Brands(LB)\\n46.161.13(2.39%)</td>\n",
       "      <td>$46.72</td>\n",
       "      <td>Moderate Buy</td>\n",
       "    </tr>\n",
       "  </tbody>\n",
       "</table>\n",
       "</div>"
      ],
      "text/plain": [
       "                                           Stock_info Price_Target  \\\n",
       "1         2 days ago\\nAirbnb(ABNB)\\n169.999.19(5.72%)      $154.92   \n",
       "2            9 days ago\\nNike(NKE)\\n143.042.01(1.39%)      $163.07   \n",
       "3            5 days ago\\nMicron(MU)\\n79.910.45(0.57%)       $96.92   \n",
       "4          6 days ago\\nDarden(DRI)\\n124.862.47(1.94%)      $126.92   \n",
       "5               Today\\nTesla(TSLA)\\n854.414.97(0.59%)      $534.63   \n",
       "6   Yesterday\\nSarepta Therapeutics(SRPT)\\n87.220....      $129.27   \n",
       "7   2 days ago\\nChange Healthcare(CHNG)\\n23.910.11...       $24.66   \n",
       "8           6 days ago\\nFedEx(FDX)\\n252.223.18(1.28%)      $332.71   \n",
       "9                Today\\nIntel(INTC)\\n56.953.71(6.97%)       $54.15   \n",
       "10             Today\\nTwitter(TWTR)\\n47.220.18(0.38%)       $51.08   \n",
       "11  2 days ago\\nPalo Alto Networks(PANW)\\n365.804....      $367.88   \n",
       "12  5 days ago\\nConstellation Brands(STZ)\\n224.573...      $249.44   \n",
       "13  Yesterday\\nGilead Sciences(GILD)\\n61.540.54(0....       $74.06   \n",
       "14        2 days ago\\nPaychex(PAYX)\\n89.561.16(1.28%)       $97.00   \n",
       "15              Today\\nZscaler(ZS)\\n207.081.18(0.57%)      $208.94   \n",
       "16      9 days ago\\nDoorDash(DASH)\\n198.006.01(3.13%)      $160.92   \n",
       "17            Today\\nAlibaba(BABA)\\n235.309.70(4.30%)      $333.44   \n",
       "18  Today\\nPeloton Interactive(PTON)\\n167.4211.38(...      $153.52   \n",
       "19          Yesterday\\nApple(AAPL)\\n130.892.09(1.62%)      $132.32   \n",
       "20         5 days ago\\nL Brands(LB)\\n46.161.13(2.39%)       $46.72   \n",
       "\n",
       "       Consensus  \n",
       "1   Moderate Buy  \n",
       "2     Strong Buy  \n",
       "3     Strong Buy  \n",
       "4   Moderate Buy  \n",
       "5           Hold  \n",
       "6   Moderate Buy  \n",
       "7           Hold  \n",
       "8   Moderate Buy  \n",
       "9           Hold  \n",
       "10  Moderate Buy  \n",
       "11    Strong Buy  \n",
       "12  Moderate Buy  \n",
       "13  Moderate Buy  \n",
       "14          Hold  \n",
       "15  Moderate Buy  \n",
       "16  Moderate Buy  \n",
       "17    Strong Buy  \n",
       "18    Strong Buy  \n",
       "19  Moderate Buy  \n",
       "20  Moderate Buy  "
      ]
     },
     "execution_count": 14,
     "metadata": {},
     "output_type": "execute_result"
    }
   ],
   "source": [
    "df_stock_rec= df_stock_rec.drop(df_stock_rec.index[0])\n",
    "df_stock_rec"
   ]
  },
  {
   "cell_type": "markdown",
   "metadata": {},
   "source": [
    "# Feature Engineering\n",
    "- Extract Stock symbols\n",
    "- Extract Stock Upgrade Time\n",
    "- Extract Stock Current Price\n",
    "- Change Data Type. EG: Stock Price (Object) --> Float"
   ]
  },
  {
   "cell_type": "code",
   "execution_count": 15,
   "metadata": {},
   "outputs": [],
   "source": [
    "import re # Regular Expression COMPILER"
   ]
  },
  {
   "cell_type": "markdown",
   "metadata": {},
   "source": [
    "# EXMPLE of RAW DATA"
   ]
  },
  {
   "cell_type": "code",
   "execution_count": 16,
   "metadata": {},
   "outputs": [
    {
     "data": {
      "text/plain": [
       "'5 days ago\\nMicron(MU)\\n79.910.45(0.57%)'"
      ]
     },
     "execution_count": 16,
     "metadata": {},
     "output_type": "execute_result"
    }
   ],
   "source": [
    "MU= df_stock_rec.iloc[2, 0]\n",
    "MU"
   ]
  },
  {
   "cell_type": "markdown",
   "metadata": {},
   "source": [
    "# Creating a Function that will COMPILE and MANIPULATE the STRINGS that has been EXTRACTED"
   ]
  },
  {
   "cell_type": "markdown",
   "metadata": {},
   "source": [
    "# 1. Stock Symbol Extract"
   ]
  },
  {
   "cell_type": "code",
   "execution_count": 17,
   "metadata": {},
   "outputs": [],
   "source": [
    "def extract_sym(stk):\n",
    "    \n",
    "    # checks over the strings that are UPPERCASE repeated Consecutively\n",
    "    split_wd= re.compile('\\(+[A-Z]+\\)')\n",
    "    symbl= split_wd.findall(stk)\n",
    "\n",
    "    # Stored on LIST\n",
    "    symbl_extracted= symbl[0]\n",
    "\n",
    "    # Replace any Signs\n",
    "    new_sym= symbl_extracted.replace('(','')\n",
    "    new_sym= new_sym.replace(')','')\n",
    "    return new_sym"
   ]
  },
  {
   "cell_type": "code",
   "execution_count": 18,
   "metadata": {},
   "outputs": [
    {
     "data": {
      "text/plain": [
       "'INTC'"
      ]
     },
     "execution_count": 18,
     "metadata": {},
     "output_type": "execute_result"
    }
   ],
   "source": [
    "stk_id= df_stock_rec.iloc[8, 0]\n",
    "extract_sym(stk_id)"
   ]
  },
  {
   "cell_type": "code",
   "execution_count": 19,
   "metadata": {},
   "outputs": [],
   "source": [
    "# EMPTY list for STOCK symbols\n",
    "stock_symbol= []\n",
    "\n",
    "for stock_num in range(len(df_stock_rec)):\n",
    "    #print(df_stock_rec.iloc[stock_num, 0],'\\n*****')\n",
    "    \n",
    "    stock_id= df_stock_rec.iloc[stock_num, 0]\n",
    "    # adding the SYMBOLS in a new LIST\n",
    "    stock_symbol.append(extract_sym(stock_id))"
   ]
  },
  {
   "cell_type": "code",
   "execution_count": 20,
   "metadata": {},
   "outputs": [
    {
     "data": {
      "text/plain": [
       "['ABNB',\n",
       " 'NKE',\n",
       " 'MU',\n",
       " 'DRI',\n",
       " 'TSLA',\n",
       " 'SRPT',\n",
       " 'CHNG',\n",
       " 'FDX',\n",
       " 'INTC',\n",
       " 'TWTR',\n",
       " 'PANW',\n",
       " 'STZ',\n",
       " 'GILD',\n",
       " 'PAYX',\n",
       " 'ZS',\n",
       " 'DASH',\n",
       " 'BABA',\n",
       " 'PTON',\n",
       " 'AAPL',\n",
       " 'LB']"
      ]
     },
     "execution_count": 20,
     "metadata": {},
     "output_type": "execute_result"
    }
   ],
   "source": [
    "stock_symbol"
   ]
  },
  {
   "cell_type": "markdown",
   "metadata": {},
   "source": [
    "# CREATING a new column on DATA FRAME"
   ]
  },
  {
   "cell_type": "code",
   "execution_count": 21,
   "metadata": {},
   "outputs": [],
   "source": [
    "df_stock_rec['stock']= pd.Series(stock_symbol, index= df_stock_rec.index)"
   ]
  },
  {
   "cell_type": "code",
   "execution_count": 22,
   "metadata": {},
   "outputs": [
    {
     "data": {
      "text/plain": [
       "'$154.92'"
      ]
     },
     "execution_count": 22,
     "metadata": {},
     "output_type": "execute_result"
    }
   ],
   "source": [
    "df_stock_rec.iloc[0, 1]"
   ]
  },
  {
   "cell_type": "markdown",
   "metadata": {},
   "source": [
    "# REMOVE expression from Price_Target Column\n",
    "# Change the Data Type of 'Price_Target' Column"
   ]
  },
  {
   "cell_type": "code",
   "execution_count": 23,
   "metadata": {},
   "outputs": [],
   "source": [
    "# REMOVE '$' SIGN \n",
    "\n",
    "for dollar in range(len(df_stock_rec['Price_Target'])):\n",
    "    df_stock_rec['Price_Target']= df_stock_rec['Price_Target'].str.replace('$','')"
   ]
  },
  {
   "cell_type": "code",
   "execution_count": 24,
   "metadata": {},
   "outputs": [
    {
     "data": {
      "text/html": [
       "<div>\n",
       "<style scoped>\n",
       "    .dataframe tbody tr th:only-of-type {\n",
       "        vertical-align: middle;\n",
       "    }\n",
       "\n",
       "    .dataframe tbody tr th {\n",
       "        vertical-align: top;\n",
       "    }\n",
       "\n",
       "    .dataframe thead th {\n",
       "        text-align: right;\n",
       "    }\n",
       "</style>\n",
       "<table border=\"1\" class=\"dataframe\">\n",
       "  <thead>\n",
       "    <tr style=\"text-align: right;\">\n",
       "      <th></th>\n",
       "      <th>Stock_info</th>\n",
       "      <th>Price_Target</th>\n",
       "      <th>Consensus</th>\n",
       "      <th>stock</th>\n",
       "    </tr>\n",
       "  </thead>\n",
       "  <tbody>\n",
       "    <tr>\n",
       "      <th>1</th>\n",
       "      <td>2 days ago\\nAirbnb(ABNB)\\n169.999.19(5.72%)</td>\n",
       "      <td>154.92</td>\n",
       "      <td>Moderate Buy</td>\n",
       "      <td>ABNB</td>\n",
       "    </tr>\n",
       "    <tr>\n",
       "      <th>2</th>\n",
       "      <td>9 days ago\\nNike(NKE)\\n143.042.01(1.39%)</td>\n",
       "      <td>163.07</td>\n",
       "      <td>Strong Buy</td>\n",
       "      <td>NKE</td>\n",
       "    </tr>\n",
       "    <tr>\n",
       "      <th>3</th>\n",
       "      <td>5 days ago\\nMicron(MU)\\n79.910.45(0.57%)</td>\n",
       "      <td>96.92</td>\n",
       "      <td>Strong Buy</td>\n",
       "      <td>MU</td>\n",
       "    </tr>\n",
       "    <tr>\n",
       "      <th>4</th>\n",
       "      <td>6 days ago\\nDarden(DRI)\\n124.862.47(1.94%)</td>\n",
       "      <td>126.92</td>\n",
       "      <td>Moderate Buy</td>\n",
       "      <td>DRI</td>\n",
       "    </tr>\n",
       "    <tr>\n",
       "      <th>5</th>\n",
       "      <td>Today\\nTesla(TSLA)\\n854.414.97(0.59%)</td>\n",
       "      <td>534.63</td>\n",
       "      <td>Hold</td>\n",
       "      <td>TSLA</td>\n",
       "    </tr>\n",
       "    <tr>\n",
       "      <th>6</th>\n",
       "      <td>Yesterday\\nSarepta Therapeutics(SRPT)\\n87.220....</td>\n",
       "      <td>129.27</td>\n",
       "      <td>Moderate Buy</td>\n",
       "      <td>SRPT</td>\n",
       "    </tr>\n",
       "    <tr>\n",
       "      <th>7</th>\n",
       "      <td>2 days ago\\nChange Healthcare(CHNG)\\n23.910.11...</td>\n",
       "      <td>24.66</td>\n",
       "      <td>Hold</td>\n",
       "      <td>CHNG</td>\n",
       "    </tr>\n",
       "    <tr>\n",
       "      <th>8</th>\n",
       "      <td>6 days ago\\nFedEx(FDX)\\n252.223.18(1.28%)</td>\n",
       "      <td>332.71</td>\n",
       "      <td>Moderate Buy</td>\n",
       "      <td>FDX</td>\n",
       "    </tr>\n",
       "    <tr>\n",
       "      <th>9</th>\n",
       "      <td>Today\\nIntel(INTC)\\n56.953.71(6.97%)</td>\n",
       "      <td>54.15</td>\n",
       "      <td>Hold</td>\n",
       "      <td>INTC</td>\n",
       "    </tr>\n",
       "    <tr>\n",
       "      <th>10</th>\n",
       "      <td>Today\\nTwitter(TWTR)\\n47.220.18(0.38%)</td>\n",
       "      <td>51.08</td>\n",
       "      <td>Moderate Buy</td>\n",
       "      <td>TWTR</td>\n",
       "    </tr>\n",
       "    <tr>\n",
       "      <th>11</th>\n",
       "      <td>2 days ago\\nPalo Alto Networks(PANW)\\n365.804....</td>\n",
       "      <td>367.88</td>\n",
       "      <td>Strong Buy</td>\n",
       "      <td>PANW</td>\n",
       "    </tr>\n",
       "    <tr>\n",
       "      <th>12</th>\n",
       "      <td>5 days ago\\nConstellation Brands(STZ)\\n224.573...</td>\n",
       "      <td>249.44</td>\n",
       "      <td>Moderate Buy</td>\n",
       "      <td>STZ</td>\n",
       "    </tr>\n",
       "    <tr>\n",
       "      <th>13</th>\n",
       "      <td>Yesterday\\nGilead Sciences(GILD)\\n61.540.54(0....</td>\n",
       "      <td>74.06</td>\n",
       "      <td>Moderate Buy</td>\n",
       "      <td>GILD</td>\n",
       "    </tr>\n",
       "    <tr>\n",
       "      <th>14</th>\n",
       "      <td>2 days ago\\nPaychex(PAYX)\\n89.561.16(1.28%)</td>\n",
       "      <td>97.00</td>\n",
       "      <td>Hold</td>\n",
       "      <td>PAYX</td>\n",
       "    </tr>\n",
       "    <tr>\n",
       "      <th>15</th>\n",
       "      <td>Today\\nZscaler(ZS)\\n207.081.18(0.57%)</td>\n",
       "      <td>208.94</td>\n",
       "      <td>Moderate Buy</td>\n",
       "      <td>ZS</td>\n",
       "    </tr>\n",
       "    <tr>\n",
       "      <th>16</th>\n",
       "      <td>9 days ago\\nDoorDash(DASH)\\n198.006.01(3.13%)</td>\n",
       "      <td>160.92</td>\n",
       "      <td>Moderate Buy</td>\n",
       "      <td>DASH</td>\n",
       "    </tr>\n",
       "    <tr>\n",
       "      <th>17</th>\n",
       "      <td>Today\\nAlibaba(BABA)\\n235.309.70(4.30%)</td>\n",
       "      <td>333.44</td>\n",
       "      <td>Strong Buy</td>\n",
       "      <td>BABA</td>\n",
       "    </tr>\n",
       "    <tr>\n",
       "      <th>18</th>\n",
       "      <td>Today\\nPeloton Interactive(PTON)\\n167.4211.38(...</td>\n",
       "      <td>153.52</td>\n",
       "      <td>Strong Buy</td>\n",
       "      <td>PTON</td>\n",
       "    </tr>\n",
       "    <tr>\n",
       "      <th>19</th>\n",
       "      <td>Yesterday\\nApple(AAPL)\\n130.892.09(1.62%)</td>\n",
       "      <td>132.32</td>\n",
       "      <td>Moderate Buy</td>\n",
       "      <td>AAPL</td>\n",
       "    </tr>\n",
       "    <tr>\n",
       "      <th>20</th>\n",
       "      <td>5 days ago\\nL Brands(LB)\\n46.161.13(2.39%)</td>\n",
       "      <td>46.72</td>\n",
       "      <td>Moderate Buy</td>\n",
       "      <td>LB</td>\n",
       "    </tr>\n",
       "  </tbody>\n",
       "</table>\n",
       "</div>"
      ],
      "text/plain": [
       "                                           Stock_info  Price_Target  \\\n",
       "1         2 days ago\\nAirbnb(ABNB)\\n169.999.19(5.72%)        154.92   \n",
       "2            9 days ago\\nNike(NKE)\\n143.042.01(1.39%)        163.07   \n",
       "3            5 days ago\\nMicron(MU)\\n79.910.45(0.57%)         96.92   \n",
       "4          6 days ago\\nDarden(DRI)\\n124.862.47(1.94%)        126.92   \n",
       "5               Today\\nTesla(TSLA)\\n854.414.97(0.59%)        534.63   \n",
       "6   Yesterday\\nSarepta Therapeutics(SRPT)\\n87.220....        129.27   \n",
       "7   2 days ago\\nChange Healthcare(CHNG)\\n23.910.11...         24.66   \n",
       "8           6 days ago\\nFedEx(FDX)\\n252.223.18(1.28%)        332.71   \n",
       "9                Today\\nIntel(INTC)\\n56.953.71(6.97%)         54.15   \n",
       "10             Today\\nTwitter(TWTR)\\n47.220.18(0.38%)         51.08   \n",
       "11  2 days ago\\nPalo Alto Networks(PANW)\\n365.804....        367.88   \n",
       "12  5 days ago\\nConstellation Brands(STZ)\\n224.573...        249.44   \n",
       "13  Yesterday\\nGilead Sciences(GILD)\\n61.540.54(0....         74.06   \n",
       "14        2 days ago\\nPaychex(PAYX)\\n89.561.16(1.28%)         97.00   \n",
       "15              Today\\nZscaler(ZS)\\n207.081.18(0.57%)        208.94   \n",
       "16      9 days ago\\nDoorDash(DASH)\\n198.006.01(3.13%)        160.92   \n",
       "17            Today\\nAlibaba(BABA)\\n235.309.70(4.30%)        333.44   \n",
       "18  Today\\nPeloton Interactive(PTON)\\n167.4211.38(...        153.52   \n",
       "19          Yesterday\\nApple(AAPL)\\n130.892.09(1.62%)        132.32   \n",
       "20         5 days ago\\nL Brands(LB)\\n46.161.13(2.39%)         46.72   \n",
       "\n",
       "       Consensus stock  \n",
       "1   Moderate Buy  ABNB  \n",
       "2     Strong Buy   NKE  \n",
       "3     Strong Buy    MU  \n",
       "4   Moderate Buy   DRI  \n",
       "5           Hold  TSLA  \n",
       "6   Moderate Buy  SRPT  \n",
       "7           Hold  CHNG  \n",
       "8   Moderate Buy   FDX  \n",
       "9           Hold  INTC  \n",
       "10  Moderate Buy  TWTR  \n",
       "11    Strong Buy  PANW  \n",
       "12  Moderate Buy   STZ  \n",
       "13  Moderate Buy  GILD  \n",
       "14          Hold  PAYX  \n",
       "15  Moderate Buy    ZS  \n",
       "16  Moderate Buy  DASH  \n",
       "17    Strong Buy  BABA  \n",
       "18    Strong Buy  PTON  \n",
       "19  Moderate Buy  AAPL  \n",
       "20  Moderate Buy    LB  "
      ]
     },
     "execution_count": 24,
     "metadata": {},
     "output_type": "execute_result"
    }
   ],
   "source": [
    "# Change Data Type of Price Target Values\n",
    "\n",
    "for dollar in range(len(df_stock_rec['Price_Target'])):\n",
    "    df_stock_rec['Price_Target']= df_stock_rec['Price_Target'].astype(float)\n",
    "    \n",
    "df_stock_rec"
   ]
  },
  {
   "cell_type": "code",
   "execution_count": 25,
   "metadata": {},
   "outputs": [
    {
     "name": "stdout",
     "output_type": "stream",
     "text": [
      "<class 'pandas.core.frame.DataFrame'>\n",
      "Int64Index: 20 entries, 1 to 20\n",
      "Data columns (total 4 columns):\n",
      " #   Column        Non-Null Count  Dtype  \n",
      "---  ------        --------------  -----  \n",
      " 0   Stock_info    20 non-null     object \n",
      " 1   Price_Target  20 non-null     float64\n",
      " 2   Consensus     20 non-null     object \n",
      " 3   stock         20 non-null     object \n",
      "dtypes: float64(1), object(3)\n",
      "memory usage: 800.0+ bytes\n"
     ]
    }
   ],
   "source": [
    "df_stock_rec.info()"
   ]
  },
  {
   "cell_type": "code",
   "execution_count": null,
   "metadata": {},
   "outputs": [],
   "source": []
  },
  {
   "cell_type": "code",
   "execution_count": null,
   "metadata": {},
   "outputs": [],
   "source": []
  },
  {
   "cell_type": "code",
   "execution_count": null,
   "metadata": {},
   "outputs": [],
   "source": []
  },
  {
   "cell_type": "markdown",
   "metadata": {},
   "source": [
    "# 2. Time of Stock Upgrade"
   ]
  },
  {
   "cell_type": "code",
   "execution_count": null,
   "metadata": {},
   "outputs": [],
   "source": []
  },
  {
   "cell_type": "code",
   "execution_count": null,
   "metadata": {},
   "outputs": [],
   "source": []
  },
  {
   "cell_type": "markdown",
   "metadata": {},
   "source": [
    "# 3. Current Stock Price"
   ]
  },
  {
   "cell_type": "code",
   "execution_count": 26,
   "metadata": {},
   "outputs": [
    {
     "data": {
      "text/plain": [
       "'5 days ago\\nMicron(MU)\\n79.910.45(0.57%)'"
      ]
     },
     "execution_count": 26,
     "metadata": {},
     "output_type": "execute_result"
    }
   ],
   "source": [
    "MU # EXAMPLE, info to EXTRACT"
   ]
  },
  {
   "cell_type": "code",
   "execution_count": 27,
   "metadata": {},
   "outputs": [],
   "source": [
    "def extract_time_stk_upgrade(stk):\n",
    "    \n",
    "    # checks over the strings that are UPPERCASE repeated Consecutively\n",
    "    split_wd= re.compile('[a-z][0-9]+\\(')\n",
    "    symbl= split_wd.findall(stk)\n",
    "\n",
    "    # Stored on LIST\n",
    "    symbl_extracted= symbl[0]\n",
    "\n",
    "    # Replace any Signs\n",
    "    new_sym= symbl_extracted.replace('(','')\n",
    "    new_sym= new_sym.replace(')','')\n",
    "    return new_sym"
   ]
  },
  {
   "cell_type": "code",
   "execution_count": 36,
   "metadata": {},
   "outputs": [
    {
     "data": {
      "text/plain": [
       "'5 days ago\\nMicron(MU)\\n79.910.45(0.57%)'"
      ]
     },
     "execution_count": 36,
     "metadata": {},
     "output_type": "execute_result"
    }
   ],
   "source": [
    "MU"
   ]
  },
  {
   "cell_type": "code",
   "execution_count": 60,
   "metadata": {},
   "outputs": [
    {
     "data": {
      "text/plain": [
       "['9.91', '0.45', '0.57']"
      ]
     },
     "execution_count": 60,
     "metadata": {},
     "output_type": "execute_result"
    }
   ],
   "source": [
    "stk_cur_price= re.compile('n[0-9].[0-9].')\n",
    "stk_cur_price.findall(MU)"
   ]
  },
  {
   "cell_type": "code",
   "execution_count": null,
   "metadata": {},
   "outputs": [],
   "source": []
  },
  {
   "cell_type": "code",
   "execution_count": null,
   "metadata": {},
   "outputs": [],
   "source": []
  },
  {
   "cell_type": "markdown",
   "metadata": {},
   "source": [
    "# SCATTER PLOT:\n",
    "- Actual Market Price and Target Price"
   ]
  },
  {
   "cell_type": "code",
   "execution_count": 30,
   "metadata": {},
   "outputs": [],
   "source": [
    "import seaborn as sns; sns.set()"
   ]
  },
  {
   "cell_type": "code",
   "execution_count": 31,
   "metadata": {},
   "outputs": [
    {
     "data": {
      "image/png": "[encoded data removed]",
      "text/plain": [
       "<Figure size 648x360 with 1 Axes>"
      ]
     },
     "metadata": {},
     "output_type": "display_data"
    }
   ],
   "source": [
    "plt.scatter(df_stock_rec['stock'], df_stock_rec['Price_Target'])\n",
    "plt.gcf().set_size_inches(9,5)\n",
    "plt.xticks(rotation= 75);"
   ]
  },
  {
   "cell_type": "code",
   "execution_count": null,
   "metadata": {},
   "outputs": [],
   "source": []
  },
  {
   "cell_type": "code",
   "execution_count": null,
   "metadata": {},
   "outputs": [],
   "source": []
  },
  {
   "cell_type": "code",
   "execution_count": null,
   "metadata": {},
   "outputs": [],
   "source": []
  }
 ],
 "metadata": {
  "kernelspec": {
   "display_name": "Python 3",
   "language": "python",
   "name": "python3"
  },
  "language_info": {
   "codemirror_mode": {
    "name": "ipython",
    "version": 3
   },
   "file_extension": ".py",
   "mimetype": "text/x-python",
   "name": "python",
   "nbconvert_exporter": "python",
   "pygments_lexer": "ipython3",
   "version": "3.8.5"
  }
 },
 "nbformat": 4,
 "nbformat_minor": 4
}
