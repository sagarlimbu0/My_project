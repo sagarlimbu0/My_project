{
 "cells": [
  {
   "cell_type": "code",
   "execution_count": 1,
   "metadata": {},
   "outputs": [],
   "source": [
    "from bs4 import BeautifulSoup\n",
    "import requests"
   ]
  },
  {
   "cell_type": "code",
   "execution_count": 10,
   "metadata": {},
   "outputs": [],
   "source": [
    "url= 'http://www.webscrapingfordatascience.com/postform/'"
   ]
  },
  {
   "cell_type": "code",
   "execution_count": 11,
   "metadata": {},
   "outputs": [],
   "source": [
    "r= requests.get(url)"
   ]
  },
  {
   "cell_type": "markdown",
   "metadata": {},
   "source": [
    "# FORM DATA"
   ]
  },
  {
   "cell_type": "code",
   "execution_count": 15,
   "metadata": {},
   "outputs": [],
   "source": [
    "form_data={\n",
    "    'name': 'hero',\n",
    "    'gender': 'M',\n",
    "    'pizza': 'like',\n",
    "    'haircolor': 'brown',\n",
    "    'comments': 'herosima is the name'\n",
    "}"
   ]
  },
  {
   "cell_type": "markdown",
   "metadata": {},
   "source": [
    "# POST to insert the data\n",
    "- here, just like PARAMs, the data argument is supplied as PYTHON dicitionary object representing NAME-VALUE pairs"
   ]
  },
  {
   "cell_type": "code",
   "execution_count": 16,
   "metadata": {},
   "outputs": [],
   "source": [
    "r= requests.post(url, data= form_data)"
   ]
  },
  {
   "cell_type": "code",
   "execution_count": 17,
   "metadata": {},
   "outputs": [
    {
     "name": "stdout",
     "output_type": "stream",
     "text": [
      "<html>\r\n",
      "\t<body>\r\n",
      "\t\t\r\n",
      "\t\t<form method=\"POST\">\r\n",
      "\r\n",
      "\t\t\t<table border=\"1\">\r\n",
      "\t\t\t\t<tr style=\"background-color: #24afe2;\"><th>Name</th><th>Value</th></tr>\r\n",
      "\r\n",
      "\t\t\t\t<tr><td>Your name</td>\r\n",
      "\t\t\t\t\t<td><input type=\"text\" name=\"name\"></td></tr>\r\n",
      "\r\n",
      "\t\t\t\t<tr><td>Your gender</td>\r\n",
      "\t\t\t\t\t<td><input type=\"radio\" name=\"gender\" value=\"M\">Male<br>\r\n",
      "\t\t\t\t\t\t<input type=\"radio\" name=\"gender\" value=\"F\">Female<br>\r\n",
      "\t\t\t\t\t\t<input type=\"radio\" name=\"gender\" value=\"N\">Other / prefer not to say</td></tr>\r\n",
      "\r\n",
      "\t\t\t\t<tr><td>Food you like</td>\r\n",
      "\t\t\t\t\t<td><input type=\"checkbox\" name=\"pizza\" value=\"like\">Pizza!<br>\r\n",
      "\t\t\t\t\t\t<input type=\"checkbox\" name=\"fries\" value=\"like\">Fries please<br>\r\n",
      "\t\t\t\t\t\t<input type=\"checkbox\" name=\"salad\" value=\"like\">Salad for me</td></tr>\r\n",
      "\r\n",
      "\t\t\t\t<tr><td>Your hair color</td>\r\n",
      "\t\t\t\t\t<td>\r\n",
      "\t\t\t\t\t\t<select name=\"haircolor\">\r\n",
      "\t\t\t\t\t\t\t<option value=\"black\">Black hair</option>\r\n",
      "\t\t\t\t\t\t\t<option value=\"brown\">Brown hair</option>\r\n",
      "\t\t\t\t\t\t\t<option value=\"blonde\">Blonde hair</option>\r\n",
      "\t\t\t\t\t\t\t<option value=\"other\">Other</option>\r\n",
      "\t\t\t\t\t\t</select>\r\n",
      "\t\t\t\t\t</td></tr>\r\n",
      "\r\n",
      "\t\t\t\t<tr><td>Any more comments?</td>\r\n",
      "\t\t\t\t\t<td>\r\n",
      "\t\t\t\t\t\t<textarea name=\"comments\"></textarea>\r\n",
      "\t\t\t\t\t</td></tr>\r\n",
      "\r\n",
      "\t\t\t\t<tr><td>Ready?</td>\r\n",
      "\t\t\t\t\t<td>\r\n",
      "\t\t\t\t\t\t<input type=\"submit\" value=\"Submit my information\">\r\n",
      "\t\t\t\t\t</td></tr>\r\n",
      "\t\t\t</table>\r\n",
      "\r\n",
      "\t\t</form>\r\n",
      "\r\n",
      "\t</body>\r\n",
      "</html>\r\n",
      "\n"
     ]
    }
   ],
   "source": [
    "print(r.text)"
   ]
  },
  {
   "cell_type": "markdown",
   "metadata": {},
   "source": [
    "# EG on psot FORM 3"
   ]
  },
  {
   "cell_type": "code",
   "execution_count": 44,
   "metadata": {},
   "outputs": [],
   "source": [
    "url= 'http://www.webscrapingfordatascience.com/postform3/'\n",
    "form_data={\n",
    "    'name':'herosima',\n",
    "    'gender':'M',\n",
    "    'pizza':'like',\n",
    "    'haircolor':'black',\n",
    "    'comments':'',\n",
    "    'protection':'c685fe3c075f3fafa98dd1a383005af0'\n",
    "}"
   ]
  },
  {
   "cell_type": "code",
   "execution_count": 45,
   "metadata": {},
   "outputs": [],
   "source": [
    "r= requests.post(url, form_data)"
   ]
  },
  {
   "cell_type": "code",
   "execution_count": 46,
   "metadata": {},
   "outputs": [
    {
     "name": "stdout",
     "output_type": "stream",
     "text": [
      "<html>\r\n",
      "\t<body>\r\n",
      "\r\n",
      "\r\n",
      "You waited too long to submit this information. Try <a href=\"./\">again</a>.\r\n",
      "\r\n",
      "\t</body>\r\n",
      "</html>\r\n",
      "\n"
     ]
    }
   ],
   "source": [
    "print(r.text)"
   ]
  },
  {
   "cell_type": "markdown",
   "metadata": {},
   "source": [
    "# USING BEAUTIFUL SOUP to extract the HIDDEN ID first then pass it using POST"
   ]
  },
  {
   "cell_type": "code",
   "execution_count": 47,
   "metadata": {},
   "outputs": [],
   "source": [
    "url= 'http://www.webscrapingfordatascience.com/postform3/'\n",
    "\n",
    "r= requests.get(url)"
   ]
  },
  {
   "cell_type": "code",
   "execution_count": 48,
   "metadata": {},
   "outputs": [],
   "source": [
    "html_soup= BeautifulSoup(r.text, 'html.parser')"
   ]
  },
  {
   "cell_type": "markdown",
   "metadata": {},
   "source": [
    "# FINDING THE HIDDEN value FORM"
   ]
  },
  {
   "cell_type": "code",
   "execution_count": 49,
   "metadata": {},
   "outputs": [],
   "source": [
    "# store on P-value for PROTECTION\n",
    "p_val= html_soup.find('input', attrs={\n",
    "    'name': 'protection'\n",
    "}).get('value')"
   ]
  },
  {
   "cell_type": "code",
   "execution_count": 50,
   "metadata": {},
   "outputs": [
    {
     "name": "stdout",
     "output_type": "stream",
     "text": [
      "d279dbeae6a19caa15b3f7d0c51d4d25\n"
     ]
    }
   ],
   "source": [
    "print(p_val)"
   ]
  },
  {
   "cell_type": "markdown",
   "metadata": {},
   "source": [
    "# now enter the VALUE retrieved from the HIDDEN form"
   ]
  },
  {
   "cell_type": "code",
   "execution_count": 51,
   "metadata": {},
   "outputs": [],
   "source": [
    "form_data={\n",
    "    'name' :'herosima',\n",
    "    'gender':'M',\n",
    "    'pizza':'like',\n",
    "    'haircolor': 'brown',\n",
    "    'comments':'',\n",
    "    'protection':p_val\n",
    "}\n"
   ]
  },
  {
   "cell_type": "raw",
   "metadata": {},
   "source": [
    "r= requests.post(url, data= form_data)\n"
   ]
  },
  {
   "cell_type": "code",
   "execution_count": 52,
   "metadata": {},
   "outputs": [
    {
     "name": "stdout",
     "output_type": "stream",
     "text": [
      "<html>\r\n",
      "\t<body>\r\n",
      "\r\n",
      "\r\n",
      "\t\t\r\n",
      "\t\t<form method=\"POST\">\r\n",
      "\r\n",
      "                        <input type=\"hidden\" name=\"protection\" value=\"d279dbeae6a19caa15b3f7d0c51d4d25\">\r\n",
      "\r\n",
      "\t\t\t<table border=\"1\">\r\n",
      "\t\t\t\t<tr style=\"background-color: #24afe2;\"><th>Name</th><th>Value</th></tr>\r\n",
      "\r\n",
      "\t\t\t\t<tr><td>Your name</td>\r\n",
      "\t\t\t\t\t<td><input type=\"text\" name=\"name\"></td></tr>\r\n",
      "\r\n",
      "\t\t\t\t<tr><td>Your gender</td>\r\n",
      "\t\t\t\t\t<td><input type=\"radio\" name=\"gender\" value=\"M\">Male<br>\r\n",
      "\t\t\t\t\t\t<input type=\"radio\" name=\"gender\" value=\"F\">Female<br>\r\n",
      "\t\t\t\t\t\t<input type=\"radio\" name=\"gender\" value=\"N\">Other / prefer not to say</td></tr>\r\n",
      "\r\n",
      "\t\t\t\t<tr><td>Food you like</td>\r\n",
      "\t\t\t\t\t<td><input type=\"checkbox\" name=\"pizza\" value=\"like\">Pizza!<br>\r\n",
      "\t\t\t\t\t\t<input type=\"checkbox\" name=\"fries\" value=\"like\">Fries please<br>\r\n",
      "\t\t\t\t\t\t<input type=\"checkbox\" name=\"salad\" value=\"like\">Salad for me</td></tr>\r\n",
      "\r\n",
      "\t\t\t\t<tr><td>Your hair color</td>\r\n",
      "\t\t\t\t\t<td>\r\n",
      "\t\t\t\t\t\t<select name=\"haircolor\">\r\n",
      "\t\t\t\t\t\t\t<option value=\"black\">Black hair</option>\r\n",
      "\t\t\t\t\t\t\t<option value=\"brown\">Brown hair</option>\r\n",
      "\t\t\t\t\t\t\t<option value=\"blonde\">Blonde hair</option>\r\n",
      "\t\t\t\t\t\t\t<option value=\"other\">Other</option>\r\n",
      "\t\t\t\t\t\t</select>\r\n",
      "\t\t\t\t\t</td></tr>\r\n",
      "\r\n",
      "\t\t\t\t<tr><td>Any more comments?</td>\r\n",
      "\t\t\t\t\t<td>\r\n",
      "\t\t\t\t\t\t<textarea name=\"comments\"></textarea>\r\n",
      "\t\t\t\t\t</td></tr>\r\n",
      "\r\n",
      "\t\t\t\t<tr><td>Ready?</td>\r\n",
      "\t\t\t\t\t<td>\r\n",
      "\t\t\t\t\t\t<input type=\"submit\" value=\"Submit my information\">\r\n",
      "\t\t\t\t\t</td></tr>\r\n",
      "\t\t\t</table>\r\n",
      "\r\n",
      "\t\t</form>\r\n",
      "\r\n",
      "\r\n",
      "\t</body>\r\n",
      "</html>\r\n",
      "\n"
     ]
    }
   ],
   "source": [
    "print(r.text)"
   ]
  },
  {
   "cell_type": "code",
   "execution_count": null,
   "metadata": {},
   "outputs": [],
   "source": []
  }
 ],
 "metadata": {
  "kernelspec": {
   "display_name": "Python 3",
   "language": "python",
   "name": "python3"
  },
  "language_info": {
   "codemirror_mode": {
    "name": "ipython",
    "version": 3
   },
   "file_extension": ".py",
   "mimetype": "text/x-python",
   "name": "python",
   "nbconvert_exporter": "python",
   "pygments_lexer": "ipython3",
   "version": "3.8.5"
  }
 },
 "nbformat": 4,
 "nbformat_minor": 4
}
