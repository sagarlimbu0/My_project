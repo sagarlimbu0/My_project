{
 "cells": [
  {
   "cell_type": "markdown",
   "metadata": {},
   "source": [
    "# Using Beautiful SOup to extract information from WEBSITE"
   ]
  },
  {
   "cell_type": "code",
   "execution_count": 1,
   "metadata": {},
   "outputs": [],
   "source": [
    "from bs4 import BeautifulSoup\n",
    "import requests\n",
    "import urllib\n",
    "import pandas as pd\n",
    "import numpy as np"
   ]
  },
  {
   "cell_type": "code",
   "execution_count": 2,
   "metadata": {},
   "outputs": [],
   "source": [
    "url= 'https://www.tipranks.com/trending-stocks'"
   ]
  },
  {
   "cell_type": "code",
   "execution_count": 3,
   "metadata": {},
   "outputs": [],
   "source": [
    "site= requests.get(url)\n",
    "browser= urllib.request.urlopen(url)"
   ]
  },
  {
   "cell_type": "code",
   "execution_count": 9,
   "metadata": {},
   "outputs": [],
   "source": [
    "htm_cont= BeautifulSoup(site.content, 'html.parser')"
   ]
  },
  {
   "cell_type": "code",
   "execution_count": 5,
   "metadata": {},
   "outputs": [],
   "source": [
    "stock_infor= htm_cont.find_all('ul', {'class': ['client-components-ratings-trending-stock-row__trendingStock client-components-ratings-ratingslist__rating client-components-ratings-ratingslist__row']})"
   ]
  },
  {
   "cell_type": "code",
   "execution_count": 11,
   "metadata": {},
   "outputs": [
    {
     "name": "stdout",
     "output_type": "stream",
     "text": [
      "<!DOCTYPE html>\n",
      "<html>\n",
      " <head style=\"display: none\" typeof=\"og:article\">\n",
      "  <meta content=\"IE=EDGE\" http-equiv=\"X-UA-Compatible\"/>\n",
      "  <meta content=\"tipranks://\" property=\"al:ios:url\"/>\n",
      "  <meta content=\"1237516490\" property=\"al:ios:app_store_id\"/>\n",
      "  <meta content=\"Smart Portfolio\" property=\"al:ios:app_name\"/>\n",
      "  <meta content=\"width=device-width, initial-scale=1.0, maximum-scale=1.0, user-scalable=no\" name=\"viewport\"/>\n",
      "  <meta charset=\"utf-8\"/>\n",
      "  <link href=\"/favicon.ico\" rel=\"icon\"/>\n",
      "  <link href=\"//trcdn.tipranks.com/website/b0b815fdc589074946ba.styles.css\" rel=\"stylesheet\"/>\n",
      "  <noscript>\n",
      "   <style>\n",
      "    .hide-no-js {\r\n",
      "        display: none;\r\n",
      "      }\r\n",
      "\r\n",
      "      .no-opacity-no-js {\r\n",
      "        opacity: 1;\r\n",
      "      }\n",
      "   </style>\n",
      "  </noscript>\n",
      "  <base href=\"/\"/>\n",
      "  <!-- Google Tag Manager -->\n",
      "  <noscript>\n",
      "   <iframe height=\"0\" src=\"//www.googletagmanager.com/ns.html?id=GTM-WMX37F&amp;pageCategory=sports&amp;visitorType=returning\" style=\"display:none;visibility:hidden\" width=\"0\">\n",
      "   </iframe>\n",
      "  </noscript>\n",
      "  <script>\n",
      "   window.setTimeout(function () {\r\n",
      "      (function (w, d, s, l, i) {\r\n",
      "        w[l] = w[l] || []; w[l].push({\r\n",
      "          'gtm.start':\r\n",
      "            new Date().getTime(), event: 'gtm.js'\r\n",
      "        }); var f = d.getElementsByTagName(s)[0],\r\n",
      "          j = d.createElement(s), dl = l != 'dataLayer' ? '&l=' + l : ''; j.async = true; j.src =\r\n",
      "            '//www.googletagmanager.com/gtm.js?id=' + i + dl; f.parentNode.insertBefore(j, f);\r\n",
      "      })(window, document, 'script', 'dataLayer', \"GTM-WMX37F\");\r\n",
      "    }, 0);\n",
      "  </script>\n",
      "  <!-- End Google Tag Manager -->\n",
      "  <link href=\"//trcdn.tipranks.com/website/b0b815fdc589074946ba.styles.css\" rel=\"stylesheet\"/>\n",
      " </head>\n",
      " <body>\n",
      "  <div id=\"app\">\n",
      "  </div>\n",
      "  <div id=\"modal\">\n",
      "  </div>\n",
      "  <script>\n",
      "   if (window.location.port !== '80') window.__env__ = 'dev';\n",
      "  </script>\n",
      "  <script>\n",
      "   window.appHash = 'b0b815fdc589074946ba';\n",
      "  </script>\n",
      "  <script src=\"https://polyfill.io/v3/polyfill.min.js\">\n",
      "  </script>\n",
      "  <script src=\"https://cdn.polyfill.io/v2/polyfill.min.js?features=Intl.~locale.en\">\n",
      "  </script>\n",
      "  <script crossorigin=\"anonymous\" integrity=\"sha384-vqdIZ/QLRwPCEuhZYvYR9a3IQPsfnOMePPc6ODEOeIZTqsZh3ox3KIp1osNKjcAw\" src=\"https://cdnjs.cloudflare.com/ajax/libs/babel-polyfill/6.13.0/polyfill.min.js\">\n",
      "  </script>\n",
      "  <script crossorigin=\"anonymous\" integrity=\"sha512-SUJujhtUWZUlwsABaZNnTFRlvCu7XGBZBL1VF33qRvvgNk3pBS9E353kcag4JAv05/nsB9sanSXFbdHAUW9+lg==\" src=\"https://cdnjs.cloudflare.com/ajax/libs/react/16.13.1/umd/react.production.min.js\">\n",
      "  </script>\n",
      "  <script crossorigin=\"anonymous\" integrity=\"sha512-SYsXmAblZhruCNUVmTp5/v2a1Fnoia06iJh3+L9B9wUaqpRVjcNBQsqAglQG9b5+IaVCfLDH5+vW923JL5epZA==\" src=\"https://cdnjs.cloudflare.com/ajax/libs/react-dom/16.13.1/umd/react-dom.production.min.js\">\n",
      "  </script>\n",
      "  <script crossorigin=\"anonymous\" integrity=\"sha256-4l+MLGOR7l/v3VuQiGgchPcP2mEDT/9zq+JTLqBdFL8=\" src=\"https://cdnjs.cloudflare.com/ajax/libs/d3/4.7.1/d3.min.js\">\n",
      "  </script>\n",
      "  <script crossorigin=\"anonymous\" integrity=\"sha256-BTdxYW4Q/a3Xudq+5aK+ucGpARRiPK8IrjcS5umC6nI=\" src=\"https://cdnjs.cloudflare.com/ajax/libs/rxjs/2.5.3/rx.lite.min.js\">\n",
      "  </script>\n",
      "  <script crossorigin=\"anonymous\" integrity=\"sha256-13JFytp+tj8jsxr6GQOVLCgcYfMUo2Paw4jVrnXLUPE=\" src=\"https://cdnjs.cloudflare.com/ajax/libs/immutable/3.8.1/immutable.min.js\">\n",
      "  </script>\n",
      "  <script crossorigin=\"anonymous\" integrity=\"sha256-J7pBqENhYJK54dGzFYvWbRUt53NcwU848aSgHjZNQp8=\" src=\"https://cdnjs.cloudflare.com/ajax/libs/react-router/3.2.1/ReactRouter.min.js\">\n",
      "  </script>\n",
      "  <script crossorigin=\"anonymous\" integrity=\"sha256-7/yoZS3548fXSRXqc/xYzjsmuW3sFKzuvOCHd06Pmps=\" src=\"https://cdnjs.cloudflare.com/ajax/libs/lodash.js/4.17.11/lodash.min.js\">\n",
      "  </script>\n",
      "  <script crossorigin=\"anonymous\" integrity=\"sha256-CutOzxCRucUsn6C6TcEYsauvvYilEniTXldPa6/wu0k=\" src=\"https://cdnjs.cloudflare.com/ajax/libs/moment.js/2.22.2/moment.min.js\">\n",
      "  </script>\n",
      "  <script crossorigin=\"anonymous\" integrity=\"sha256-/9bZi7b3Fa1NoSR9w6cUPmVXoKVL0LXl8Z86X05sjBk=\" src=\"https://cdnjs.cloudflare.com/ajax/libs/react-slick/0.23.2/react-slick.min.js\">\n",
      "  </script>\n",
      "  <script src=\"//trcdn.tipranks.com/website/b0b815fdc5.f2d99442b.styles.bundle.js\" type=\"text/javascript\">\n",
      "  </script>\n",
      "  <script src=\"//trcdn.tipranks.com/website/b0b815fdc5.f2d99442b.main.bundle.js\" type=\"text/javascript\">\n",
      "  </script>\n",
      " </body>\n",
      "</html>\n"
     ]
    }
   ],
   "source": [
    "print(htm_cont.prettify())"
   ]
  },
  {
   "cell_type": "code",
   "execution_count": 23,
   "metadata": {},
   "outputs": [
    {
     "ename": "AttributeError",
     "evalue": "ResultSet object has no attribute 'find'. You're probably treating a list of elements like a single element. Did you call find_all() when you meant to call find()?",
     "output_type": "error",
     "traceback": [
      "\u001b[1;31m---------------------------------------------------------------------------\u001b[0m",
      "\u001b[1;31mAttributeError\u001b[0m                            Traceback (most recent call last)",
      "\u001b[1;32m<ipython-input-23-6ab2fa845af0>\u001b[0m in \u001b[0;36m<module>\u001b[1;34m\u001b[0m\n\u001b[0;32m      2\u001b[0m \u001b[1;33m\u001b[0m\u001b[0m\n\u001b[0;32m      3\u001b[0m \u001b[1;33m\u001b[0m\u001b[0m\n\u001b[1;32m----> 4\u001b[1;33m \u001b[0mstk_info_rec\u001b[0m\u001b[1;33m=\u001b[0m \u001b[0msrch_cont\u001b[0m\u001b[1;33m.\u001b[0m\u001b[0mfind\u001b[0m\u001b[1;33m(\u001b[0m\u001b[0mclass_\u001b[0m\u001b[1;33m=\u001b[0m \u001b[1;34m\"client-components-ratings-trending-stock-row__trendingStock client-components-ratings-ratingslist__rating client-components-ratings-ratingslist__row\"\u001b[0m\u001b[1;33m)\u001b[0m\u001b[1;33m\u001b[0m\u001b[1;33m\u001b[0m\u001b[0m\n\u001b[0m",
      "\u001b[1;32m~\\anaconda3\\lib\\site-packages\\bs4\\element.py\u001b[0m in \u001b[0;36m__getattr__\u001b[1;34m(self, key)\u001b[0m\n\u001b[0;32m   2171\u001b[0m     \u001b[1;32mdef\u001b[0m \u001b[0m__getattr__\u001b[0m\u001b[1;33m(\u001b[0m\u001b[0mself\u001b[0m\u001b[1;33m,\u001b[0m \u001b[0mkey\u001b[0m\u001b[1;33m)\u001b[0m\u001b[1;33m:\u001b[0m\u001b[1;33m\u001b[0m\u001b[1;33m\u001b[0m\u001b[0m\n\u001b[0;32m   2172\u001b[0m         \u001b[1;34m\"\"\"Raise a helpful exception to explain a common code fix.\"\"\"\u001b[0m\u001b[1;33m\u001b[0m\u001b[1;33m\u001b[0m\u001b[0m\n\u001b[1;32m-> 2173\u001b[1;33m         raise AttributeError(\n\u001b[0m\u001b[0;32m   2174\u001b[0m             \u001b[1;34m\"ResultSet object has no attribute '%s'. You're probably treating a list of elements like a single element. Did you call find_all() when you meant to call find()?\"\u001b[0m \u001b[1;33m%\u001b[0m \u001b[0mkey\u001b[0m\u001b[1;33m\u001b[0m\u001b[1;33m\u001b[0m\u001b[0m\n\u001b[0;32m   2175\u001b[0m         )\n",
      "\u001b[1;31mAttributeError\u001b[0m: ResultSet object has no attribute 'find'. You're probably treating a list of elements like a single element. Did you call find_all() when you meant to call find()?"
     ]
    }
   ],
   "source": [
    "srch_cont= htm_cont.find_all(class_=\"client-components-ratings-ratingslist__ratings\")\n",
    "\n",
    "\n",
    "stk_info_rec= srch_cont.find(class_= \"client-components-ratings-trending-stock-row__trendingStock client-components-ratings-ratingslist__rating client-components-ratings-ratingslist__row\")"
   ]
  },
  {
   "cell_type": "code",
   "execution_count": null,
   "metadata": {},
   "outputs": [],
   "source": []
  },
  {
   "cell_type": "code",
   "execution_count": null,
   "metadata": {},
   "outputs": [],
   "source": []
  },
  {
   "cell_type": "code",
   "execution_count": 6,
   "metadata": {},
   "outputs": [],
   "source": [
    "stock_records= []"
   ]
  },
  {
   "cell_type": "code",
   "execution_count": 8,
   "metadata": {},
   "outputs": [],
   "source": [
    "for stk in stock_infor:\n",
    "    stock_records.append(stk.find('a'), contents[0])"
   ]
  },
  {
   "cell_type": "code",
   "execution_count": null,
   "metadata": {},
   "outputs": [],
   "source": []
  }
 ],
 "metadata": {
  "kernelspec": {
   "display_name": "Python 3",
   "language": "python",
   "name": "python3"
  },
  "language_info": {
   "codemirror_mode": {
    "name": "ipython",
    "version": 3
   },
   "file_extension": ".py",
   "mimetype": "text/x-python",
   "name": "python",
   "nbconvert_exporter": "python",
   "pygments_lexer": "ipython3",
   "version": "3.8.5"
  }
 },
 "nbformat": 4,
 "nbformat_minor": 4
}
