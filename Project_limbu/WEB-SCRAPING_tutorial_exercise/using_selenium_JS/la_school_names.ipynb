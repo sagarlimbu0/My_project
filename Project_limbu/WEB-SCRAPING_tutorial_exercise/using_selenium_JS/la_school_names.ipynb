{
 "cells": [
  {
   "cell_type": "code",
   "execution_count": 1,
   "metadata": {},
   "outputs": [],
   "source": [
    "from selenium import webdriver\n",
    "from selenium.webdriver.common.by import By\n",
    "from selenium.webdriver.support.ui import WebDriverWait\n",
    "from selenium.webdriver.support import expected_conditions as EC\n",
    "from selenium.common.exceptions import TimeoutException"
   ]
  },
  {
   "cell_type": "code",
   "execution_count": 2,
   "metadata": {},
   "outputs": [],
   "source": [
    "# crete a browser with WEBDRIVE for chrome\n",
    "\n",
    "browser= webdriver.Chrome()"
   ]
  },
  {
   "cell_type": "code",
   "execution_count": 3,
   "metadata": {},
   "outputs": [],
   "source": [
    "url= 'https://explorelausd.schoolmint.net/school-finder/results/?address.direction=S&address.name=Beaudry&address.number=333&address.point.lat=34.056074073287455&address.point.lng=-118.2571227011078&address.postal=90017&address.suffix=Ave&address.text=333%20S.%20Beaudry%20Avenue&id&parent_id&sort=rsi&sortToHide'"
   ]
  },
  {
   "cell_type": "code",
   "execution_count": 4,
   "metadata": {},
   "outputs": [],
   "source": [
    "browser.get(url)"
   ]
  },
  {
   "cell_type": "code",
   "execution_count": 5,
   "metadata": {},
   "outputs": [],
   "source": [
    "# create a class with SELF\n",
    "class load_contents(object):\n",
    "    \n",
    "    def __init__(self, locator, n):\n",
    "        self.locator= locator\n",
    "        self.n= n\n",
    "        \n",
    "    # create a call function that will compare the OBJECT\n",
    "    # use BROWSER and self to call the object\n",
    "    def __call__(self, browser):\n",
    "        \n",
    "        # create elements\n",
    "        element= browser.find_elements(*self.locator)\n",
    "        \n",
    "        # compare if the locator is less than required\n",
    "        if len(element) >= self.n:\n",
    "            return element\n",
    "        \n",
    "        else:\n",
    "            return False        \n",
    "        "
   ]
  },
  {
   "cell_type": "code",
   "execution_count": 6,
   "metadata": {},
   "outputs": [],
   "source": [
    "# now create WEB ELEMENT\n",
    "\n",
    "# first, create waiting TIME\n",
    "browser.implicitly_wait(10)\n",
    "\n",
    "# second to SEARCH for desired element\n",
    "# entire SCHOOLS lists\n",
    "div_element= browser.find_element_by_class_name('results__list')"
   ]
  },
  {
   "cell_type": "code",
   "execution_count": 7,
   "metadata": {},
   "outputs": [],
   "source": [
    "# THIRD\n",
    "# LOCATE the element by using CSS selector\n",
    "# using different 'By' methods: EG: By xpaht, By CSSSelector, etc.\n",
    "name_locator= (By.CLASS_NAME,'school-card__name')\n",
    "class_name=0"
   ]
  },
  {
   "cell_type": "code",
   "execution_count": 8,
   "metadata": {},
   "outputs": [
    {
     "name": "stdout",
     "output_type": "stream",
     "text": [
      "107th Street Elementary\n",
      "109th Street Elementary\n",
      "10th Street Elementary\n",
      "112th Street Elementary\n",
      "116th Street Elementary\n",
      "118th Street Elementary\n",
      "122nd Street Elementary\n",
      "135th Street Elementary\n",
      "153rd Street Elementary\n",
      "156th Street Elementary\n",
      "15th Street Elementary\n",
      "186th Street Elementary\n",
      "1st Street Elementary\n",
      "20th Street Elementary\n",
      "232nd Place Elementary\n",
      "24th Street Elementary\n",
      "28th Street Elementary\n",
      "2nd Street Elementary\n",
      "32nd Street USC Performing Arts Magnet\n",
      "36th Street Early Education Center\n",
      "3rd Street Elementary\n",
      "42nd Street Elementary\n",
      "49th Street Elementary\n",
      "4th Street Early Education Center\n",
      "4th Street Elementary\n",
      "4th Street Primary Center\n",
      "52nd Street Elementary\n",
      "54th Street Elementary\n",
      "59th Street Elementary\n",
      "61st Street Elementary\n"
     ]
    }
   ],
   "source": [
    "# FOURTH\n",
    "# CREATE while loop to scroll all way from TOP to bottom\n",
    "my_school_names=[]\n",
    "\n",
    "while True:\n",
    "\n",
    "    # use execute_script command with the ELEMENT found by find element by class\n",
    "    browser.execute_script(\n",
    "        'arguments[0].scrollTop= arguments[0].scrollHeight', div_element\n",
    "    )\n",
    "    \n",
    "    # TRY exception methods to FECT the NAMES atleast counts elements FOR 3 seconds\n",
    "    try:\n",
    "        school_names= WebDriverWait(browser, 3).until(\n",
    "            # use the self class instance with object that LOCATES the CSS CLASS by css selector method\n",
    "            # each NEW name will be added to next INDEX\n",
    "            load_contents(name_locator, class_name+1)\n",
    "        )\n",
    "    except TimeoutException as ex:\n",
    "        # TIME exception ERROR\n",
    "        break\n",
    "    \n",
    "    # UPDATE the Names counter\n",
    "    class_name= len(school_names)\n",
    "    \n",
    "    # print the school NAMES\n",
    "    \n",
    "    for names in school_names:\n",
    "        \n",
    "        print(names.text)\n",
    "        my_school_names.append(names.text)"
   ]
  },
  {
   "cell_type": "code",
   "execution_count": null,
   "metadata": {},
   "outputs": [],
   "source": []
  },
  {
   "cell_type": "code",
   "execution_count": 9,
   "metadata": {},
   "outputs": [
    {
     "name": "stdout",
     "output_type": "stream",
     "text": [
      "Press Enter to exitexit\n"
     ]
    }
   ],
   "source": [
    "input(\"Press Enter to exit\")\n",
    "browser.quit()"
   ]
  },
  {
   "cell_type": "code",
   "execution_count": 10,
   "metadata": {},
   "outputs": [
    {
     "data": {
      "text/plain": [
       "30"
      ]
     },
     "execution_count": 10,
     "metadata": {},
     "output_type": "execute_result"
    }
   ],
   "source": [
    "len(my_school_names)"
   ]
  },
  {
   "cell_type": "code",
   "execution_count": 11,
   "metadata": {},
   "outputs": [
    {
     "data": {
      "text/plain": [
       "'107th Street Elementary'"
      ]
     },
     "execution_count": 11,
     "metadata": {},
     "output_type": "execute_result"
    }
   ],
   "source": [
    "my_school_names[0]"
   ]
  },
  {
   "cell_type": "code",
   "execution_count": null,
   "metadata": {},
   "outputs": [],
   "source": []
  }
 ],
 "metadata": {
  "kernelspec": {
   "display_name": "Python 3",
   "language": "python",
   "name": "python3"
  },
  "language_info": {
   "codemirror_mode": {
    "name": "ipython",
    "version": 3
   },
   "file_extension": ".py",
   "mimetype": "text/x-python",
   "name": "python",
   "nbconvert_exporter": "python",
   "pygments_lexer": "ipython3",
   "version": "3.8.5"
  }
 },
 "nbformat": 4,
 "nbformat_minor": 4
}
