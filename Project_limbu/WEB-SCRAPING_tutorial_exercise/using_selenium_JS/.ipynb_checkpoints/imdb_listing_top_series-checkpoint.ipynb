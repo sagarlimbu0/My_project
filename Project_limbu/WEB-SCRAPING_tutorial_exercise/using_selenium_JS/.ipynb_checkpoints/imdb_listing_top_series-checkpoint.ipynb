{
 "cells": [
  {
   "cell_type": "code",
   "execution_count": 1,
   "metadata": {},
   "outputs": [],
   "source": [
    "from selenium import webdriver\n",
    "from selenium.webdriver.support.ui import WebDriverWait\n",
    "from selenium.webdriver.common.by import By\n",
    "from selenium.webdriver.support import expected_conditions as EC\n",
    "from selenium.common.exceptions import TimeoutException"
   ]
  },
  {
   "cell_type": "code",
   "execution_count": 2,
   "metadata": {},
   "outputs": [],
   "source": [
    "url='https://www.imdb.com/chart/toptv/'\n",
    "\n",
    "browser= webdriver.Chrome()\n",
    "browser.get(url)"
   ]
  },
  {
   "cell_type": "code",
   "execution_count": 3,
   "metadata": {},
   "outputs": [],
   "source": [
    "# create a SELF class INSTANCE that will iterate the OBJECT\n",
    "class atleast_one_obj(object):\n",
    "    \n",
    "    def __init__(self, locator, n):\n",
    "        \n",
    "        self.locator= locator\n",
    "        self.n= n\n",
    "        \n",
    "    # CALL function\n",
    "    def __call__(self, browser):\n",
    "        \n",
    "        elements= browser.find_elements(*self.locator)\n",
    "        \n",
    "        # compare the len with elements\n",
    "        if len(elements) >= self.n:\n",
    "            return elements\n",
    "        else:\n",
    "            return False"
   ]
  },
  {
   "cell_type": "code",
   "execution_count": 4,
   "metadata": {},
   "outputs": [],
   "source": [
    "# ITERATE over the browser by finding elements\n",
    "\n",
    "# state the IMPLICIT waiting TIME before moving to next elements\n",
    "browser.implicitly_wait(10)"
   ]
  },
  {
   "cell_type": "code",
   "execution_count": 5,
   "metadata": {},
   "outputs": [],
   "source": [
    "# STATE the main ELEMENT of the WEB page\n",
    "div_element= browser.find_element_by_class_name('lister')\n",
    "\n",
    "# NOW LOCATE the class name using 'BY' method\n",
    "name_locator= (By.CLASS_NAME,'titleColumn')\n",
    "\n",
    "# num of counts per WEB element\n",
    "class_counts=0\n"
   ]
  },
  {
   "cell_type": "code",
   "execution_count": 6,
   "metadata": {},
   "outputs": [],
   "source": [
    "# STATE the CONDITION when searching\n",
    "\n",
    "# create a list to store the element\n",
    "my_series= []\n",
    "\n",
    "# CONDITION apply\n",
    "while True:\n",
    "    \n",
    "    # using the div ELEMent ITERATE over\n",
    "    # using ExECuTe script with browser to SCAN from TOp of scroll to bottom\n",
    "    \n",
    "    browser.execute_script(\n",
    "        'arguments[0].scrollTop= arguments[0].scrollHeight', div_element\n",
    "    )\n",
    "        \n",
    "\n",
    "    # TRY to catch atleast one element and store on VAR\n",
    "    # use CONDITION for 3 seconds unless you get the element using SELF instance\n",
    "    try:\n",
    "        \n",
    "        series_name= WebDriverWait( browser, 3).until(\n",
    "            # using self instance to locate atleast ONE element\n",
    "            # ITERATE over the LOCATOR name\n",
    "            \n",
    "            atleast_one_obj(name_locator, class_counts +1)\n",
    "        )\n",
    "    except TimeoutException as ex:\n",
    "        \n",
    "        break\n",
    "    \n",
    "    # NOW update each class counts by NEW SERIES name lenght\n",
    "    class_counts= len(series_name)\n",
    "    \n",
    "    \n",
    "    for series in series_name:\n",
    "        \n",
    "        print(series.text)\n",
    "    \n",
    "\n"
   ]
  }
 ],
 "metadata": {
  "kernelspec": {
   "display_name": "Python 3",
   "language": "python",
   "name": "python3"
  },
  "language_info": {
   "codemirror_mode": {
    "name": "ipython",
    "version": 3
   },
   "file_extension": ".py",
   "mimetype": "text/x-python",
   "name": "python",
   "nbconvert_exporter": "python",
   "pygments_lexer": "ipython3",
   "version": "3.8.5"
  }
 },
 "nbformat": 4,
 "nbformat_minor": 4
}
