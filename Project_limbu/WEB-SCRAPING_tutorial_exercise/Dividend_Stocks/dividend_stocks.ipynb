{
 "cells": [
  {
   "cell_type": "code",
   "execution_count": 1,
   "id": "ceramic-surgeon",
   "metadata": {},
   "outputs": [],
   "source": [
    "import selenium\n",
    "from selenium import webdriver\n",
    "from selenium.webdriver.support.ui import WebDriverWait\n",
    "from selenium.webdriver.common.by import By\n",
    "from selenium.common.exceptions import TimeoutException\n"
   ]
  },
  {
   "cell_type": "code",
   "execution_count": 3,
   "id": "functioning-marker",
   "metadata": {},
   "outputs": [],
   "source": [
    "browser= webdriver.Chrome()\n",
    "url= 'https://www.kiplinger.com/investing/stocks/dividend-stocks/602237/65-best-dividend-stocks-you-can-count-on-in-2021'\n",
    "\n",
    "browser.get(url)"
   ]
  },
  {
   "cell_type": "code",
   "execution_count": 4,
   "id": "wanted-deficit",
   "metadata": {},
   "outputs": [],
   "source": [
    "# creatting a CLASS object\n",
    "\n",
    "class get_element(object):\n",
    "    \n",
    "    # Use INIT method to initialize the location and number of elements\n",
    "    def __init__(self, locator, n):\n",
    "        self.locator= locator\n",
    "        self.n= n\n",
    "        \n",
    "    # CALL Method to iterate the object from this lOCATION\n",
    "    \n",
    "    def __call__(self, browser):\n",
    "        \n",
    "        # get elements from the browser\n",
    "        \n",
    "        some_element= browser.get_element(*self.locator)\n",
    "        \n",
    "        # compare the elements by length \n",
    "        \n",
    "        if (len(some_element) < self.n):\n",
    "            \n",
    "            return some_element\n",
    "        \n",
    "        \n",
    "        else:\n",
    "            return False"
   ]
  },
  {
   "cell_type": "code",
   "execution_count": 5,
   "id": "leading-briefs",
   "metadata": {},
   "outputs": [],
   "source": [
    "# Select SECTION from where the ELEMENTS are retreived\n",
    "\n"
   ]
  },
  {
   "cell_type": "code",
   "execution_count": 6,
   "id": "weekly-paper",
   "metadata": {},
   "outputs": [],
   "source": [
    "import requests\n",
    "from bs4 import BeautifulSoup"
   ]
  },
  {
   "cell_type": "code",
   "execution_count": 7,
   "id": "collectible-vegetation",
   "metadata": {},
   "outputs": [],
   "source": [
    "url_one= 'https://www.kiplinger.com/investing/stocks/dividend-stocks/602237/65-best-dividend-stocks-you-can-count-on-in-2021'"
   ]
  },
  {
   "cell_type": "code",
   "execution_count": 8,
   "id": "allied-collective",
   "metadata": {},
   "outputs": [],
   "source": [
    "r= requests.get(url_one)"
   ]
  },
  {
   "cell_type": "code",
   "execution_count": 13,
   "id": "opposite-grounds",
   "metadata": {},
   "outputs": [],
   "source": [
    "soup = BeautifulSoup(r.content, 'html.parser')"
   ]
  },
  {
   "cell_type": "code",
   "execution_count": 17,
   "id": "sized-nutrition",
   "metadata": {},
   "outputs": [
    {
     "name": "stdout",
     "output_type": "stream",
     "text": [
      "<h1 class=\"polaris__heading polaris__heading--title\">65 Best Dividend Stocks You Can Count On in 2021</h1>\n",
      "<h2 class=\"polaris__heading polaris__heading--subtitle\">Yield isn't everything when it comes to finding the best dividend stocks. Income investors know there's no substitute for regular dividend increases over the long haul. </h2>\n",
      "<h2 class=\"polaris__heading polaris__article-group--title\">Recommended</h2>\n",
      "<h2 class=\"polaris__heading polaris__article-group--title\">Most Popular</h2>\n"
     ]
    }
   ],
   "source": [
    "for j in soup.find_all(['h1', 'h2']):\n",
    "    print(j)"
   ]
  },
  {
   "cell_type": "code",
   "execution_count": null,
   "id": "consolidated-villa",
   "metadata": {},
   "outputs": [],
   "source": []
  }
 ],
 "metadata": {
  "kernelspec": {
   "display_name": "Python 3",
   "language": "python",
   "name": "python3"
  },
  "language_info": {
   "codemirror_mode": {
    "name": "ipython",
    "version": 3
   },
   "file_extension": ".py",
   "mimetype": "text/x-python",
   "name": "python",
   "nbconvert_exporter": "python",
   "pygments_lexer": "ipython3",
   "version": "3.8.5"
  }
 },
 "nbformat": 4,
 "nbformat_minor": 5
}
