{
 "cells": [
  {
   "cell_type": "code",
   "execution_count": 1,
   "id": "cheap-hierarchy",
   "metadata": {},
   "outputs": [],
   "source": [
    "import nltk\n",
    "import pandas as pd\n",
    "import numpy as np\n",
    "\n",
    "from nltk import word_tokenize\n",
    "from nltk.corpus import stopwords\n",
    "from nltk.stem import PorterStemmer\n",
    "\n",
    "from IPython.display import display"
   ]
  },
  {
   "cell_type": "markdown",
   "id": "female-safety",
   "metadata": {},
   "source": [
    "# EG: porter stemmer"
   ]
  },
  {
   "cell_type": "code",
   "execution_count": 2,
   "id": "adjacent-genesis",
   "metadata": {},
   "outputs": [],
   "source": [
    "# create an instance of PORTER stemmer\n",
    "porter= PorterStemmer()"
   ]
  },
  {
   "cell_type": "code",
   "execution_count": 3,
   "id": "organizational-casino",
   "metadata": {},
   "outputs": [
    {
     "name": "stdout",
     "output_type": "stream",
     "text": [
      "play\n",
      "play\n",
      "play\n"
     ]
    }
   ],
   "source": [
    "first_wd= ['playing', 'played', 'plays']\n",
    "\n",
    "for j in first_wd:\n",
    "    print(porter.stem(j))"
   ]
  },
  {
   "cell_type": "code",
   "execution_count": 4,
   "id": "likely-decimal",
   "metadata": {},
   "outputs": [],
   "source": [
    "import os\n",
    "\n",
    "emails= open('./reject_email/reject_email.txt')\n",
    "rej_emails=emails.read()"
   ]
  },
  {
   "cell_type": "code",
   "execution_count": 5,
   "id": "successful-mystery",
   "metadata": {},
   "outputs": [
    {
     "data": {
      "text/plain": [
       "['Thank', 'you', 'for', 'your', 'interest', 'in', 'a', 'career', 'with', 'CBS']"
      ]
     },
     "execution_count": 5,
     "metadata": {},
     "output_type": "execute_result"
    }
   ],
   "source": [
    "# TOKENize the WORDS\n",
    "\n",
    "wd_tokenized= word_tokenize(rej_emails)\n",
    "wd_tokenized[:10]"
   ]
  },
  {
   "cell_type": "markdown",
   "id": "prescribed-welding",
   "metadata": {},
   "source": [
    "# APPLY stopwords"
   ]
  },
  {
   "cell_type": "code",
   "execution_count": 6,
   "id": "complicated-thong",
   "metadata": {},
   "outputs": [
    {
     "data": {
      "text/plain": [
       "179"
      ]
     },
     "metadata": {},
     "output_type": "display_data"
    },
    {
     "data": {
      "text/plain": [
       "195"
      ]
     },
     "metadata": {},
     "output_type": "display_data"
    }
   ],
   "source": [
    "stop_words= stopwords.words('english')\n",
    "\n",
    "clean_words=[] # to store CLEANED data\n",
    "\n",
    "for wd in wd_tokenized:\n",
    "    if wd not in (stop_words):\n",
    "        clean_words.append(wd)\n",
    "\n",
    "    \n",
    "\n",
    "display(len(stop_words))\n",
    "display(len(clean_words))\n",
    "        "
   ]
  },
  {
   "cell_type": "code",
   "execution_count": 10,
   "id": "virgin-rhythm",
   "metadata": {},
   "outputs": [],
   "source": [
    "import re"
   ]
  },
  {
   "cell_type": "code",
   "execution_count": 13,
   "id": "every-occurrence",
   "metadata": {},
   "outputs": [
    {
     "data": {
      "text/plain": [
       "[]"
      ]
     },
     "execution_count": 13,
     "metadata": {},
     "output_type": "execute_result"
    }
   ],
   "source": [
    "# remove SYMBOLS\n",
    "clean_data_remove= []\n",
    "\n",
    "find_wd= re.findall('intern', clean_words)\n",
    "find_wd"
   ]
  },
  {
   "cell_type": "markdown",
   "id": "southern-iceland",
   "metadata": {},
   "source": [
    "# Applying PORTER stemmer\n",
    "- LEMMATIZATION\n",
    "    - Lemmatization tries to achieve similar BASE STEM for a word\n",
    "    - Stemming generates results FASTER, but it is less ACCURATE than Lemmatization\n",
    "    \n",
    "\n",
    "* If accuracy is NOT the project's FINAL goal, then stemming is not appropriate\n",
    "* However, for HIGHER accuracy with flexible deadline, AMMORTIZATION is important"
   ]
  },
  {
   "cell_type": "markdown",
   "id": "daily-copper",
   "metadata": {},
   "source": [
    "# Differnce:\n",
    "- PORTERstemmer and Lemmatization"
   ]
  },
  {
   "cell_type": "code",
   "execution_count": 20,
   "id": "charitable-frequency",
   "metadata": {},
   "outputs": [
    {
     "name": "stdout",
     "output_type": "stream",
     "text": [
      "bought\n"
     ]
    }
   ],
   "source": [
    "print(porter.stem('bought'))"
   ]
  },
  {
   "cell_type": "code",
   "execution_count": 19,
   "id": "introductory-reach",
   "metadata": {},
   "outputs": [
    {
     "name": "stdout",
     "output_type": "stream",
     "text": [
      "bought\n"
     ]
    }
   ],
   "source": [
    "print(porter.stem('bought'))"
   ]
  },
  {
   "cell_type": "markdown",
   "id": "prerequisite-darwin",
   "metadata": {},
   "source": [
    "# LEMMATIZATION"
   ]
  },
  {
   "cell_type": "code",
   "execution_count": 21,
   "id": "induced-writer",
   "metadata": {},
   "outputs": [],
   "source": [
    "from nltk.stem import WordNetLemmatizer"
   ]
  },
  {
   "cell_type": "code",
   "execution_count": 22,
   "id": "narrative-positive",
   "metadata": {},
   "outputs": [],
   "source": [
    "lemmatizer= WordNetLemmatizer()"
   ]
  },
  {
   "cell_type": "markdown",
   "id": "frozen-convenience",
   "metadata": {},
   "source": [
    "EG:\n",
    "    - I bought 200 shares of TESLA yesterday"
   ]
  },
  {
   "cell_type": "code",
   "execution_count": 35,
   "id": "lasting-distribution",
   "metadata": {},
   "outputs": [
    {
     "data": {
      "text/plain": [
       "['I bought 200 shares of TESLA yesterday',\n",
       " 'Rama buys 20 growth stocks every month',\n",
       " 'When I was talking to Diana today, she was buying more MSFT stock']"
      ]
     },
     "execution_count": 35,
     "metadata": {},
     "output_type": "execute_result"
    }
   ],
   "source": [
    "stock_wd= ['I bought 200 shares of TESLA yesterday', 'Rama buys 20 growth stocks every month',\n",
    "          'When I was talking to Diana today, she was buying more MSFT stock']\n",
    "stock_wd"
   ]
  },
  {
   "cell_type": "markdown",
   "id": "regional-liberty",
   "metadata": {},
   "source": [
    "# EG: LOOK for any stock PURCHASES TERMs"
   ]
  },
  {
   "cell_type": "code",
   "execution_count": 53,
   "id": "sporting-proxy",
   "metadata": {},
   "outputs": [
    {
     "name": "stdout",
     "output_type": "stream",
     "text": [
      "buy\n",
      "buy\n",
      "buy\n"
     ]
    }
   ],
   "source": [
    "# using the VERB \n",
    "\n",
    "print(lemmatizer.lemmatize('buying', pos='v'))\n",
    "print(lemmatizer.lemmatize('bought', pos='v'))\n",
    "print(lemmatizer.lemmatize('buys', pos='v'))"
   ]
  },
  {
   "cell_type": "code",
   "execution_count": 28,
   "id": "republican-communication",
   "metadata": {},
   "outputs": [
    {
     "name": "stdout",
     "output_type": "stream",
     "text": [
      "study\n",
      "study\n",
      "study\n",
      "study\n"
     ]
    }
   ],
   "source": [
    "# APPLYING PoS tags as VERB and applying the lemmatization rules\n",
    "wd_list= ['study', 'studying', 'studied', 'studies']\n",
    "\n",
    "for wd in wd_list:\n",
    "    print(lemmatizer.lemmatize(wd, pos='v'))"
   ]
  },
  {
   "cell_type": "markdown",
   "id": "formal-amsterdam",
   "metadata": {},
   "source": [
    "# Part of Speech (POS)"
   ]
  },
  {
   "cell_type": "code",
   "execution_count": null,
   "id": "dangerous-talent",
   "metadata": {},
   "outputs": [],
   "source": []
  },
  {
   "cell_type": "code",
   "execution_count": null,
   "id": "filled-cookie",
   "metadata": {},
   "outputs": [],
   "source": []
  },
  {
   "cell_type": "markdown",
   "id": "swedish-sector",
   "metadata": {},
   "source": [
    "# WORDnet\n",
    "- To get the DIfferent meaning of particular WORD, terms"
   ]
  },
  {
   "cell_type": "code",
   "execution_count": 54,
   "id": "affecting-sequence",
   "metadata": {},
   "outputs": [],
   "source": [
    "from nltk.corpus import wordnet"
   ]
  },
  {
   "cell_type": "code",
   "execution_count": 102,
   "id": "olive-hunger",
   "metadata": {},
   "outputs": [],
   "source": [
    "wd= 'coke'"
   ]
  },
  {
   "cell_type": "markdown",
   "id": "informal-trader",
   "metadata": {},
   "source": [
    "# Different Meaning of this WORD"
   ]
  },
  {
   "cell_type": "code",
   "execution_count": 103,
   "id": "cutting-mountain",
   "metadata": {},
   "outputs": [
    {
     "name": "stdout",
     "output_type": "stream",
     "text": [
      "Synset('coke.n.01')\n",
      "Synset('coca_cola.n.01')\n",
      "Synset('coke.n.03')\n",
      "Synset('coke.v.01')\n"
     ]
    }
   ],
   "source": [
    "for j in wordnet.synsets(wd):\n",
    "    print(j)"
   ]
  },
  {
   "cell_type": "code",
   "execution_count": 104,
   "id": "handed-processing",
   "metadata": {},
   "outputs": [
    {
     "name": "stdout",
     "output_type": "stream",
     "text": [
      "Lemma('coke.n.01.coke')\n",
      "Lemma('coca_cola.n.01.Coca_Cola')\n",
      "Lemma('coca_cola.n.01.Coke')\n",
      "Lemma('coke.n.03.coke')\n",
      "Lemma('coke.n.03.blow')\n",
      "Lemma('coke.n.03.nose_candy')\n",
      "Lemma('coke.n.03.snow')\n",
      "Lemma('coke.n.03.C')\n",
      "Lemma('coke.v.01.coke')\n"
     ]
    }
   ],
   "source": [
    "# getting all meanings\n",
    "for j in wordnet.synsets(wd):\n",
    "    # Check all meanings of the words\n",
    "    for word in j.lemmas():\n",
    "        print(word)"
   ]
  },
  {
   "cell_type": "markdown",
   "id": "corresponding-mobile",
   "metadata": {},
   "source": [
    "# WordNET to get Definitions, MEANING and EXAMPLES"
   ]
  },
  {
   "cell_type": "code",
   "execution_count": 108,
   "id": "virgin-ending",
   "metadata": {},
   "outputs": [
    {
     "name": "stdout",
     "output_type": "stream",
     "text": [
      "Synset('fight.n.02')\n"
     ]
    }
   ],
   "source": [
    "my_wd= \"fight\"\n",
    "word_cal= wordnet.synsets(my_wd)[1]\n",
    "\n",
    "print(word_cal)"
   ]
  },
  {
   "cell_type": "markdown",
   "id": "unlimited-exemption",
   "metadata": {},
   "source": [
    "\n",
    "# DEfinition"
   ]
  },
  {
   "cell_type": "code",
   "execution_count": 109,
   "id": "structural-guest",
   "metadata": {},
   "outputs": [
    {
     "name": "stdout",
     "output_type": "stream",
     "text": [
      "Synset('fight.n.02') (name):  fight.n.02\n",
      "Synset('fight.n.02') (definition):  the act of fighting; any contest or struggle\n",
      "Synset('fight.n.02') (example):  ['a fight broke out at the hockey game', 'there was fighting in the streets', 'the unhappy couple got into a terrible scrap']\n"
     ]
    }
   ],
   "source": [
    "print(word_cal,'(name): ',word_cal.name())\n",
    "print(word_cal,'(definition): ',word_cal.definition())\n",
    "print(word_cal,'(example): ',word_cal.examples())"
   ]
  },
  {
   "cell_type": "markdown",
   "id": "accepted-humanitarian",
   "metadata": {},
   "source": [
    "# HYPERNERMS"
   ]
  },
  {
   "cell_type": "code",
   "execution_count": 107,
   "id": "meaningful-roommate",
   "metadata": {},
   "outputs": [
    {
     "name": "stdout",
     "output_type": "stream",
     "text": [
      "[Synset('cola.n.02')]\n"
     ]
    }
   ],
   "source": [
    "print(word_cal.hypernyms())"
   ]
  },
  {
   "cell_type": "code",
   "execution_count": null,
   "id": "armed-hours",
   "metadata": {},
   "outputs": [],
   "source": []
  }
 ],
 "metadata": {
  "kernelspec": {
   "display_name": "Python 3",
   "language": "python",
   "name": "python3"
  },
  "language_info": {
   "codemirror_mode": {
    "name": "ipython",
    "version": 3
   },
   "file_extension": ".py",
   "mimetype": "text/x-python",
   "name": "python",
   "nbconvert_exporter": "python",
   "pygments_lexer": "ipython3",
   "version": "3.8.5"
  }
 },
 "nbformat": 4,
 "nbformat_minor": 5
}
