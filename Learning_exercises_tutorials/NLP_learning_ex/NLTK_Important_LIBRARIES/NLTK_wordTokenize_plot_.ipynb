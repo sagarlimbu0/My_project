{
 "cells": [
  {
   "cell_type": "markdown",
   "id": "acknowledged-blackberry",
   "metadata": {},
   "source": [
    "# using NLTK libraries to make anlayis on text"
   ]
  },
  {
   "cell_type": "code",
   "execution_count": 1,
   "id": "acceptable-congo",
   "metadata": {},
   "outputs": [
    {
     "name": "stdout",
     "output_type": "stream",
     "text": [
      "Requirement already satisfied: nltk in c:\\users\\daiko\\anaconda3\\lib\\site-packages (3.5)\n",
      "Requirement already satisfied: click in c:\\users\\daiko\\anaconda3\\lib\\site-packages (from nltk) (7.1.2)\n",
      "Requirement already satisfied: tqdm in c:\\users\\daiko\\anaconda3\\lib\\site-packages (from nltk) (4.56.0)\n",
      "Requirement already satisfied: joblib in c:\\users\\daiko\\anaconda3\\lib\\site-packages (from nltk) (1.0.0)\n",
      "Requirement already satisfied: regex in c:\\users\\daiko\\anaconda3\\lib\\site-packages (from nltk) (2020.11.13)\n"
     ]
    }
   ],
   "source": [
    "!pip install nltk"
   ]
  },
  {
   "cell_type": "code",
   "execution_count": 2,
   "id": "narrow-guard",
   "metadata": {},
   "outputs": [],
   "source": [
    "import nltk"
   ]
  },
  {
   "cell_type": "code",
   "execution_count": 3,
   "id": "loving-territory",
   "metadata": {},
   "outputs": [],
   "source": [
    "email= open(\"reject_mail.txt\")\n",
    "\n",
    "text= email.read()"
   ]
  },
  {
   "cell_type": "code",
   "execution_count": 4,
   "id": "prerequisite-speed",
   "metadata": {},
   "outputs": [
    {
     "data": {
      "text/plain": [
       "'Thank you for your application to Fast. We have reviewed your resume for Data Engineer and at this time, we have decided to move forward with candidates whose skillsets are more closely aligned with our current needs.\\n\\nWe appreciate your interest in Fast and wish to express our gratitude for taking the time to explore a role with us.\\n\\nBest,'"
      ]
     },
     "execution_count": 4,
     "metadata": {},
     "output_type": "execute_result"
    }
   ],
   "source": [
    "text"
   ]
  },
  {
   "cell_type": "markdown",
   "id": "saving-adolescent",
   "metadata": {},
   "source": [
    "# Libraries for Peprocessing in NLP"
   ]
  },
  {
   "cell_type": "code",
   "execution_count": 9,
   "id": "retired-encyclopedia",
   "metadata": {},
   "outputs": [],
   "source": [
    "from nltk import sent_tokenize\n",
    "from nltk import word_tokenize\n",
    "from IPython.display import display"
   ]
  },
  {
   "cell_type": "code",
   "execution_count": 10,
   "id": "threaded-american",
   "metadata": {},
   "outputs": [
    {
     "data": {
      "text/plain": [
       "['Thank you for your application to Fast.',\n",
       " 'We have reviewed your resume for Data Engineer and at this time, we have decided to move forward with candidates whose skillsets are more closely aligned with our current needs.',\n",
       " 'We appreciate your interest in Fast and wish to express our gratitude for taking the time to explore a role with us.',\n",
       " 'Best,']"
      ]
     },
     "metadata": {},
     "output_type": "display_data"
    },
    {
     "data": {
      "text/plain": [
       "4"
      ]
     },
     "execution_count": 10,
     "metadata": {},
     "output_type": "execute_result"
    }
   ],
   "source": [
    "# Tokenizing the Snetences\n",
    "sentences= sent_tokenize(text)\n",
    "display(sentences)\n",
    "len(sentences)"
   ]
  },
  {
   "cell_type": "markdown",
   "id": "forbidden-denial",
   "metadata": {},
   "source": [
    "# Word Tokenizing"
   ]
  },
  {
   "cell_type": "code",
   "execution_count": 14,
   "id": "japanese-intersection",
   "metadata": {},
   "outputs": [
    {
     "name": "stdout",
     "output_type": "stream",
     "text": [
      "['Thank', 'you', 'for', 'your', 'application', 'to', 'Fast', '.', 'We', 'have', 'reviewed', 'your', 'resume', 'for', 'Data', 'Engineer', 'and', 'at', 'this', 'time', ',', 'we', 'have', 'decided', 'to', 'move', 'forward', 'with', 'candidates', 'whose', 'skillsets', 'are', 'more', 'closely', 'aligned', 'with', 'our', 'current', 'needs', '.', 'We', 'appreciate', 'your', 'interest', 'in', 'Fast', 'and', 'wish', 'to', 'express', 'our', 'gratitude', 'for', 'taking', 'the', 'time', 'to', 'explore', 'a', 'role', 'with', 'us', '.', 'Best', ',']\n"
     ]
    },
    {
     "data": {
      "text/plain": [
       "65"
      ]
     },
     "metadata": {},
     "output_type": "display_data"
    }
   ],
   "source": [
    "words= word_tokenize(text)\n",
    "print(words)\n",
    "display(len(words))"
   ]
  },
  {
   "cell_type": "markdown",
   "id": "meaningful-location",
   "metadata": {},
   "source": [
    "# Freq. Distribution"
   ]
  },
  {
   "cell_type": "code",
   "execution_count": 15,
   "id": "respiratory-wireless",
   "metadata": {},
   "outputs": [],
   "source": [
    "from nltk.probability import FreqDist"
   ]
  },
  {
   "cell_type": "code",
   "execution_count": 16,
   "id": "published-sally",
   "metadata": {},
   "outputs": [],
   "source": [
    "fdist= FreqDist(text)"
   ]
  },
  {
   "cell_type": "code",
   "execution_count": 21,
   "id": "opened-confusion",
   "metadata": {},
   "outputs": [
    {
     "data": {
      "text/plain": [
       "[(' ', 57), ('e', 39), ('t', 26), ('r', 23), ('a', 22), ('o', 21)]"
      ]
     },
     "execution_count": 21,
     "metadata": {},
     "output_type": "execute_result"
    }
   ],
   "source": [
    "# MOST common words repeated\n",
    "fdist.most_common(6)"
   ]
  },
  {
   "cell_type": "markdown",
   "id": "suffering-charlotte",
   "metadata": {},
   "source": [
    "# plot the FREQ. of words in GRAPH"
   ]
  },
  {
   "cell_type": "code",
   "execution_count": 22,
   "id": "passive-beverage",
   "metadata": {},
   "outputs": [],
   "source": [
    "import matplotlib.pyplot as plt"
   ]
  },
  {
   "cell_type": "code",
   "execution_count": 24,
   "id": "robust-poison",
   "metadata": {},
   "outputs": [
    {
     "data": {
      "image/png": "[encoded data removed]",
      "text/plain": [
       "<Figure size 432x288 with 1 Axes>"
      ]
     },
     "metadata": {
      "needs_background": "light"
     },
     "output_type": "display_data"
    },
    {
     "data": {
      "text/plain": [
       "<AxesSubplot:xlabel='Samples', ylabel='Counts'>"
      ]
     },
     "execution_count": 24,
     "metadata": {},
     "output_type": "execute_result"
    }
   ],
   "source": [
    "fdist.plot(10)"
   ]
  },
  {
   "cell_type": "markdown",
   "id": "small-governor",
   "metadata": {},
   "source": [
    "# NOTE: Punctuation Marks are not that important for NLP"
   ]
  },
  {
   "cell_type": "markdown",
   "id": "ordinary-louis",
   "metadata": {},
   "source": [
    "# Removing Punctuation:\n",
    "- Removing Punctuation marks as they are not Useful for NLP"
   ]
  },
  {
   "cell_type": "code",
   "execution_count": 26,
   "id": "caroline-glossary",
   "metadata": {},
   "outputs": [
    {
     "name": "stdout",
     "output_type": "stream",
     "text": [
      "['Thank', 'you', 'for', 'your', 'application', 'to', 'Fast', 'We', 'have', 'reviewed', 'your', 'resume', 'for', 'Data', 'Engineer', 'and', 'at', 'this', 'time', 'we', 'have', 'decided', 'to', 'move', 'forward', 'with', 'candidates', 'whose', 'skillsets', 'are', 'more', 'closely', 'aligned', 'with', 'our', 'current', 'needs', 'We', 'appreciate', 'your', 'interest', 'in', 'Fast', 'and', 'wish', 'to', 'express', 'our', 'gratitude', 'for', 'taking', 'the', 'time', 'to', 'explore', 'a', 'role', 'with', 'us', 'Best']\n"
     ]
    }
   ],
   "source": [
    "# by Adding the ALPHABETS only and not other\n",
    "\n",
    "# empty List\n",
    "words_noPunc=[]\n",
    "\n",
    "# adding only ALPHA\n",
    "for j in words:\n",
    "    if j.isalpha():\n",
    "        words_noPunc.append(j)\n",
    "\n",
    "# print only words\n",
    "print(words_noPunc)\n",
    "    "
   ]
  },
  {
   "cell_type": "markdown",
   "id": "tamil-junior",
   "metadata": {},
   "source": [
    "# PLOTTING the words wthout punctuation"
   ]
  },
  {
   "cell_type": "code",
   "execution_count": 28,
   "id": "raising-gross",
   "metadata": {},
   "outputs": [
    {
     "data": {
      "image/png": "[encoded data removed]",
      "text/plain": [
       "<Figure size 432x288 with 1 Axes>"
      ]
     },
     "metadata": {
      "needs_background": "light"
     },
     "output_type": "display_data"
    },
    {
     "data": {
      "text/plain": [
       "<AxesSubplot:xlabel='Samples', ylabel='Counts'>"
      ]
     },
     "execution_count": 28,
     "metadata": {},
     "output_type": "execute_result"
    }
   ],
   "source": [
    "fdist_No_punc= FreqDist(words_noPunc)\n",
    "fdist_No_punc.plot(10)"
   ]
  },
  {
   "cell_type": "markdown",
   "id": "auburn-contest",
   "metadata": {},
   "source": [
    "# REMOVING stopwords from the TEXT"
   ]
  },
  {
   "cell_type": "code",
   "execution_count": null,
   "id": "instructional-spare",
   "metadata": {},
   "outputs": [],
   "source": []
  }
 ],
 "metadata": {
  "kernelspec": {
   "display_name": "Python 3",
   "language": "python",
   "name": "python3"
  },
  "language_info": {
   "codemirror_mode": {
    "name": "ipython",
    "version": 3
   },
   "file_extension": ".py",
   "mimetype": "text/x-python",
   "name": "python",
   "nbconvert_exporter": "python",
   "pygments_lexer": "ipython3",
   "version": "3.8.5"
  }
 },
 "nbformat": 4,
 "nbformat_minor": 5
}
