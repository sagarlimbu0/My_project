{
 "cells": [
  {
   "cell_type": "markdown",
   "id": "cutting-dependence",
   "metadata": {},
   "source": [
    "# TextBLOB:\n",
    "- TextBlob offers part of speech parsing like AWS Comprehend and GCP NLP\n",
    "_ However, TextBlob won't categorize what ENTITIES exists"
   ]
  },
  {
   "cell_type": "markdown",
   "id": "abandoned-lexington",
   "metadata": {},
   "source": [
    "# TextBlob functionality:\n",
    "- It allows to break down verbs, nouns , or other parts of speech and then look\n",
    "for patterns\n",
    "- EG: common words, specific phrases or words attracting readers"
   ]
  },
  {
   "cell_type": "code",
   "execution_count": 1,
   "id": "clean-gabriel",
   "metadata": {},
   "outputs": [],
   "source": [
    "from textblob import TextBlob"
   ]
  },
  {
   "cell_type": "code",
   "execution_count": 2,
   "id": "elect-cooler",
   "metadata": {},
   "outputs": [
    {
     "name": "stdout",
     "output_type": "stream",
     "text": [
      "['.ipynb_checkpoints', 'data_engineer_req', 'NLTK_wordTokenize_plot_.ipynb', 'reject_email', 'Stemming_PartOfSpeech(POS).ipynb', 'TextBlob_ex.ipynb', 'WordNET_lemma_meaning_definition_examples.ipynb', 'Word_Cloud_GRAPH.ipynb']\n"
     ]
    }
   ],
   "source": [
    "# creating an instance\n",
    "import os\n",
    "files= os.listdir('.')\n",
    "print(files)"
   ]
  },
  {
   "cell_type": "code",
   "execution_count": 4,
   "id": "bored-australia",
   "metadata": {},
   "outputs": [],
   "source": [
    "file= open('./reject_email/reject_email.txt')"
   ]
  },
  {
   "cell_type": "code",
   "execution_count": 5,
   "id": "packed-hurricane",
   "metadata": {},
   "outputs": [],
   "source": [
    "emails= file.read()"
   ]
  },
  {
   "cell_type": "code",
   "execution_count": 9,
   "id": "extra-cartoon",
   "metadata": {},
   "outputs": [
    {
     "name": "stderr",
     "output_type": "stream",
     "text": [
      "[nltk_data] Downloading package brown to\n",
      "[nltk_data]     C:\\Users\\daiko\\AppData\\Roaming\\nltk_data...\n",
      "[nltk_data]   Unzipping corpora\\brown.zip.\n"
     ]
    },
    {
     "data": {
      "text/plain": [
       "True"
      ]
     },
     "execution_count": 9,
     "metadata": {},
     "output_type": "execute_result"
    }
   ],
   "source": [
    "import nltk\n",
    "nltk.download('brown')"
   ]
  },
  {
   "cell_type": "code",
   "execution_count": 10,
   "id": "subtle-thong",
   "metadata": {},
   "outputs": [
    {
     "name": "stdout",
     "output_type": "stream",
     "text": [
      "thank\n",
      "interactive\n",
      "upon\n",
      "machine learning intern\n",
      "please\n",
      "careers website\n",
      "interactive\n",
      "employment search\n",
      "future endeavors\n",
      "sincerely\n",
      "talent acquisition thank\n",
      "intern\n",
      "data engineer\n",
      "corelogic\n",
      "careers website\n",
      "future opportunities\n",
      "professional endeavors\n",
      "sincerely\n",
      "corelogic talent acquisition thank\n",
      "fast\n",
      "data engineer\n",
      "current needs\n",
      "fast\n",
      "thank\n",
      "pinterest\n",
      "new role\n",
      "careers\n",
      "thank\n",
      "sincerely\n",
      "pinterest recruiting\n"
     ]
    }
   ],
   "source": [
    "# creating an instance and applying it\n",
    "blob = TextBlob(emails)\n",
    "\n",
    "for j in blob.noun_phrases:\n",
    "    print(j)"
   ]
  },
  {
   "cell_type": "markdown",
   "id": "separated-print",
   "metadata": {},
   "source": [
    "# NOTE: \n",
    "- TextBlob works with most functionality like AWS and GCP both, it only \n",
    "does not do Labelling and metadata that come with APIs\n",
    "- AWS and GCP could provide helpful FEATURES"
   ]
  },
  {
   "cell_type": "code",
   "execution_count": null,
   "id": "considered-brighton",
   "metadata": {},
   "outputs": [],
   "source": []
  }
 ],
 "metadata": {
  "kernelspec": {
   "display_name": "Python 3",
   "language": "python",
   "name": "python3"
  },
  "language_info": {
   "codemirror_mode": {
    "name": "ipython",
    "version": 3
   },
   "file_extension": ".py",
   "mimetype": "text/x-python",
   "name": "python",
   "nbconvert_exporter": "python",
   "pygments_lexer": "ipython3",
   "version": "3.8.5"
  }
 },
 "nbformat": 4,
 "nbformat_minor": 5
}
