{
 "cells": [
  {
   "cell_type": "markdown",
   "id": "respected-alignment",
   "metadata": {},
   "source": [
    "# WORDnet\n",
    "- To get the DIfferent meaning of particular WORD, terms"
   ]
  },
  {
   "cell_type": "code",
   "execution_count": 1,
   "id": "comfortable-hybrid",
   "metadata": {},
   "outputs": [],
   "source": [
    "from nltk.corpus import wordnet"
   ]
  },
  {
   "cell_type": "markdown",
   "id": "related-montana",
   "metadata": {},
   "source": [
    "# Different Meaning of this WORD"
   ]
  },
  {
   "cell_type": "code",
   "execution_count": 2,
   "id": "steady-richards",
   "metadata": {},
   "outputs": [
    {
     "name": "stdout",
     "output_type": "stream",
     "text": [
      "Lemma('battle.n.01.battle')\n",
      "Lemma('battle.n.01.conflict')\n",
      "Lemma('battle.n.01.fight')\n",
      "Lemma('battle.n.01.engagement')\n",
      "Lemma('fight.n.02.fight')\n",
      "Lemma('fight.n.02.fighting')\n",
      "Lemma('fight.n.02.combat')\n",
      "Lemma('fight.n.02.scrap')\n",
      "Lemma('competitiveness.n.01.competitiveness')\n",
      "Lemma('competitiveness.n.01.fight')\n",
      "Lemma('fight.n.04.fight')\n",
      "Lemma('fight.n.05.fight')\n",
      "Lemma('contend.v.06.contend')\n",
      "Lemma('contend.v.06.fight')\n",
      "Lemma('contend.v.06.struggle')\n",
      "Lemma('fight.v.02.fight')\n",
      "Lemma('fight.v.02.oppose')\n",
      "Lemma('fight.v.02.fight_back')\n",
      "Lemma('fight.v.02.fight_down')\n",
      "Lemma('fight.v.02.defend')\n",
      "Lemma('fight.v.03.fight')\n",
      "Lemma('fight.v.03.struggle')\n",
      "Lemma('crusade.v.01.crusade')\n",
      "Lemma('crusade.v.01.fight')\n",
      "Lemma('crusade.v.01.press')\n",
      "Lemma('crusade.v.01.campaign')\n",
      "Lemma('crusade.v.01.push')\n",
      "Lemma('crusade.v.01.agitate')\n"
     ]
    }
   ],
   "source": [
    "wd= 'fight'\n",
    "\n",
    "# getting all meanings\n",
    "for j in wordnet.synsets(wd):\n",
    "    # Check all meanings of the words\n",
    "    for word in j.lemmas():\n",
    "        print(word)"
   ]
  },
  {
   "cell_type": "markdown",
   "id": "sporting-grace",
   "metadata": {},
   "source": [
    "# Definitions, Meaning, and EXAMPLES"
   ]
  },
  {
   "cell_type": "code",
   "execution_count": 3,
   "id": "interpreted-board",
   "metadata": {},
   "outputs": [
    {
     "name": "stdout",
     "output_type": "stream",
     "text": [
      "Synset('fight.n.02')\n"
     ]
    }
   ],
   "source": [
    "my_wd= \"fight\"\n",
    "word_cal= wordnet.synsets(my_wd)[1]\n",
    "\n",
    "print(word_cal) "
   ]
  },
  {
   "cell_type": "code",
   "execution_count": 4,
   "id": "automotive-frame",
   "metadata": {},
   "outputs": [
    {
     "name": "stdout",
     "output_type": "stream",
     "text": [
      "Synset('fight.n.02') (name):  fight.n.02\n",
      "Synset('fight.n.02') (definition):  the act of fighting; any contest or struggle\n",
      "Synset('fight.n.02') (example):  ['a fight broke out at the hockey game', 'there was fighting in the streets', 'the unhappy couple got into a terrible scrap']\n"
     ]
    }
   ],
   "source": [
    "print(word_cal,'(name): ',word_cal.name())\n",
    "print(word_cal,'(definition): ',word_cal.definition())\n",
    "print(word_cal,'(example): ',word_cal.examples())"
   ]
  },
  {
   "cell_type": "markdown",
   "id": "recorded-lease",
   "metadata": {},
   "source": [
    "# HYPERNYMS\n",
    "- It gives MORE ABSTRACT term of the WORD"
   ]
  },
  {
   "cell_type": "code",
   "execution_count": 5,
   "id": "proprietary-poland",
   "metadata": {},
   "outputs": [
    {
     "name": "stdout",
     "output_type": "stream",
     "text": [
      "[Synset('conflict.n.01')]\n"
     ]
    }
   ],
   "source": [
    "print(word_cal.hypernyms())"
   ]
  },
  {
   "cell_type": "code",
   "execution_count": 6,
   "id": "immune-morocco",
   "metadata": {},
   "outputs": [
    {
     "data": {
      "text/plain": [
       "[Synset('affray.n.02'),\n",
       " Synset('battering.n.01'),\n",
       " Synset('beating.n.01'),\n",
       " Synset('brawl.n.02'),\n",
       " Synset('brush.n.06'),\n",
       " Synset('close-quarter_fighting.n.01'),\n",
       " Synset('dogfight.n.04'),\n",
       " Synset('duel.n.01'),\n",
       " Synset('fencing.n.03'),\n",
       " Synset('fistfight.n.01'),\n",
       " Synset('gunfight.n.01'),\n",
       " Synset('hassle.n.02'),\n",
       " Synset('in-fighting.n.01'),\n",
       " Synset('knife_fight.n.01'),\n",
       " Synset('rumble.n.03'),\n",
       " Synset('set-to.n.01'),\n",
       " Synset('shock.n.02'),\n",
       " Synset('single_combat.n.01')]"
      ]
     },
     "execution_count": 6,
     "metadata": {},
     "output_type": "execute_result"
    }
   ],
   "source": [
    "word_cal.hyponyms()"
   ]
  },
  {
   "cell_type": "markdown",
   "id": "sixth-blast",
   "metadata": {},
   "source": [
    "# SYNONYMS\n",
    "- using <b>WORDNET</b> --> synets --> lemmas and lemmas names"
   ]
  },
  {
   "cell_type": "code",
   "execution_count": 7,
   "id": "changing-daniel",
   "metadata": {},
   "outputs": [
    {
     "name": "stdout",
     "output_type": "stream",
     "text": [
      "battle\n",
      "conflict\n",
      "fight\n",
      "engagement\n",
      "fight\n",
      "fighting\n",
      "combat\n",
      "scrap\n",
      "competitiveness\n",
      "fight\n",
      "fight\n",
      "fight\n",
      "contend\n",
      "fight\n",
      "struggle\n",
      "fight\n",
      "oppose\n",
      "fight_back\n",
      "fight_down\n",
      "defend\n",
      "fight\n",
      "struggle\n",
      "crusade\n",
      "fight\n",
      "press\n",
      "campaign\n",
      "push\n",
      "agitate\n"
     ]
    }
   ],
   "source": [
    "for wd in wordnet.synsets('fight'):\n",
    "    \n",
    "    # PRINT the lemmas NAMES\n",
    "    for j in wd.lemmas():\n",
    "        print(j.name())"
   ]
  },
  {
   "cell_type": "markdown",
   "id": "empty-teacher",
   "metadata": {},
   "source": [
    "# ANTONYMS"
   ]
  },
  {
   "cell_type": "code",
   "execution_count": 8,
   "id": "liquid-charity",
   "metadata": {},
   "outputs": [],
   "source": [
    "for wd in wordnet.synsets('fight'):\n",
    "    \n",
    "    # PRINT the lemmas NAMES\n",
    "    for j in wd.lemmas():\n",
    "        \n",
    "        if j.antonyms():\n",
    "            print(j.antonyms()[0].name())"
   ]
  },
  {
   "cell_type": "markdown",
   "id": "julian-design",
   "metadata": {},
   "source": [
    "# SIMILARITY between WORDS\n",
    "- Using <b>wup_similarity</b> to FIND similarity between TWO WORD"
   ]
  },
  {
   "cell_type": "code",
   "execution_count": 9,
   "id": "rental-symposium",
   "metadata": {},
   "outputs": [],
   "source": [
    "wd_one= wordnet.synsets(\"conflict\",\"n\")[0]\n",
    "wd_two= wordnet.synsets(\"dispute\",\"n\")[0]"
   ]
  },
  {
   "cell_type": "code",
   "execution_count": 10,
   "id": "enhanced-silver",
   "metadata": {},
   "outputs": [
    {
     "name": "stdout",
     "output_type": "stream",
     "text": [
      "Synset('dispute.n.01')\n",
      "Synset('dispute.n.01')\n"
     ]
    }
   ],
   "source": [
    "print(wordnet.synsets(\"dispute\")[0])\n",
    "print(wd_two)"
   ]
  },
  {
   "cell_type": "code",
   "execution_count": 11,
   "id": "emotional-porter",
   "metadata": {},
   "outputs": [
    {
     "name": "stdout",
     "output_type": "stream",
     "text": [
      "0.6666666666666666\n"
     ]
    }
   ],
   "source": [
    "print(wd_one.wup_similarity(wd_two))"
   ]
  },
  {
   "cell_type": "markdown",
   "id": "neither-material",
   "metadata": {},
   "source": [
    "# BAG-Of-Words\n",
    "- It is a method of extracting essential FEATURES from row text so that we can\n",
    "use it for machine leanring MODELS\n",
    "- We call it 'Bag' of words because we DISCARD the order of occurrences of words\n",
    "- A bag of words model converts the RAW text into words, and it also counts the \n",
    "FREQUENCY for the words in TEXT"
   ]
  },
  {
   "cell_type": "markdown",
   "id": "worth-sleeve",
   "metadata": {},
   "source": [
    "# Structure of Bag of Words:\n",
    "- Raw TEXT--> Clean Text--> Tokenize--> Build Vocab --> Generate Vectors"
   ]
  },
  {
   "cell_type": "code",
   "execution_count": null,
   "id": "transsexual-twins",
   "metadata": {},
   "outputs": [],
   "source": []
  }
 ],
 "metadata": {
  "kernelspec": {
   "display_name": "Python 3",
   "language": "python",
   "name": "python3"
  },
  "language_info": {
   "codemirror_mode": {
    "name": "ipython",
    "version": 3
   },
   "file_extension": ".py",
   "mimetype": "text/x-python",
   "name": "python",
   "nbconvert_exporter": "python",
   "pygments_lexer": "ipython3",
   "version": "3.8.5"
  }
 },
 "nbformat": 4,
 "nbformat_minor": 5
}
