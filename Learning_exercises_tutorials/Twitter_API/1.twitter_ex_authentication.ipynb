{
 "cells": [
  {
   "cell_type": "code",
   "execution_count": 1,
   "id": "reflected-consolidation",
   "metadata": {},
   "outputs": [
    {
     "name": "stdout",
     "output_type": "stream",
     "text": [
      "Requirement already satisfied: tweepy in c:\\users\\daiko\\anaconda3\\lib\\site-packages (3.10.0)\n",
      "Requirement already satisfied: six>=1.10.0 in c:\\users\\daiko\\anaconda3\\lib\\site-packages (from tweepy) (1.15.0)\n",
      "Requirement already satisfied: requests-oauthlib>=0.7.0 in c:\\users\\daiko\\anaconda3\\lib\\site-packages (from tweepy) (1.3.0)\n",
      "Requirement already satisfied: requests[socks]>=2.11.1 in c:\\users\\daiko\\anaconda3\\lib\\site-packages (from tweepy) (2.25.1)\n",
      "Requirement already satisfied: oauthlib>=3.0.0 in c:\\users\\daiko\\anaconda3\\lib\\site-packages (from requests-oauthlib>=0.7.0->tweepy) (3.1.0)\n",
      "Requirement already satisfied: urllib3<1.27,>=1.21.1 in c:\\users\\daiko\\anaconda3\\lib\\site-packages (from requests[socks]>=2.11.1->tweepy) (1.26.3)\n",
      "Requirement already satisfied: idna<3,>=2.5 in c:\\users\\daiko\\anaconda3\\lib\\site-packages (from requests[socks]>=2.11.1->tweepy) (2.10)\n",
      "Requirement already satisfied: certifi>=2017.4.17 in c:\\users\\daiko\\anaconda3\\lib\\site-packages (from requests[socks]>=2.11.1->tweepy) (2020.12.5)\n",
      "Requirement already satisfied: chardet<5,>=3.0.2 in c:\\users\\daiko\\anaconda3\\lib\\site-packages (from requests[socks]>=2.11.1->tweepy) (4.0.0)\n",
      "Requirement already satisfied: PySocks!=1.5.7,>=1.5.6 in c:\\users\\daiko\\anaconda3\\lib\\site-packages (from requests[socks]>=2.11.1->tweepy) (1.7.1)\n"
     ]
    }
   ],
   "source": [
    "!pip install tweepy"
   ]
  },
  {
   "cell_type": "code",
   "execution_count": 2,
   "id": "fifth-appendix",
   "metadata": {},
   "outputs": [],
   "source": [
    "import tweepy"
   ]
  },
  {
   "cell_type": "markdown",
   "id": "deluxe-commissioner",
   "metadata": {},
   "source": [
    "# Authenticating to TWITTER"
   ]
  },
  {
   "cell_type": "code",
   "execution_count": 3,
   "id": "dimensional-vaccine",
   "metadata": {},
   "outputs": [],
   "source": [
    "auth= tweepy.OAuthHandler('m9ddh89vDk9LOZc6XACiSVvoO','WSest1JgCIDLthldqFnimvtJcbRwmry61VHMCATRxcH1e1cORp')"
   ]
  },
  {
   "cell_type": "markdown",
   "id": "educational-leone",
   "metadata": {},
   "source": [
    "# Using the Authentication with API key and secret Key"
   ]
  },
  {
   "cell_type": "code",
   "execution_count": 4,
   "id": "floppy-holiday",
   "metadata": {},
   "outputs": [],
   "source": [
    "auth.set_access_token('271987878-T3ubQ879wcJUbjqZJj4cBP5XOmViYSA9R4njpVys','SSbyCuV4DMCIQkHGLbtdLqw0x0Wi4drZdOihrXRZk8RaB')"
   ]
  },
  {
   "cell_type": "code",
   "execution_count": 5,
   "id": "difficult-rainbow",
   "metadata": {},
   "outputs": [],
   "source": [
    "api= tweepy.API(auth)"
   ]
  },
  {
   "cell_type": "code",
   "execution_count": 6,
   "id": "hollow-parallel",
   "metadata": {},
   "outputs": [
    {
     "name": "stdout",
     "output_type": "stream",
     "text": [
      "Authentication Passed: OK!\n"
     ]
    }
   ],
   "source": [
    "try:\n",
    "    api.verify_credentials()\n",
    "    print(\"Authentication Passed: OK!\")\n",
    "    \n",
    "except:\n",
    "    print(\"Error Authentication: Failed!\")"
   ]
  },
  {
   "cell_type": "markdown",
   "id": "incoming-privacy",
   "metadata": {},
   "source": [
    "# CONTEXT of the article:\n",
    "* A Status is a TWEET\n",
    "* A friendship is a follow-follower relationship\n",
    "* A favorite is a like"
   ]
  },
  {
   "cell_type": "markdown",
   "id": "hindu-gathering",
   "metadata": {},
   "source": [
    "# Twitter API functions:\n",
    "-\tOAuth\n",
    "-\tThe API class\n",
    "-\tModels\n",
    "-\tCursors\n",
    "-\tStreams\n",
    "# OAuth\n",
    "-\tTweepy takes ccare of all the DETAILS for using OAuth required by the TWITTER API to authenticate each REQUEST\n",
    "-\tIt provides an OAuthHandler Class that you can use to set the credentials to be used in all API calls\n",
    "# The API Class\n",
    "-\tThe API class has many methods that provide access to Twitter API endpoints. Using these methods, you can access the Twitter API’s functionality\n",
    "-\tTo invoke Twitter API methods\n"
   ]
  },
  {
   "cell_type": "markdown",
   "id": "compound-sunrise",
   "metadata": {},
   "source": [
    "# API class\n",
    "- Below, API class makes the API object print a message and wait if the RATE\n",
    "limit is exceeded"
   ]
  },
  {
   "cell_type": "markdown",
   "id": "bridal-longer",
   "metadata": {},
   "source": [
    "# API methods can be grouped into Different Categories:\n",
    "- methods for USer Timelines\n",
    "- Methods for Tweets\n",
    "- Methods for USERS\n",
    "- Method for Followers\n",
    "- Methods for your account\n",
    "- Methods for LIKES\n",
    "- Methods for TRENDS"
   ]
  },
  {
   "cell_type": "code",
   "execution_count": null,
   "id": "expanded-dance",
   "metadata": {},
   "outputs": [],
   "source": []
  },
  {
   "cell_type": "code",
   "execution_count": 7,
   "id": "lovely-scoop",
   "metadata": {},
   "outputs": [],
   "source": [
    "api= tweepy.API(auth, wait_on_rate_limit=True, wait_on_rate_limit_notify= True)"
   ]
  },
  {
   "cell_type": "markdown",
   "id": "loaded-warehouse",
   "metadata": {},
   "source": [
    "# Print Timeline:\n",
    "- USER's Tweets timeline"
   ]
  },
  {
   "cell_type": "code",
   "execution_count": 8,
   "id": "social-working",
   "metadata": {},
   "outputs": [
    {
     "name": "stdout",
     "output_type": "stream",
     "text": [
      "Reuters said TeamViewer acquires U.S. augmented reality software firm Upskill https://t.co/ebrPr8iDoa https://t.co/b6wUtF1cUH \n",
      "\n",
      "Bloomberg said South Korea’s manufacturing activity expanded at the fastest pace in more than a decade in February https://t.co/mWodyQOIZP \n",
      "\n",
      "Bloomberg said South Korea’s manufacturing activity expanded at the fastest pace in more than a decade in February https://t.co/50dWtSP34T \n",
      "\n",
      "Bloomberg said Freight hauliers are rejecting more cargoes due to cross the U.K. border because of post-Brexit customs friction, a… https://t.co/dsKMoSCfe3 \n",
      "\n",
      "The Economist said White evangelicals are the bedrock of the Republican Party in America https://t.co/fpKT9nCuMQ \n",
      "\n",
      "Bloomberg said Send this story to your boss: The four-day work week is coming soon https://t.co/tsZXyePIfN via @BW \n",
      "\n",
      "Bloomberg said Shipping companies are using kill switches, panic buttons, plainclothes guards, and tons of monitoring to ensure th… https://t.co/XcH8z7RDKq \n",
      "\n",
      "TIME said \"In his return to politics, Donald Trump uses lies and bullying to threaten his party,\" writes @Philip_Elliott https://t.co/ljInCehkdO \n",
      "\n",
      "CNN International said A rare Winston Churchill painting that was gifted to FDR and made its way into actor Angelina Jolie's collection ha… https://t.co/yiJIY24RNT \n",
      "\n",
      "Reuters said Spanish unions cry foul as Inditex shuts stores https://t.co/WO292fJuR8 https://t.co/yw3SLQ3jXb \n",
      "\n",
      "The New York Times said The first detailed studies of the so-called P.1 coronavirus variant show that it gained the ability to infect some… https://t.co/puBQ7jgGlD \n",
      "\n",
      "The Wall Street Journal said From @WSJopinion: At Nasdaq, we’ve listened to critics and amended our diversity plan, writes @adenatfriedman https://t.co/b5EArNf6r3 \n",
      "\n",
      "Bloomberg said Chancellor Rishi Sunak’s determination to bring Britain’s public finances under control marks a very different tone… https://t.co/XRxK9wnaSd \n",
      "\n",
      "Manchester City said Our first League Cup win in 38 years back in 2014! 🏆 🙌\n",
      "\n",
      "⏰ #OnThisDay 2014\n",
      "🔷 #ManCity | https://t.co/axa0klD5re https://t.co/acAfxmB2s7 \n",
      "\n",
      "SPORTbible said 🗣️ \"It was just simply a lack of communication, a freak situation.\"\n",
      "\n",
      "Manchester United had won the race to sign Haa… https://t.co/qtVnsu3GW1 \n",
      "\n",
      "Reuters said 👩‍🍳 Hungarians are baking for ambulance crews across the country after the founder of an online cookery group asked… https://t.co/kTAyGypjCG \n",
      "\n",
      "UberFacts said RT @UberFacts: Flight attendants often avoid drinking the hot coffee and tea served on planes because the water comes from the tap, which i… \n",
      "\n",
      "Reuters said Hearing for Hong Kong democracy activists resumes after marathon session https://t.co/7Pvm8sXohX https://t.co/vDWkAS7gEe \n",
      "\n",
      "Football Tweet said Tonight's Premier League fixture:\n",
      "\n",
      "⏰ 8pm:\n",
      "Man City vs. Wolves https://t.co/UcZXAR5qg6 \n",
      "\n",
      "Bloomberg said China bubble worries, Zoom's longevity, New York variant. Get ready for Tuesday https://t.co/HiZSYZnVOU \n",
      "\n"
     ]
    }
   ],
   "source": [
    "timeline= api.home_timeline()\n",
    "\n",
    "for tweet in timeline:\n",
    "    print(f\"{tweet.user.name} said {tweet.text}\",\"\\n\")"
   ]
  },
  {
   "cell_type": "markdown",
   "id": "cultural-resident",
   "metadata": {},
   "source": [
    "# Getting USER details:"
   ]
  },
  {
   "cell_type": "code",
   "execution_count": 9,
   "id": "secondary-backup",
   "metadata": {},
   "outputs": [],
   "source": [
    "user= api.get_user(\"elonmusk\")"
   ]
  },
  {
   "cell_type": "code",
   "execution_count": 17,
   "id": "intermediate-credits",
   "metadata": {},
   "outputs": [
    {
     "name": "stdout",
     "output_type": "stream",
     "text": [
      "User details:\n",
      "Elon Musk\n",
      "\n",
      "\n",
      "Followers:  48317052\n"
     ]
    }
   ],
   "source": [
    "print(\"User details:\")\n",
    "print(user.name)\n",
    "print(user.description)\n",
    "print(user.location)\n",
    "print(\"Followers: \",user.followers_count)"
   ]
  },
  {
   "cell_type": "code",
   "execution_count": 31,
   "id": "pressed-taylor",
   "metadata": {},
   "outputs": [
    {
     "name": "stdout",
     "output_type": "stream",
     "text": [
      "<bound method User.timeline of User(_api=<tweepy.api.API object at 0x0000024995947820>, _json={'id': 44196397, 'id_str': '44196397', 'name': 'Elon Musk', 'screen_name': 'elonmusk', 'location': '', 'profile_location': None, 'description': '', 'url': None, 'entities': {'description': {'urls': []}}, 'protected': False, 'followers_count': 48317052, 'friends_count': 103, 'listed_count': 65330, 'created_at': 'Tue Jun 02 20:12:29 +0000 2009', 'favourites_count': 8189, 'utc_offset': None, 'time_zone': None, 'geo_enabled': False, 'verified': True, 'statuses_count': 13697, 'lang': None, 'status': {'created_at': 'Mon Mar 01 22:25:54 +0000 2021', 'id': 1366515063633309696, 'id_str': '1366515063633309696', 'text': '@WholeMarsBlog Note, buying FSD will still be a better long-term deal than subscription', 'truncated': False, 'entities': {'hashtags': [], 'symbols': [], 'user_mentions': [{'screen_name': 'WholeMarsBlog', 'name': 'Whole Mars Catalog', 'id': 1263491240336769026, 'id_str': '1263491240336769026', 'indices': [0, 14]}], 'urls': []}, 'source': '<a href=\"http://twitter.com/download/iphone\" rel=\"nofollow\">Twitter for iPhone</a>', 'in_reply_to_status_id': 1366514764868775936, 'in_reply_to_status_id_str': '1366514764868775936', 'in_reply_to_user_id': 44196397, 'in_reply_to_user_id_str': '44196397', 'in_reply_to_screen_name': 'elonmusk', 'geo': None, 'coordinates': None, 'place': None, 'contributors': None, 'is_quote_status': False, 'retweet_count': 188, 'favorite_count': 2764, 'favorited': False, 'retweeted': False, 'lang': 'en'}, 'contributors_enabled': False, 'is_translator': False, 'is_translation_enabled': False, 'profile_background_color': 'C0DEED', 'profile_background_image_url': 'http://abs.twimg.com/images/themes/theme1/bg.png', 'profile_background_image_url_https': 'https://abs.twimg.com/images/themes/theme1/bg.png', 'profile_background_tile': False, 'profile_image_url': 'http://pbs.twimg.com/profile_images/1364491704817098753/V22-Luf7_normal.jpg', 'profile_image_url_https': 'https://pbs.twimg.com/profile_images/1364491704817098753/V22-Luf7_normal.jpg', 'profile_banner_url': 'https://pbs.twimg.com/profile_banners/44196397/1576183471', 'profile_link_color': '0084B4', 'profile_sidebar_border_color': 'C0DEED', 'profile_sidebar_fill_color': 'DDEEF6', 'profile_text_color': '333333', 'profile_use_background_image': True, 'has_extended_profile': True, 'default_profile': False, 'default_profile_image': False, 'following': False, 'follow_request_sent': False, 'notifications': False, 'translator_type': 'none'}, id=44196397, id_str='44196397', name='Elon Musk', screen_name='elonmusk', location='', profile_location=None, description='', url=None, entities={'description': {'urls': []}}, protected=False, followers_count=48317052, friends_count=103, listed_count=65330, created_at=datetime.datetime(2009, 6, 2, 20, 12, 29), favourites_count=8189, utc_offset=None, time_zone=None, geo_enabled=False, verified=True, statuses_count=13697, lang=None, status=Status(_api=<tweepy.api.API object at 0x0000024995947820>, _json={'created_at': 'Mon Mar 01 22:25:54 +0000 2021', 'id': 1366515063633309696, 'id_str': '1366515063633309696', 'text': '@WholeMarsBlog Note, buying FSD will still be a better long-term deal than subscription', 'truncated': False, 'entities': {'hashtags': [], 'symbols': [], 'user_mentions': [{'screen_name': 'WholeMarsBlog', 'name': 'Whole Mars Catalog', 'id': 1263491240336769026, 'id_str': '1263491240336769026', 'indices': [0, 14]}], 'urls': []}, 'source': '<a href=\"http://twitter.com/download/iphone\" rel=\"nofollow\">Twitter for iPhone</a>', 'in_reply_to_status_id': 1366514764868775936, 'in_reply_to_status_id_str': '1366514764868775936', 'in_reply_to_user_id': 44196397, 'in_reply_to_user_id_str': '44196397', 'in_reply_to_screen_name': 'elonmusk', 'geo': None, 'coordinates': None, 'place': None, 'contributors': None, 'is_quote_status': False, 'retweet_count': 188, 'favorite_count': 2764, 'favorited': False, 'retweeted': False, 'lang': 'en'}, created_at=datetime.datetime(2021, 3, 1, 22, 25, 54), id=1366515063633309696, id_str='1366515063633309696', text='@WholeMarsBlog Note, buying FSD will still be a better long-term deal than subscription', truncated=False, entities={'hashtags': [], 'symbols': [], 'user_mentions': [{'screen_name': 'WholeMarsBlog', 'name': 'Whole Mars Catalog', 'id': 1263491240336769026, 'id_str': '1263491240336769026', 'indices': [0, 14]}], 'urls': []}, source='Twitter for iPhone', source_url='http://twitter.com/download/iphone', in_reply_to_status_id=1366514764868775936, in_reply_to_status_id_str='1366514764868775936', in_reply_to_user_id=44196397, in_reply_to_user_id_str='44196397', in_reply_to_screen_name='elonmusk', geo=None, coordinates=None, place=None, contributors=None, is_quote_status=False, retweet_count=188, favorite_count=2764, favorited=False, retweeted=False, lang='en'), contributors_enabled=False, is_translator=False, is_translation_enabled=False, profile_background_color='C0DEED', profile_background_image_url='http://abs.twimg.com/images/themes/theme1/bg.png', profile_background_image_url_https='https://abs.twimg.com/images/themes/theme1/bg.png', profile_background_tile=False, profile_image_url='http://pbs.twimg.com/profile_images/1364491704817098753/V22-Luf7_normal.jpg', profile_image_url_https='https://pbs.twimg.com/profile_images/1364491704817098753/V22-Luf7_normal.jpg', profile_banner_url='https://pbs.twimg.com/profile_banners/44196397/1576183471', profile_link_color='0084B4', profile_sidebar_border_color='C0DEED', profile_sidebar_fill_color='DDEEF6', profile_text_color='333333', profile_use_background_image=True, has_extended_profile=True, default_profile=False, default_profile_image=False, following=False, follow_request_sent=False, notifications=False, translator_type='none')>\n"
     ]
    }
   ],
   "source": [
    "# Iterating the tweets from the user's timeline\n",
    "import json\n",
    "\n",
    "\n",
    "print(user.timeline)"
   ]
  },
  {
   "cell_type": "code",
   "execution_count": null,
   "id": "understanding-equilibrium",
   "metadata": {},
   "outputs": [],
   "source": []
  },
  {
   "cell_type": "markdown",
   "id": "convenient-campaign",
   "metadata": {},
   "source": [
    "# TWEETS from the USER"
   ]
  },
  {
   "cell_type": "code",
   "execution_count": 11,
   "id": "killing-medicine",
   "metadata": {},
   "outputs": [],
   "source": [
    "import json"
   ]
  },
  {
   "cell_type": "code",
   "execution_count": 12,
   "id": "auburn-coffee",
   "metadata": {},
   "outputs": [
    {
     "name": "stdout",
     "output_type": "stream",
     "text": [
      "Elon Musk\n"
     ]
    }
   ],
   "source": [
    "print(user.name)"
   ]
  },
  {
   "cell_type": "markdown",
   "id": "searching-correlation",
   "metadata": {},
   "source": [
    "# FOLLOWERS"
   ]
  },
  {
   "cell_type": "markdown",
   "id": "executive-greensboro",
   "metadata": {},
   "source": [
    "# LIST followers:\n",
    "- information\n",
    "- descriptions"
   ]
  },
  {
   "cell_type": "code",
   "execution_count": 13,
   "id": "scheduled-change",
   "metadata": {},
   "outputs": [
    {
     "name": "stdout",
     "output_type": "stream",
     "text": [
      "Followers of  Elon Musk\n",
      "Last 20 Followers:\n",
      "Abdurrahman :   \n",
      "\n",
      "Marcellus McGraw :   \n",
      "\n",
      "Ozzy :   \n",
      "\n",
      "kaqzy :  Hi \n",
      "\n",
      "Hassan Kashif :   \n",
      "\n",
      "MAHESH MENON A :   \n",
      "\n",
      "Ganesh Niraula :  Chief Operating Officer at Digital System Of Nepal https://t.co/649s0SIM88. \n",
      "\n",
      "Ystelle :   \n",
      "\n",
      "sunner :  Just nobody；But want somebody\n",
      "#Taipei \n",
      "\n",
      "Stephanie :   \n",
      "\n",
      "Ashkan Tirgary :   \n",
      "\n",
      "Bullshark Deluxe :  Welcome. \n",
      "\n",
      "Iraq \n",
      "\n",
      "7848067022 :  fuck up \n",
      "\n",
      "Bobby Sunar :   \n",
      "\n",
      "Mr Manger :  Ae yo Just playing games \n",
      "\n",
      "Ferid Abishov :   \n",
      "\n",
      "Junxiao Wang :   \n",
      "\n",
      "Patil Mitvesh :   \n",
      "\n",
      "Anarchista :  anarchospirytualizm \n",
      "\n",
      "Dee Dee :  😎 \n",
      "\n"
     ]
    }
   ],
   "source": [
    "print(\"Followers of \", user.name)\n",
    "print(\"Last 20 Followers:\")\n",
    "for j in user.followers():\n",
    "    \n",
    "    print (j.name,\": \", j.description,\"\\n\")"
   ]
  },
  {
   "cell_type": "markdown",
   "id": "danish-mills",
   "metadata": {},
   "source": [
    "# Tweeting with update"
   ]
  },
  {
   "cell_type": "code",
   "execution_count": 14,
   "id": "forty-instrumentation",
   "metadata": {},
   "outputs": [],
   "source": [
    "#for j in range(0,5):\n",
    "    #api.update_status(\"Bot Test: Tweet from Python tweepy API: Test: \",j )"
   ]
  },
  {
   "cell_type": "markdown",
   "id": "annoying-boulder",
   "metadata": {},
   "source": [
    "# STREAMING TWEET with specified STRING\n",
    "- waits for the TWEET "
   ]
  },
  {
   "cell_type": "code",
   "execution_count": null,
   "id": "elder-accommodation",
   "metadata": {},
   "outputs": [],
   "source": [
    "# creating TWO objects:\n",
    "- Strem object uses the Twitter API to get tweets that match some criteria.\n",
    "- Stream Listerner recieves tweetsfrom the "
   ]
  }
 ],
 "metadata": {
  "kernelspec": {
   "display_name": "Python 3",
   "language": "python",
   "name": "python3"
  },
  "language_info": {
   "codemirror_mode": {
    "name": "ipython",
    "version": 3
   },
   "file_extension": ".py",
   "mimetype": "text/x-python",
   "name": "python",
   "nbconvert_exporter": "python",
   "pygments_lexer": "ipython3",
   "version": "3.8.5"
  }
 },
 "nbformat": 4,
 "nbformat_minor": 5
}
