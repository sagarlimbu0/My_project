{
 "cells": [
  {
   "cell_type": "code",
   "execution_count": 1,
   "id": "reflected-consolidation",
   "metadata": {},
   "outputs": [
    {
     "name": "stdout",
     "output_type": "stream",
     "text": [
      "Requirement already satisfied: tweepy in c:\\users\\daiko\\anaconda3\\lib\\site-packages (3.10.0)\n",
      "Requirement already satisfied: requests-oauthlib>=0.7.0 in c:\\users\\daiko\\anaconda3\\lib\\site-packages (from tweepy) (1.3.0)\n",
      "Requirement already satisfied: six>=1.10.0 in c:\\users\\daiko\\anaconda3\\lib\\site-packages (from tweepy) (1.15.0)\n",
      "Requirement already satisfied: requests[socks]>=2.11.1 in c:\\users\\daiko\\anaconda3\\lib\\site-packages (from tweepy) (2.25.1)\n",
      "Requirement already satisfied: oauthlib>=3.0.0 in c:\\users\\daiko\\anaconda3\\lib\\site-packages (from requests-oauthlib>=0.7.0->tweepy) (3.1.0)\n",
      "Requirement already satisfied: chardet<5,>=3.0.2 in c:\\users\\daiko\\anaconda3\\lib\\site-packages (from requests[socks]>=2.11.1->tweepy) (4.0.0)\n",
      "Requirement already satisfied: idna<3,>=2.5 in c:\\users\\daiko\\anaconda3\\lib\\site-packages (from requests[socks]>=2.11.1->tweepy) (2.10)\n",
      "Requirement already satisfied: certifi>=2017.4.17 in c:\\users\\daiko\\anaconda3\\lib\\site-packages (from requests[socks]>=2.11.1->tweepy) (2020.12.5)\n",
      "Requirement already satisfied: urllib3<1.27,>=1.21.1 in c:\\users\\daiko\\anaconda3\\lib\\site-packages (from requests[socks]>=2.11.1->tweepy) (1.26.3)\n",
      "Requirement already satisfied: PySocks!=1.5.7,>=1.5.6 in c:\\users\\daiko\\anaconda3\\lib\\site-packages (from requests[socks]>=2.11.1->tweepy) (1.7.1)\n"
     ]
    }
   ],
   "source": [
    "!pip install tweepy"
   ]
  },
  {
   "cell_type": "code",
   "execution_count": 2,
   "id": "fifth-appendix",
   "metadata": {},
   "outputs": [],
   "source": [
    "import tweepy"
   ]
  },
  {
   "cell_type": "markdown",
   "id": "deluxe-commissioner",
   "metadata": {},
   "source": [
    "# Authenticating to TWITTER"
   ]
  },
  {
   "cell_type": "code",
   "execution_count": 3,
   "id": "dimensional-vaccine",
   "metadata": {},
   "outputs": [],
   "source": [
    "auth= tweepy.OAuthHandler('m9ddh89vDk9LOZc6XACiSVvoO','WSest1JgCIDLthldqFnimvtJcbRwmry61VHMCATRxcH1e1cORp')"
   ]
  },
  {
   "cell_type": "markdown",
   "id": "educational-leone",
   "metadata": {},
   "source": [
    "# Using the Authentication with API key and secret Key"
   ]
  },
  {
   "cell_type": "code",
   "execution_count": 4,
   "id": "floppy-holiday",
   "metadata": {},
   "outputs": [],
   "source": [
    "auth.set_access_token('271987878-T3ubQ879wcJUbjqZJj4cBP5XOmViYSA9R4njpVys','SSbyCuV4DMCIQkHGLbtdLqw0x0Wi4drZdOihrXRZk8RaB')"
   ]
  },
  {
   "cell_type": "code",
   "execution_count": 5,
   "id": "difficult-rainbow",
   "metadata": {},
   "outputs": [],
   "source": [
    "api= tweepy.API(auth)"
   ]
  },
  {
   "cell_type": "code",
   "execution_count": 6,
   "id": "hollow-parallel",
   "metadata": {},
   "outputs": [
    {
     "name": "stdout",
     "output_type": "stream",
     "text": [
      "Authentication Passed: OK!\n"
     ]
    }
   ],
   "source": [
    "try:\n",
    "    api.verify_credentials()\n",
    "    print(\"Authentication Passed: OK!\")\n",
    "    \n",
    "except:\n",
    "    print(\"Error Authentication: Failed!\")"
   ]
  },
  {
   "cell_type": "markdown",
   "id": "incoming-privacy",
   "metadata": {},
   "source": [
    "# CONTEXT of the article:\n",
    "* A Status is a TWEET\n",
    "* A friendship is a follow-follower relationship\n",
    "* A favorite is a like"
   ]
  },
  {
   "cell_type": "markdown",
   "id": "hindu-gathering",
   "metadata": {},
   "source": [
    "# Twitter API functions:\n",
    "-\tOAuth\n",
    "-\tThe API class\n",
    "-\tModels\n",
    "-\tCursors\n",
    "-\tStreams\n",
    "# OAuth\n",
    "-\tTweepy takes ccare of all the DETAILS for using OAuth required by the TWITTER API to authenticate each REQUEST\n",
    "-\tIt provides an OAuthHandler Class that you can use to set the credentials to be used in all API calls\n",
    "# The API Class\n",
    "-\tThe API class has many methods that provide access to Twitter API endpoints. Using these methods, you can access the Twitter API’s functionality\n",
    "-\tTo invoke Twitter API methods\n"
   ]
  },
  {
   "cell_type": "markdown",
   "id": "compound-sunrise",
   "metadata": {},
   "source": [
    "# API class\n",
    "- Below, API class makes the API object print a message and wait if the RATE\n",
    "limit is exceeded"
   ]
  },
  {
   "cell_type": "markdown",
   "id": "bridal-longer",
   "metadata": {},
   "source": [
    "# API methods can be grouped into Different Categories:\n",
    "- methods for USer Timelines\n",
    "- Methods for Tweets\n",
    "- Methods for USERS\n",
    "- Method for Followers\n",
    "- Methods for your account\n",
    "- Methods for LIKES\n",
    "- Methods for TRENDS"
   ]
  },
  {
   "cell_type": "code",
   "execution_count": null,
   "id": "expanded-dance",
   "metadata": {},
   "outputs": [],
   "source": []
  },
  {
   "cell_type": "code",
   "execution_count": 7,
   "id": "lovely-scoop",
   "metadata": {},
   "outputs": [],
   "source": [
    "api= tweepy.API(auth, wait_on_rate_limit=True, wait_on_rate_limit_notify= True)"
   ]
  },
  {
   "cell_type": "markdown",
   "id": "loaded-warehouse",
   "metadata": {},
   "source": [
    "# Print Timeline"
   ]
  },
  {
   "cell_type": "code",
   "execution_count": 8,
   "id": "social-working",
   "metadata": {},
   "outputs": [
    {
     "name": "stdout",
     "output_type": "stream",
     "text": [
      "The Wall Street Journal saidThis month’s jump in Treasury yields is weighing on technology shares and prompting a reassessment of the threat po… https://t.co/kej5Acdsz8 \n",
      "\n",
      "Al Jazeera English saidUK to challenge China at UN meeting for “urgent\" access to Xinjiang region where some one million Uighurs are thoug… https://t.co/wrJb4kxiZY \n",
      "\n",
      "CNN International saidBoris Johnson's government is \"gaslighting\" Britain about the realities of Brexit, critics say | Analysis by… https://t.co/kaKHWmxtai \n",
      "\n",
      "Bloomberg saidThe Texas deep freeze has delivered Australian investment bank Macquarie a windfall of as much as A$270 million ($2… https://t.co/463DIYgCX1 \n",
      "\n",
      "The Economist saidFind out more about executive education from The Economist. Navigate international politics with our six-week cours… https://t.co/QadegNHelt \n",
      "\n",
      "Reuters saidBaidu-Geely EV venture names Mobike co-founder as chief https://t.co/0SYqOdAYab https://t.co/yKNoNxoiK9 \n",
      "\n",
      "Bloomberg saidChina to enlist Ant-backed MYbank and Tencent-backed WeBank to expand digital yuan trial https://t.co/ZtHwLjrW4a \n",
      "\n",
      "Reuters saidResurgence of COVID-19 in India's Maharastra forces fresh containment measures https://t.co/kaj2zWtT07 https://t.co/dFgkeDprae \n",
      "\n",
      "Bloomberg Economics saidEconomists will be looking for clues from the Bank of Israel about how it will steer the economy now https://t.co/XErqIBkO9R \n",
      "\n",
      "Bloomberg saidThe battle to supply 1.4 billion people with fresh fruit and vegetables is taking China’s e-commerce companies into… https://t.co/sG1zS7yL8I \n",
      "\n",
      "Bloomberg saidOsaka Exchange President Hiromi Yamaji will take the top post at the Tokyo Stock Exchange, replacing the official w… https://t.co/9S8PPshRJ8 \n",
      "\n",
      "Reuters saidAstraZeneca to withdraw Imfinzi U.S. indication for advanced bladder cancer https://t.co/A7PbLt2bdh https://t.co/6D9iw3N9r5 \n",
      "\n",
      "Bloomberg Economics saidChina will push forward rural land reforms in a cautious manner as it tries to balance bolstering food security, pa… https://t.co/WRJZWUk4Ah \n",
      "\n",
      "CNN International saidThe International Atomic Energy Agency has struck a deal with Iran that will give its inspectors continued access t… https://t.co/57vef6bIrn \n",
      "\n",
      "BBC News (World) saidThere's a \"window of opportunity to accelerate the peace process,\" Afghanistan President Ashraf Ghani tells BBC  https://t.co/WHqENdRLPO \n",
      "\n",
      "Bloomberg saidDemocrats begin the final push for President Joe Biden’s $1.9 trillion stimulus bill this week, dropping any preten… https://t.co/oCw6FiUwYy \n",
      "\n",
      "Al Jazeera English saidNew Zealand rescuers scramble to save 49 beached pilot whales at notorious Farewell Spit Bay https://t.co/1sr4NQWK9k https://t.co/SeoOjmspo2 \n",
      "\n",
      "BBC Health News saidCovid-19: 'Relief' for Guernsey businesses allowed to reopen https://t.co/GttmebaPmM \n",
      "\n",
      "Reuters saidEU should prepare additional sanctions on Russia, Germany says https://t.co/LQE61fNjvJ https://t.co/Y7wYGL1900 \n",
      "\n",
      "The Economist saidIn the past six years, The Baltimore Wood Project has salvaged wood from around 850 houses—but many more have been… https://t.co/DvcaGN0m34 \n",
      "\n"
     ]
    }
   ],
   "source": [
    "timeline= api.home_timeline()\n",
    "\n",
    "for tweet in timeline:\n",
    "    print(f\"{tweet.user.name} said{tweet.text}\",\"\\n\")"
   ]
  },
  {
   "cell_type": "markdown",
   "id": "cultural-resident",
   "metadata": {},
   "source": [
    "# Getting USER details:"
   ]
  },
  {
   "cell_type": "code",
   "execution_count": 9,
   "id": "secondary-backup",
   "metadata": {},
   "outputs": [],
   "source": [
    "user= api.get_user(\"elonmusk\")"
   ]
  },
  {
   "cell_type": "code",
   "execution_count": 10,
   "id": "intermediate-credits",
   "metadata": {},
   "outputs": [
    {
     "name": "stdout",
     "output_type": "stream",
     "text": [
      "User details:\n",
      "Elon Musk\n",
      "meta fork\n",
      "\n"
     ]
    }
   ],
   "source": [
    "print(\"User details:\")\n",
    "print(user.name)\n",
    "print(user.description)\n",
    "print(user.location)"
   ]
  },
  {
   "cell_type": "code",
   "execution_count": 11,
   "id": "scheduled-change",
   "metadata": {},
   "outputs": [
    {
     "name": "stdout",
     "output_type": "stream",
     "text": [
      "Followers of  Elon Musk\n",
      "Last 20 Followers:\n",
      "Sabri TEMİZKAN\n",
      "Youngistaan ka Kisaan\n",
      "Vlad Melnyk\n",
      "Bart\n",
      "Anka Dee\n",
      "Onur\n",
      "Liam Higgs\n",
      "Robin van Leeuwen\n",
      "Rayavaram Ganesh Kumar Reddy\n",
      "Tolga\n",
      "Salvatore Raia\n",
      "Khue\n",
      "arvsss\n",
      "Byamukama Adonia\n",
      "Nia\n",
      "Petro Bellos\n",
      "Jocy\n",
      "jackie\n",
      "J Mark Ulangca\n",
      "Sezgin\n"
     ]
    }
   ],
   "source": [
    "# LIST followers:\n",
    "print(\"Followers of \", user.name)\n",
    "print(\"Last 20 Followers:\")\n",
    "for j in user.followers():\n",
    "    print(j.name)"
   ]
  },
  {
   "cell_type": "markdown",
   "id": "danish-mills",
   "metadata": {},
   "source": [
    "# Tweeting with update"
   ]
  },
  {
   "cell_type": "code",
   "execution_count": 14,
   "id": "forty-instrumentation",
   "metadata": {},
   "outputs": [],
   "source": [
    "#for j in range(0,5):\n",
    "    #api.update_status(\"Bot Test: Tweet from Python tweepy API: Test: \",j )"
   ]
  },
  {
   "cell_type": "code",
   "execution_count": null,
   "id": "removable-token",
   "metadata": {},
   "outputs": [],
   "source": []
  }
 ],
 "metadata": {
  "kernelspec": {
   "display_name": "Python 3",
   "language": "python",
   "name": "python3"
  },
  "language_info": {
   "codemirror_mode": {
    "name": "ipython",
    "version": 3
   },
   "file_extension": ".py",
   "mimetype": "text/x-python",
   "name": "python",
   "nbconvert_exporter": "python",
   "pygments_lexer": "ipython3",
   "version": "3.8.5"
  }
 },
 "nbformat": 4,
 "nbformat_minor": 5
}
