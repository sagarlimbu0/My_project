{
 "cells": [
  {
   "cell_type": "markdown",
   "id": "infinite-jerusalem",
   "metadata": {},
   "source": [
    "# Cursors\n",
    "- By default, a Twitter API endpoints returns only the first page of the TIMELINE\n",
    "- THus, by using CURSOR, we can get <b>n</b> number of TWEETS"
   ]
  },
  {
   "cell_type": "code",
   "execution_count": 12,
   "id": "possible-width",
   "metadata": {},
   "outputs": [],
   "source": [
    "import tweepy\n",
    "import pandas as pd"
   ]
  },
  {
   "cell_type": "markdown",
   "id": "aggressive-banks",
   "metadata": {},
   "source": [
    "# passing Credentials"
   ]
  },
  {
   "cell_type": "code",
   "execution_count": 2,
   "id": "wooden-input",
   "metadata": {},
   "outputs": [],
   "source": [
    "auth= tweepy.OAuthHandler('m9ddh89vDk9LOZc6XACiSVvoO','WSest1JgCIDLthldqFnimvtJcbRwmry61VHMCATRxcH1e1cORp')"
   ]
  },
  {
   "cell_type": "markdown",
   "id": "sealed-organ",
   "metadata": {},
   "source": [
    "# NOW, performing Authentication:\n",
    "- By getting the ACCESS TOKEN First\n",
    "- By passing user API key and Secret Key"
   ]
  },
  {
   "cell_type": "code",
   "execution_count": 3,
   "id": "lucky-billy",
   "metadata": {},
   "outputs": [],
   "source": [
    "auth.set_access_token('271987878-T3ubQ879wcJUbjqZJj4cBP5XOmViYSA9R4njpVys','SSbyCuV4DMCIQkHGLbtdLqw0x0Wi4drZdOihrXRZk8RaB')"
   ]
  },
  {
   "cell_type": "code",
   "execution_count": 4,
   "id": "conscious-copyright",
   "metadata": {},
   "outputs": [],
   "source": [
    "# Authentication\n",
    "api = tweepy.API(auth)"
   ]
  },
  {
   "cell_type": "code",
   "execution_count": 5,
   "id": "continent-lease",
   "metadata": {},
   "outputs": [
    {
     "name": "stdout",
     "output_type": "stream",
     "text": [
      "Sucess !!\n"
     ]
    }
   ],
   "source": [
    "# Verifying the credentails\n",
    "\n",
    "try:\n",
    "    api.verify_credentials\n",
    "    print(\"Sucess !!\")\n",
    "    \n",
    "except:\n",
    "    print(\"error\")"
   ]
  },
  {
   "cell_type": "markdown",
   "id": "responsible-dayton",
   "metadata": {},
   "source": [
    "# CURSORS\n",
    "- to get <b>n</b> number of TWEETSm"
   ]
  },
  {
   "cell_type": "markdown",
   "id": "intermediate-companion",
   "metadata": {},
   "source": [
    "# FORMAT:\n",
    "- using 'f' string\n",
    "- f\"{tweet.user.name} said:{tweet.text}\""
   ]
  },
  {
   "cell_type": "code",
   "execution_count": 22,
   "id": "protected-profit",
   "metadata": {},
   "outputs": [
    {
     "name": "stdout",
     "output_type": "stream",
     "text": [
      "['The Economist']\n",
      "['Reuters']\n",
      "['The Wall Street Journal']\n",
      "['Bloomberg Economics']\n",
      "['Reuters']\n",
      "['Reuters']\n",
      "['Reuters']\n",
      "['UberFacts']\n",
      "['TIME']\n",
      "['Bloomberg']\n",
      "['CNN International']\n",
      "['SPORTbible']\n",
      "['The Wall Street Journal']\n",
      "['Reuters']\n",
      "['The Economist']\n",
      "['Reuters']\n",
      "['Reuters']\n",
      "['The New York Times']\n",
      "['Reuters']\n",
      "['Reuters']\n"
     ]
    }
   ],
   "source": [
    " for twt in api.home_timeline():\n",
    "        #print(f\"{twt.user.name} --> {twt.text}\", \"\\n\")\n",
    "        \n",
    "        # empty list\n",
    "        twt_user= []\n",
    "        all_tweets= []\n",
    "        \n",
    "        # collect tweets\n",
    "        twt_user.append(twt.user.name)\n",
    "        all_tweets.append(twt.text)\n",
    "        \n",
    "        # all tweets collected\n",
    "        #home_tweets= [twt_user, all_tweets]\n",
    "          \n",
    "        # Create a new dataFrame\n",
    "       \n",
    "df_tweets['Tweets']= all_tweets        \n",
    "        #print(home_tweets)\n",
    "\n",
    "#df_tweets.head(10)"
   ]
  },
  {
   "cell_type": "code",
   "execution_count": 6,
   "id": "rotary-retirement",
   "metadata": {},
   "outputs": [
    {
     "name": "stdout",
     "output_type": "stream",
     "text": [
      "Reuters --> Uptick in crimes against Mexican politicians points toward violent midterm election https://t.co/10jcHXyW7O https://t.co/4Uu0remCAb \n",
      "\n",
      "The New York Times --> Could this pause in live performance be an opening for the aesthetic requirements of ballet — especially extreme th… https://t.co/dTO4iuQeNz \n",
      "\n",
      "Reuters --> WATCH: Disney's 'Raya and the Last Dragon' takes the audience on an adventure https://t.co/cBsz4ZGhoC https://t.co/CqIUexSgze \n",
      "\n",
      "Reuters --> Rangers cruise past Devils, 6-3 https://t.co/GPmbJhP1G5 https://t.co/IgAMErH6Z1 \n",
      "\n",
      "Reuters --> ICYMI: Aspiring designers step into the limelight in an unusual edition of Paris Fashion Week… https://t.co/M9LAcfZh94 \n",
      "\n"
     ]
    }
   ],
   "source": [
    "for twt in tweepy.Cursor(api.home_timeline).items(5):\n",
    "    print(f\"{twt.user.name} --> {twt.text}\", '\\n')"
   ]
  },
  {
   "cell_type": "markdown",
   "id": "broken-athens",
   "metadata": {},
   "source": [
    "# TWEETS from specified user"
   ]
  },
  {
   "cell_type": "code",
   "execution_count": 7,
   "id": "swedish-agency",
   "metadata": {},
   "outputs": [],
   "source": [
    "user= api.get_user('elonmusk')"
   ]
  },
  {
   "cell_type": "code",
   "execution_count": 8,
   "id": "following-ordinance",
   "metadata": {},
   "outputs": [
    {
     "name": "stdout",
     "output_type": "stream",
     "text": [
      "Elon Musk--> @garyblack00 Update probably in Q2. Cybertruck will be built at Giga Texas, so focus right now is on getting that beast built. \n",
      "\n"
     ]
    }
   ],
   "source": [
    "# tweets from the USER\n",
    "for twt in user.timeline():\n",
    "    # in proper format using F-STRING\n",
    "    print(f\"{twt.user.name}--> {twt.text}\",'\\n')"
   ]
  },
  {
   "cell_type": "code",
   "execution_count": null,
   "id": "faced-ottawa",
   "metadata": {},
   "outputs": [],
   "source": []
  }
 ],
 "metadata": {
  "kernelspec": {
   "display_name": "Python 3",
   "language": "python",
   "name": "python3"
  },
  "language_info": {
   "codemirror_mode": {
    "name": "ipython",
    "version": 3
   },
   "file_extension": ".py",
   "mimetype": "text/x-python",
   "name": "python",
   "nbconvert_exporter": "python",
   "pygments_lexer": "ipython3",
   "version": "3.8.5"
  }
 },
 "nbformat": 4,
 "nbformat_minor": 5
}
