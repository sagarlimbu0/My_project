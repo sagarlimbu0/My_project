{
 "cells": [
  {
   "cell_type": "code",
   "execution_count": 1,
   "id": "reflected-consolidation",
   "metadata": {},
   "outputs": [
    {
     "name": "stdout",
     "output_type": "stream",
     "text": [
      "Requirement already satisfied: tweepy in c:\\users\\daiko\\anaconda3\\lib\\site-packages (3.10.0)\n",
      "Requirement already satisfied: requests[socks]>=2.11.1 in c:\\users\\daiko\\anaconda3\\lib\\site-packages (from tweepy) (2.25.1)\n",
      "Requirement already satisfied: six>=1.10.0 in c:\\users\\daiko\\anaconda3\\lib\\site-packages (from tweepy) (1.15.0)\n",
      "Requirement already satisfied: requests-oauthlib>=0.7.0 in c:\\users\\daiko\\anaconda3\\lib\\site-packages (from tweepy) (1.3.0)\n",
      "Requirement already satisfied: oauthlib>=3.0.0 in c:\\users\\daiko\\anaconda3\\lib\\site-packages (from requests-oauthlib>=0.7.0->tweepy) (3.1.0)\n",
      "Requirement already satisfied: certifi>=2017.4.17 in c:\\users\\daiko\\anaconda3\\lib\\site-packages (from requests[socks]>=2.11.1->tweepy) (2020.12.5)\n",
      "Requirement already satisfied: chardet<5,>=3.0.2 in c:\\users\\daiko\\anaconda3\\lib\\site-packages (from requests[socks]>=2.11.1->tweepy) (4.0.0)\n",
      "Requirement already satisfied: urllib3<1.27,>=1.21.1 in c:\\users\\daiko\\anaconda3\\lib\\site-packages (from requests[socks]>=2.11.1->tweepy) (1.26.3)\n",
      "Requirement already satisfied: idna<3,>=2.5 in c:\\users\\daiko\\anaconda3\\lib\\site-packages (from requests[socks]>=2.11.1->tweepy) (2.10)\n",
      "Requirement already satisfied: PySocks!=1.5.7,>=1.5.6 in c:\\users\\daiko\\anaconda3\\lib\\site-packages (from requests[socks]>=2.11.1->tweepy) (1.7.1)\n"
     ]
    }
   ],
   "source": [
    "!pip install tweepy"
   ]
  },
  {
   "cell_type": "code",
   "execution_count": 2,
   "id": "fifth-appendix",
   "metadata": {},
   "outputs": [],
   "source": [
    "import tweepy"
   ]
  },
  {
   "cell_type": "markdown",
   "id": "deluxe-commissioner",
   "metadata": {},
   "source": [
    "# Authenticating to TWITTER"
   ]
  },
  {
   "cell_type": "code",
   "execution_count": 3,
   "id": "dimensional-vaccine",
   "metadata": {},
   "outputs": [],
   "source": [
    "auth= tweepy.OAuthHandler('m9ddh89vDk9LOZc6XACiSVvoO','WSest1JgCIDLthldqFnimvtJcbRwmry61VHMCATRxcH1e1cORp')"
   ]
  },
  {
   "cell_type": "markdown",
   "id": "educational-leone",
   "metadata": {},
   "source": [
    "# Using the Authentication with API key and secret Key"
   ]
  },
  {
   "cell_type": "code",
   "execution_count": 4,
   "id": "floppy-holiday",
   "metadata": {},
   "outputs": [],
   "source": [
    "auth.set_access_token('271987878-T3ubQ879wcJUbjqZJj4cBP5XOmViYSA9R4njpVys','SSbyCuV4DMCIQkHGLbtdLqw0x0Wi4drZdOihrXRZk8RaB')"
   ]
  },
  {
   "cell_type": "code",
   "execution_count": 5,
   "id": "difficult-rainbow",
   "metadata": {},
   "outputs": [],
   "source": [
    "api= tweepy.API(auth)"
   ]
  },
  {
   "cell_type": "code",
   "execution_count": 6,
   "id": "hollow-parallel",
   "metadata": {},
   "outputs": [
    {
     "name": "stdout",
     "output_type": "stream",
     "text": [
      "Authentication Passed: OK!\n"
     ]
    }
   ],
   "source": [
    "try:\n",
    "    api.verify_credentials()\n",
    "    print(\"Authentication Passed: OK!\")\n",
    "    \n",
    "except:\n",
    "    print(\"Error Authentication: Failed!\")"
   ]
  },
  {
   "cell_type": "markdown",
   "id": "incoming-privacy",
   "metadata": {},
   "source": [
    "# CONTEXT of the article:\n",
    "* A Status is a TWEET\n",
    "* A friendship is a follow-follower relationship\n",
    "* A favorite is a like"
   ]
  },
  {
   "cell_type": "markdown",
   "id": "hindu-gathering",
   "metadata": {},
   "source": [
    "# Twitter API functions:\n",
    "-\tOAuth\n",
    "-\tThe API class\n",
    "-\tModels\n",
    "-\tCursors\n",
    "-\tStreams\n",
    "# OAuth\n",
    "-\tTweepy takes ccare of all the DETAILS for using OAuth required by the TWITTER API to authenticate each REQUEST\n",
    "-\tIt provides an OAuthHandler Class that you can use to set the credentials to be used in all API calls\n",
    "# The API Class\n",
    "-\tThe API class has many methods that provide access to Twitter API endpoints. Using these methods, you can access the Twitter API’s functionality\n",
    "-\tTo invoke Twitter API methods\n"
   ]
  },
  {
   "cell_type": "markdown",
   "id": "compound-sunrise",
   "metadata": {},
   "source": [
    "# API class\n",
    "- Below, API class makes the API object print a message and wait if the RATE\n",
    "limit is exceeded"
   ]
  },
  {
   "cell_type": "markdown",
   "id": "bridal-longer",
   "metadata": {},
   "source": [
    "# API methods can be grouped into Different Categories:\n",
    "- methods for USer Timelines\n",
    "- Methods for Tweets\n",
    "- Methods for USERS\n",
    "- Method for Followers\n",
    "- Methods for your account\n",
    "- Methods for LIKES\n",
    "- Methods for TRENDS"
   ]
  },
  {
   "cell_type": "code",
   "execution_count": null,
   "id": "expanded-dance",
   "metadata": {},
   "outputs": [],
   "source": []
  },
  {
   "cell_type": "code",
   "execution_count": 7,
   "id": "lovely-scoop",
   "metadata": {},
   "outputs": [],
   "source": [
    "api= tweepy.API(auth, wait_on_rate_limit=True, wait_on_rate_limit_notify= True)"
   ]
  },
  {
   "cell_type": "markdown",
   "id": "loaded-warehouse",
   "metadata": {},
   "source": [
    "# Print Timeline:\n",
    "- USER's Tweets timeline"
   ]
  },
  {
   "cell_type": "code",
   "execution_count": 28,
   "id": "social-working",
   "metadata": {},
   "outputs": [
    {
     "name": "stdout",
     "output_type": "stream",
     "text": [
      "Reuters said Warren Buffett's $10 billion mistake: Precision Castparts https://t.co/aCdlmcQHZZ https://t.co/64wlLdXT3C \n",
      "\n",
      "Reuters said WATCH: A dentist has made a prosthetic foot for a koala in Australia https://t.co/Vl91ibnzz5 https://t.co/IG6xxcBIaY \n",
      "\n",
      "The Economist said China's presence is starkest in Cambodia, Laos and Myanmar https://t.co/tGklET2DYF \n",
      "\n",
      "Bloomberg said Donald Trump’s niece is balking at his claim that she waited too long to file her multi-million dollar fraud suit a… https://t.co/wegb75BpLp \n",
      "\n",
      "SPORTbible said The best goal you will see all season 🤯🦂\n",
      "\n",
      "https://t.co/Mc0yCt8bZB \n",
      "\n",
      "BBC Health News said Covid-19: Nearly 20 million in UK have had first dose of vaccine https://t.co/3tY3KsRfBW \n",
      "\n",
      "Reuters said Biden says he will make announcement on Saudi Arabia on Monday https://t.co/VB1uI3ky13 https://t.co/GlnfIJMlqS \n",
      "\n",
      "The New York Times said In Opinion\n",
      "\n",
      "@MaureenDowd writes, \"For the left, over the past four years, a reporter has been an ally and a superhe… https://t.co/qdvGx5Uau5 \n",
      "\n",
      "Reuters said ICYMI: A Cygnus resupply spacecraft arrives at the International Space Station https://t.co/X1f2Xkednh \n",
      "\n",
      "Discovery said RT @ScienceChannel: Researchers diving in the Ørstafjorden fjord in Norway discovered this “blekksprutgeleball” or “cephalopod jelly ball”… \n",
      "\n",
      "Al Jazeera English said Khashoggi’s murder: It is time for accountability https://t.co/PeOK2lc2HZ — #AJOpinion, by Amrit Singh https://t.co/F3me99yFgL \n",
      "\n",
      "Reuters said President Joe Biden urged the Senate to move quickly to pass the coronavirus relief package called the American Res… https://t.co/pxuMOKRWTr \n",
      "\n",
      "UberFacts said Interesting facts about short-lived TV shows 📺 https://t.co/UJsazRrVui \n",
      "\n",
      "CNN International said A resident of al-Bukamal, a city near the Syrian-Iraqi border, told CNN the explosions from US airstrikes targeting… https://t.co/7GmQRDeRgw \n",
      "\n",
      "Reuters said City make it 20 straight wins with victory over West Ham https://t.co/W83Wg0C7l5 https://t.co/Xn64YznnT1 \n",
      "\n",
      "The Wall Street Journal said The death of a man who was once America's winningest gymnastics coach devastated people who hoped to hear John Gedd… https://t.co/hT21e4wahD \n",
      "\n",
      "Reuters said WATCH: @NASAPersevere released the first video from its Perseverance rover touched down on Mars #CountdownToMars https://t.co/NWoRTCb3OO \n",
      "\n",
      "Getty Images News said The funeral for WWII veteran, Captain Sir Tom Moore, who raised nearly £33 million for @NHSCharities ahead of his 1… https://t.co/hXjeFdf0Vg \n",
      "\n",
      "Football Tweet said RT @oddschecker: 🙃 \"Geez, can you just stand still for one minute?\"\n",
      "\n",
      "🌪️ Jonjo Shelvey told us what it's like to play against Marcelo Bielsa… \n",
      "\n",
      "Reuters said ICYMI: Stunning views of ice-covered Niagara Falls as a rainbow appeared over the skies https://t.co/OtnOM5yAox \n",
      "\n"
     ]
    }
   ],
   "source": [
    "timeline= api.home_timeline()\n",
    "\n",
    "for tweet in timeline:\n",
    "    print(f\"{tweet.user.name} said {tweet.text}\",\"\\n\")"
   ]
  },
  {
   "cell_type": "markdown",
   "id": "cultural-resident",
   "metadata": {},
   "source": [
    "# Getting USER details:"
   ]
  },
  {
   "cell_type": "code",
   "execution_count": 9,
   "id": "secondary-backup",
   "metadata": {},
   "outputs": [],
   "source": [
    "user= api.get_user(\"elonmusk\")"
   ]
  },
  {
   "cell_type": "code",
   "execution_count": 27,
   "id": "intermediate-credits",
   "metadata": {},
   "outputs": [
    {
     "name": "stdout",
     "output_type": "stream",
     "text": [
      "User details:\n",
      "Elon Musk\n",
      "\n",
      "\n",
      "Followers:  48178635\n"
     ]
    }
   ],
   "source": [
    "print(\"User details:\")\n",
    "print(user.name)\n",
    "print(user.description)\n",
    "print(user.location)\n",
    "print(\"Followers: \",user.followers_count)\n"
   ]
  },
  {
   "cell_type": "markdown",
   "id": "convenient-campaign",
   "metadata": {},
   "source": [
    "# TWEETS from the USER"
   ]
  },
  {
   "cell_type": "code",
   "execution_count": 34,
   "id": "killing-medicine",
   "metadata": {},
   "outputs": [],
   "source": [
    "import json"
   ]
  },
  {
   "cell_type": "code",
   "execution_count": 37,
   "id": "auburn-coffee",
   "metadata": {},
   "outputs": [
    {
     "name": "stdout",
     "output_type": "stream",
     "text": [
      "Elon Musk\n"
     ]
    }
   ],
   "source": [
    "print(user.name)"
   ]
  },
  {
   "cell_type": "code",
   "execution_count": null,
   "id": "authentic-bachelor",
   "metadata": {},
   "outputs": [],
   "source": []
  },
  {
   "cell_type": "markdown",
   "id": "executive-greensboro",
   "metadata": {},
   "source": [
    "# LIST followers:\n",
    "- information\n",
    "- descriptions"
   ]
  },
  {
   "cell_type": "code",
   "execution_count": 22,
   "id": "scheduled-change",
   "metadata": {},
   "outputs": [
    {
     "name": "stdout",
     "output_type": "stream",
     "text": [
      "Followers of  Elon Musk\n",
      "Last 20 Followers:\n",
      "Programming Learn :  new on twitter \n",
      "\n",
      "Amimul Ehsan :  A patriot to the nation but not to a political party. \n",
      "Respect for the human kind. \n",
      "\n",
      "andy dyer :   \n",
      "\n",
      "Jay Man :  Easily to fall in love \n",
      "\n",
      "pucek :  https://t.co/X7Ee1sD3Je \n",
      "\n",
      "Allan Gómez :   \n",
      "\n",
      "Patrik :  Zajímám se o zajímavé zajímavosti. \n",
      "\n",
      "EL HADDI CHEKKAL :  a wise man proportions his belief to the evidence \n",
      "\n",
      "リン :  女の子ってしたくなるんだから。誰かハメてくれない？😢\n",
      "\n",
      "LINEで話そ～🖤→https://t.co/nzl8h7uDmi \n",
      "\n",
      "Steven Martin :   \n",
      "\n",
      "muaz966 :  •\n",
      "the\n",
      "best\n",
      "of\n",
      "mankind\n",
      "is\n",
      "to\n",
      "benefit \n",
      "other\n",
      "people\n",
      "•\n",
      "\n",
      "\n",
      "\n",
      "♡stayhumble&chill♡ \n",
      "\n",
      "D’jules :   \n",
      "\n",
      "Averagejoe :   \n",
      "\n",
      "ali veli :   \n",
      "\n",
      "シオリ :  ほわほわ～💗\n",
      "\n",
      "LINEで話そ～🍦→https://t.co/Ips8w7itQE \n",
      "\n",
      "Ali :   \n",
      "\n",
      "XD_itsthatkiddO :  hi I'm new I like to play roblox I am trading a fr queen bee My user is aesthetic_brother7 \n",
      "\n",
      "Bidhaan Yare :  Bidhaan yare \n",
      "\n",
      "Radek Krůžela :   \n",
      "\n",
      "Nguyen Le Y :   \n",
      "\n"
     ]
    }
   ],
   "source": [
    "print(\"Followers of \", user.name)\n",
    "print(\"Last 20 Followers:\")\n",
    "for j in user.followers():\n",
    "    \n",
    "    print (j.name,\": \", j.description,\"\\n\")"
   ]
  },
  {
   "cell_type": "markdown",
   "id": "danish-mills",
   "metadata": {},
   "source": [
    "# Tweeting with update"
   ]
  },
  {
   "cell_type": "code",
   "execution_count": 12,
   "id": "forty-instrumentation",
   "metadata": {},
   "outputs": [],
   "source": [
    "#for j in range(0,5):\n",
    "    #api.update_status(\"Bot Test: Tweet from Python tweepy API: Test: \",j )"
   ]
  },
  {
   "cell_type": "code",
   "execution_count": null,
   "id": "removable-token",
   "metadata": {},
   "outputs": [],
   "source": []
  }
 ],
 "metadata": {
  "kernelspec": {
   "display_name": "Python 3",
   "language": "python",
   "name": "python3"
  },
  "language_info": {
   "codemirror_mode": {
    "name": "ipython",
    "version": 3
   },
   "file_extension": ".py",
   "mimetype": "text/x-python",
   "name": "python",
   "nbconvert_exporter": "python",
   "pygments_lexer": "ipython3",
   "version": "3.8.5"
  }
 },
 "nbformat": 4,
 "nbformat_minor": 5
}
