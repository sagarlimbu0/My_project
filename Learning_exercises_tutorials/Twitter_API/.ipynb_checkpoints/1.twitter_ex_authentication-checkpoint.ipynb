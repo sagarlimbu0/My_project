{
 "cells": [
  {
   "cell_type": "code",
   "execution_count": 22,
   "id": "reflected-consolidation",
   "metadata": {},
   "outputs": [
    {
     "name": "stdout",
     "output_type": "stream",
     "text": [
      "Requirement already satisfied: tweepy in c:\\users\\daiko\\anaconda3\\lib\\site-packages (3.10.0)\n",
      "Requirement already satisfied: requests[socks]>=2.11.1 in c:\\users\\daiko\\anaconda3\\lib\\site-packages (from tweepy) (2.25.1)\n",
      "Requirement already satisfied: requests-oauthlib>=0.7.0 in c:\\users\\daiko\\anaconda3\\lib\\site-packages (from tweepy) (1.3.0)\n",
      "Requirement already satisfied: six>=1.10.0 in c:\\users\\daiko\\anaconda3\\lib\\site-packages (from tweepy) (1.15.0)\n",
      "Requirement already satisfied: oauthlib>=3.0.0 in c:\\users\\daiko\\anaconda3\\lib\\site-packages (from requests-oauthlib>=0.7.0->tweepy) (3.1.0)\n",
      "Requirement already satisfied: certifi>=2017.4.17 in c:\\users\\daiko\\anaconda3\\lib\\site-packages (from requests[socks]>=2.11.1->tweepy) (2020.12.5)\n",
      "Requirement already satisfied: chardet<5,>=3.0.2 in c:\\users\\daiko\\anaconda3\\lib\\site-packages (from requests[socks]>=2.11.1->tweepy) (4.0.0)\n",
      "Requirement already satisfied: urllib3<1.27,>=1.21.1 in c:\\users\\daiko\\anaconda3\\lib\\site-packages (from requests[socks]>=2.11.1->tweepy) (1.26.3)\n",
      "Requirement already satisfied: idna<3,>=2.5 in c:\\users\\daiko\\anaconda3\\lib\\site-packages (from requests[socks]>=2.11.1->tweepy) (2.10)\n",
      "Requirement already satisfied: PySocks!=1.5.7,>=1.5.6 in c:\\users\\daiko\\anaconda3\\lib\\site-packages (from requests[socks]>=2.11.1->tweepy) (1.7.1)\n"
     ]
    }
   ],
   "source": [
    "!pip install tweepy"
   ]
  },
  {
   "cell_type": "code",
   "execution_count": 2,
   "id": "fifth-appendix",
   "metadata": {},
   "outputs": [],
   "source": [
    "import tweepy"
   ]
  },
  {
   "cell_type": "markdown",
   "id": "deluxe-commissioner",
   "metadata": {},
   "source": [
    "# Authenticating to TWITTER"
   ]
  },
  {
   "cell_type": "code",
   "execution_count": 3,
   "id": "dimensional-vaccine",
   "metadata": {},
   "outputs": [],
   "source": [
    "auth= tweepy.OAuthHandler('m9ddh89vDk9LOZc6XACiSVvoO','WSest1JgCIDLthldqFnimvtJcbRwmry61VHMCATRxcH1e1cORp')"
   ]
  },
  {
   "cell_type": "markdown",
   "id": "educational-leone",
   "metadata": {},
   "source": [
    "# Using the Authentication with API key and secret Key"
   ]
  },
  {
   "cell_type": "code",
   "execution_count": 4,
   "id": "floppy-holiday",
   "metadata": {},
   "outputs": [],
   "source": [
    "auth.set_access_token('271987878-T3ubQ879wcJUbjqZJj4cBP5XOmViYSA9R4njpVys','SSbyCuV4DMCIQkHGLbtdLqw0x0Wi4drZdOihrXRZk8RaB')"
   ]
  },
  {
   "cell_type": "code",
   "execution_count": 5,
   "id": "difficult-rainbow",
   "metadata": {},
   "outputs": [],
   "source": [
    "api= tweepy.API(auth)"
   ]
  },
  {
   "cell_type": "code",
   "execution_count": 8,
   "id": "hollow-parallel",
   "metadata": {},
   "outputs": [
    {
     "name": "stdout",
     "output_type": "stream",
     "text": [
      "Authentication Passed: OK!\n"
     ]
    }
   ],
   "source": [
    "try:\n",
    "    api.verify_credentials()\n",
    "    print(\"Authentication Passed: OK!\")\n",
    "    \n",
    "except:\n",
    "    print(\"Error Authentication: Failed!\")"
   ]
  },
  {
   "cell_type": "markdown",
   "id": "incoming-privacy",
   "metadata": {},
   "source": [
    "# CONTEXT of the article:\n",
    "* A Status is a TWEET\n",
    "* A friendship is a follow-follower relationship\n",
    "* A favorite is a like"
   ]
  },
  {
   "cell_type": "markdown",
   "id": "hindu-gathering",
   "metadata": {},
   "source": [
    "# Twitter API functions:\n",
    "-\tOAuth\n",
    "-\tThe API class\n",
    "-\tModels\n",
    "-\tCursors\n",
    "-\tStreams\n",
    "# OAuth\n",
    "-\tTweepy takes ccare of all the DETAILS for using OAuth required by the TWITTER API to authenticate each REQUEST\n",
    "-\tIt provides an OAuthHandler Class that you can use to set the credentials to be used in all API calls\n",
    "# The API Class\n",
    "-\tThe API class has many methods that provide access to Twitter API endpoints. Using these methods, you can access the Twitter API’s functionality\n",
    "-\tTo invoke Twitter API methods\n"
   ]
  },
  {
   "cell_type": "markdown",
   "id": "compound-sunrise",
   "metadata": {},
   "source": [
    "# API class\n",
    "- Below, API class makes the API object print a message and wait if the RATE\n",
    "limit is exceeded"
   ]
  },
  {
   "cell_type": "markdown",
   "id": "bridal-longer",
   "metadata": {},
   "source": [
    "# API methods can be grouped into Different Categories:\n",
    "- methods for USer Timelines\n",
    "- Methods for Tweets\n",
    "- Methods for USERS\n",
    "- Method for Followers\n",
    "- Methods for your account\n",
    "- Methods for LIKES\n",
    "- Methods for TRENDS"
   ]
  },
  {
   "cell_type": "code",
   "execution_count": null,
   "id": "expanded-dance",
   "metadata": {},
   "outputs": [],
   "source": []
  },
  {
   "cell_type": "code",
   "execution_count": 9,
   "id": "lovely-scoop",
   "metadata": {},
   "outputs": [],
   "source": [
    "api= tweepy.API(auth, wait_on_rate_limit=True, wait_on_rate_limit_notify= True)"
   ]
  },
  {
   "cell_type": "markdown",
   "id": "loaded-warehouse",
   "metadata": {},
   "source": [
    "# Print Timeline"
   ]
  },
  {
   "cell_type": "code",
   "execution_count": 11,
   "id": "social-working",
   "metadata": {},
   "outputs": [
    {
     "name": "stdout",
     "output_type": "stream",
     "text": [
      "Bloomberg Economics saidChina’s banking regulator imposed new restrictions on banks and financial institutions working with online microlen… https://t.co/ujY1pNAXqT \n",
      "\n",
      "Reuters saidLiverpool's collapse continues as Everton end 22-year jinx https://t.co/lJG0da1ms3 https://t.co/y9k3lhltu1 \n",
      "\n",
      "The Economist saidThe Baltimore Wood Project trains formerly unemployed Baltimoreans, many of them ex-prisoners, in deconstruction an… https://t.co/PcWMu05P4S \n",
      "\n",
      "Reuters saidICYMI: 'When I said that I was going to sing, most of the people criticized and laughed at me,' says Noor Ibrahim w… https://t.co/48sVngccHc \n",
      "\n",
      "LLCOOLJ said✊🏾 https://t.co/r6voWwR519 \n",
      "\n",
      "BBC Health News saidAustralian PM is vaccinated as rollout begins https://t.co/F7llrNHzek \n",
      "\n",
      "Reuters saidCrowds across ex-Yugoslavia republics mourn singer's death https://t.co/XMNGrmwEzb https://t.co/Wi0mAKKhpB \n",
      "\n",
      "Reuters saidICYMI: Mount Etna, Europe's most active volcano, covered the sky over the Italian town of Paterno with orange smoke… https://t.co/lhqAtIXdJf \n",
      "\n",
      "LLCOOLJ said✊🏾🔥 https://t.co/hprBgcNa5Q \n",
      "\n",
      "UberFacts saidThe removal of Skymall magazines from American Airlines flights saved the company an estimated $350,000 per year in… https://t.co/LVCctMmnkQ \n",
      "\n",
      "TIME said“If the Harlem Renaissance stirred Black people to see themselves, if the Black Arts Movement stirred Black people… https://t.co/9A38KejTtY \n",
      "\n",
      "CNN International saidA Tennessee resident who was a guard at a Nazi concentration camp during World War II has been deported to Germany,… https://t.co/Ij5GhyEDvr \n",
      "\n",
      "Reuters saidAustralian PM Morrison gets COVID-19 vaccine as inoculation rollout starts https://t.co/aemsNWU28b https://t.co/Z7R5t8O6Kt \n",
      "\n",
      "Al Jazeera English saidInspiring cultures: Bruce Lee’s Fist of Fury dubbed into Noongar https://t.co/aEy6vTthu8 \n",
      "\n",
      "The Wall Street Journal saidScientists are racing to understand why the new coronavirus variants are spreading faster, and what this could mean… https://t.co/k0j0AFHuWu \n",
      "\n",
      "Reuters saidICYMI: Actors Ali MacGraw and Ryan O'Neal were honored on the Hollywood Walk of Fame in the first virtual ceremony… https://t.co/4fuXmSU9j1 \n",
      "\n",
      "Reuters saidA United Airlines flight bound for Honolulu suffered a right-engine failure shortly after departing Denver Internat… https://t.co/6PQkSt3L98 \n",
      "\n",
      "Bloomberg Technology saidApple is in discussions with multiple suppliers of self-driving car sensors known as lidar https://t.co/pGH2onNAXv \n",
      "\n",
      "Reuters saidRepublican former Senator Bob Dole gets visit from Biden after cancer diagnosis https://t.co/lBnsewTf7E https://t.co/2N7OiV05RA \n",
      "\n",
      "Reuters saidWATCH: Dutch ice swimmers take a dip in icy cold lakes and canals to reduce stress and boost the immune system https://t.co/VJjiy7APUd \n",
      "\n"
     ]
    }
   ],
   "source": [
    "timeline= api.home_timeline()\n",
    "\n",
    "for tweet in timeline:\n",
    "    print(f\"{tweet.user.name} said{tweet.text}\",\"\\n\")"
   ]
  },
  {
   "cell_type": "markdown",
   "id": "cultural-resident",
   "metadata": {},
   "source": [
    "# Getting USER details:"
   ]
  },
  {
   "cell_type": "code",
   "execution_count": 13,
   "id": "secondary-backup",
   "metadata": {},
   "outputs": [],
   "source": [
    "user= api.get_user(\"elonmusk\")"
   ]
  },
  {
   "cell_type": "code",
   "execution_count": 19,
   "id": "intermediate-credits",
   "metadata": {},
   "outputs": [
    {
     "name": "stdout",
     "output_type": "stream",
     "text": [
      "User details:\n",
      "Elon Musk\n",
      "metaphork\n",
      "\n"
     ]
    }
   ],
   "source": [
    "print(\"User details:\")\n",
    "print(user.name)\n",
    "print(user.description)\n",
    "print(user.location)"
   ]
  },
  {
   "cell_type": "code",
   "execution_count": 21,
   "id": "scheduled-change",
   "metadata": {},
   "outputs": [
    {
     "name": "stdout",
     "output_type": "stream",
     "text": [
      "Followers of  Elon Musk\n",
      "Last 20 Followers:\n",
      "Sanni Dewal Mehta\n",
      "SmokeHouseStreaming\n",
      "Larson\n",
      "Ahmed Sharaby\n",
      "pham truong\n",
      "100% Asli Amil baba In Pakistan\n",
      "ttkklei\n",
      "brittsolomong\n",
      "Wiam Bgr\n",
      "CacaoBean_Queen\n",
      "brandon surducki\n",
      "徐伟迪\n",
      "えみ@つらめ\n",
      "俗世一俗人\n",
      "JUN RIANDRI\n",
      "GeT_PeRT\n",
      "daniel:)\n",
      "Erdinç Keleş\n",
      "Joel Márquez\n",
      "alexandersuerof@hotmail.com\n"
     ]
    }
   ],
   "source": [
    "# LIST followers:\n",
    "print(\"Followers of \", user.name)\n",
    "print(\"Last 20 Followers:\")\n",
    "for j in user.followers():\n",
    "    print(j.name)"
   ]
  },
  {
   "cell_type": "code",
   "execution_count": null,
   "id": "million-malaysia",
   "metadata": {},
   "outputs": [],
   "source": []
  }
 ],
 "metadata": {
  "kernelspec": {
   "display_name": "Python 3",
   "language": "python",
   "name": "python3"
  },
  "language_info": {
   "codemirror_mode": {
    "name": "ipython",
    "version": 3
   },
   "file_extension": ".py",
   "mimetype": "text/x-python",
   "name": "python",
   "nbconvert_exporter": "python",
   "pygments_lexer": "ipython3",
   "version": "3.8.5"
  }
 },
 "nbformat": 4,
 "nbformat_minor": 5
}
