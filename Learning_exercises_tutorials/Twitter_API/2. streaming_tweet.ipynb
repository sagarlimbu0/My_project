{
 "cells": [
  {
   "cell_type": "markdown",
   "id": "entertaining-genome",
   "metadata": {},
   "source": [
    "# STREAMING TWEET\n",
    "- creating two objects to stream TWEET for specified STRING"
   ]
  },
  {
   "cell_type": "code",
   "execution_count": 1,
   "id": "bulgarian-adoption",
   "metadata": {},
   "outputs": [],
   "source": [
    "import tweepy"
   ]
  },
  {
   "cell_type": "markdown",
   "id": "alert-boards",
   "metadata": {},
   "source": [
    "# Passing key and client secret"
   ]
  },
  {
   "cell_type": "code",
   "execution_count": 2,
   "id": "expired-advice",
   "metadata": {},
   "outputs": [],
   "source": [
    "auth= tweepy.OAuthHandler('m9ddh89vDk9LOZc6XACiSVvoO','WSest1JgCIDLthldqFnimvtJcbRwmry61VHMCATRxcH1e1cORp')"
   ]
  },
  {
   "cell_type": "markdown",
   "id": "known-thomson",
   "metadata": {},
   "source": [
    "# Performing Authentication using API key and Secret KEY"
   ]
  },
  {
   "cell_type": "code",
   "execution_count": 3,
   "id": "homeless-mineral",
   "metadata": {},
   "outputs": [],
   "source": [
    "auth.set_access_token('271987878-T3ubQ879wcJUbjqZJj4cBP5XOmViYSA9R4njpVys','SSbyCuV4DMCIQkHGLbtdLqw0x0Wi4drZdOihrXRZk8RaB')"
   ]
  },
  {
   "cell_type": "code",
   "execution_count": 4,
   "id": "useful-stations",
   "metadata": {},
   "outputs": [],
   "source": [
    "# AUTHENTICATION\n",
    "\n",
    "api = tweepy.API(auth)"
   ]
  },
  {
   "cell_type": "code",
   "execution_count": 5,
   "id": "welcome-combat",
   "metadata": {},
   "outputs": [
    {
     "name": "stdout",
     "output_type": "stream",
     "text": [
      "Passed !!\n"
     ]
    }
   ],
   "source": [
    "## checking the credentials\n",
    "\n",
    "try:\n",
    "    api.verify_credentials()\n",
    "    print(\"Passed !!\")\n",
    "except:\n",
    "    print(\"WRONG credentials !!\")"
   ]
  },
  {
   "cell_type": "markdown",
   "id": "standing-grain",
   "metadata": {},
   "source": [
    "# STREAMING the tweets for specific TERM\n",
    "- REQUIRES to use TWO objects\n",
    "    * stream OBject\n",
    "    * Stream Listener"
   ]
  },
  {
   "cell_type": "code",
   "execution_count": 6,
   "id": "controversial-parts",
   "metadata": {},
   "outputs": [],
   "source": [
    "import json"
   ]
  },
  {
   "cell_type": "code",
   "execution_count": 7,
   "id": "medical-mills",
   "metadata": {},
   "outputs": [],
   "source": [
    "class MyStreamListener( tweepy.StreamListener):\n",
    "    #initialization\n",
    "    \n",
    "    def __init__(self, api):\n",
    "        self.api= api\n",
    "        self.me= api.me()\n",
    "    \n",
    "    # Check STATUS\n",
    "    def on_status(self, tweet):\n",
    "        print(f\"{tweet.user.name}:{tweet.text}\")\n",
    "        \n",
    "    # ERROR found\n",
    "    def on_error(self, status):\n",
    "        print(\"ERROR detected !!\")\n",
    "\n",
    "# CREATING an instance object\n",
    "\n",
    "tweets_listener= MyStreamListener(api)\n",
    "stream= tweepy.Stream(api.auth, tweets_listener)"
   ]
  },
  {
   "cell_type": "markdown",
   "id": "simple-visit",
   "metadata": {},
   "source": [
    "# FILTERS tweets based on the STRING provided"
   ]
  },
  {
   "cell_type": "code",
   "execution_count": 8,
   "id": "regional-toner",
   "metadata": {},
   "outputs": [],
   "source": [
    "#stream.filter(track=['nepal'], languages=['en'])"
   ]
  },
  {
   "cell_type": "code",
   "execution_count": null,
   "id": "traditional-password",
   "metadata": {},
   "outputs": [],
   "source": []
  }
 ],
 "metadata": {
  "kernelspec": {
   "display_name": "Python 3",
   "language": "python",
   "name": "python3"
  },
  "language_info": {
   "codemirror_mode": {
    "name": "ipython",
    "version": 3
   },
   "file_extension": ".py",
   "mimetype": "text/x-python",
   "name": "python",
   "nbconvert_exporter": "python",
   "pygments_lexer": "ipython3",
   "version": "3.8.5"
  }
 },
 "nbformat": 4,
 "nbformat_minor": 5
}
