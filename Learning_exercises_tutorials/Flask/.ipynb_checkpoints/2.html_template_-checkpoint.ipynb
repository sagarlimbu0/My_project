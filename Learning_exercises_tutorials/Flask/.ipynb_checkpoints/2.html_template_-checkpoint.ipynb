{
 "cells": [
  {
   "cell_type": "markdown",
   "id": "compatible-intersection",
   "metadata": {},
   "source": [
    "# Tutorial: \n",
    "- Creating HTML template and using it\n",
    "- Creating a NEW folder that holds HTML template in same Directory\n"
   ]
  },
  {
   "cell_type": "code",
   "execution_count": null,
   "id": "dense-mouse",
   "metadata": {},
   "outputs": [],
   "source": [
    "from flask import Flask, url_for, redirect, render_template"
   ]
  },
  {
   "cell_type": "code",
   "execution_count": null,
   "id": "hairy-broadway",
   "metadata": {},
   "outputs": [],
   "source": [
    "app = Flask(__name__)"
   ]
  },
  {
   "cell_type": "code",
   "execution_count": null,
   "id": "fabulous-cannon",
   "metadata": {},
   "outputs": [],
   "source": [
    "# give direction to ROOT\n",
    "@app.route(\"/\")\n",
    "def home():\n",
    "    return render_template(\"C:/Users/daiko/My_personal_projects/My_project/Learning_exercises_tutorials/Flask/templates/first_temp.html\")"
   ]
  },
  {
   "cell_type": "markdown",
   "id": "electronic-concentrate",
   "metadata": {},
   "source": [
    "# Running the Main Function"
   ]
  },
  {
   "cell_type": "code",
   "execution_count": null,
   "id": "waiting-scenario",
   "metadata": {},
   "outputs": [],
   "source": [
    "if __name__== \"__main__\":\n",
    "    app.run()"
   ]
  },
  {
   "cell_type": "code",
   "execution_count": null,
   "id": "fiscal-constant",
   "metadata": {},
   "outputs": [],
   "source": []
  }
 ],
 "metadata": {
  "kernelspec": {
   "display_name": "Python 3",
   "language": "python",
   "name": "python3"
  },
  "language_info": {
   "codemirror_mode": {
    "name": "ipython",
    "version": 3
   },
   "file_extension": ".py",
   "mimetype": "text/x-python",
   "name": "python",
   "nbconvert_exporter": "python",
   "pygments_lexer": "ipython3",
   "version": "3.8.5"
  }
 },
 "nbformat": 4,
 "nbformat_minor": 5
}
