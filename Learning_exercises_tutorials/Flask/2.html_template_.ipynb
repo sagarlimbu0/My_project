{
 "cells": [
  {
   "cell_type": "markdown",
   "id": "compatible-intersection",
   "metadata": {},
   "source": [
    "# Tutorial: \n",
    "- Creating HTML template and using it\n",
    "- Creating a NEW folder that holds HTML template in same Directory\n"
   ]
  },
  {
   "cell_type": "code",
   "execution_count": 1,
   "id": "dense-mouse",
   "metadata": {},
   "outputs": [],
   "source": [
    "from flask import Flask, url_for, redirect, render_template"
   ]
  },
  {
   "cell_type": "code",
   "execution_count": 2,
   "id": "hairy-broadway",
   "metadata": {},
   "outputs": [],
   "source": [
    "app = Flask(__name__)"
   ]
  },
  {
   "cell_type": "code",
   "execution_count": 3,
   "id": "fabulous-cannon",
   "metadata": {},
   "outputs": [],
   "source": [
    "# give direction to ROOT\n",
    "@app.route(\"/<name>\")\n",
    "def home(name):\n",
    "    #return render_template(\"C:/Users/daiko/My_personal_projects/My_project/Learning_exercises_tutorials/Flask/templates/first_temp.html\")\n",
    "    return render_template(\"index.html\")"
   ]
  },
  {
   "cell_type": "markdown",
   "id": "electronic-concentrate",
   "metadata": {},
   "source": [
    "# Running the Main Function"
   ]
  },
  {
   "cell_type": "code",
   "execution_count": null,
   "id": "waiting-scenario",
   "metadata": {},
   "outputs": [
    {
     "name": "stdout",
     "output_type": "stream",
     "text": [
      " * Serving Flask app \"__main__\" (lazy loading)\n",
      " * Environment: production\n",
      "   WARNING: This is a development server. Do not use it in a production deployment.\n",
      "   Use a production WSGI server instead.\n",
      " * Debug mode: off\n"
     ]
    },
    {
     "name": "stderr",
     "output_type": "stream",
     "text": [
      " * Running on http://127.0.0.1:5000/ (Press CTRL+C to quit)\n",
      "127.0.0.1 - - [19/Feb/2021 15:44:08] \"\u001b[33mGET / HTTP/1.1\u001b[0m\" 404 -\n"
     ]
    }
   ],
   "source": [
    "if __name__== \"__main__\":\n",
    "    app.run()"
   ]
  },
  {
   "cell_type": "code",
   "execution_count": null,
   "id": "rapid-daniel",
   "metadata": {},
   "outputs": [],
   "source": []
  }
 ],
 "metadata": {
  "kernelspec": {
   "display_name": "Python 3",
   "language": "python",
   "name": "python3"
  },
  "language_info": {
   "codemirror_mode": {
    "name": "ipython",
    "version": 3
   },
   "file_extension": ".py",
   "mimetype": "text/x-python",
   "name": "python",
   "nbconvert_exporter": "python",
   "pygments_lexer": "ipython3",
   "version": "3.8.5"
  }
 },
 "nbformat": 4,
 "nbformat_minor": 5
}
