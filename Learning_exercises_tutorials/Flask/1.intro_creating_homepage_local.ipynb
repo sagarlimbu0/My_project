{
 "cells": [
  {
   "cell_type": "markdown",
   "id": "compatible-intersection",
   "metadata": {},
   "source": [
    "# Tutorial: \n",
    "- Using Flask to create backend work"
   ]
  },
  {
   "cell_type": "code",
   "execution_count": 1,
   "id": "dense-mouse",
   "metadata": {},
   "outputs": [],
   "source": [
    "from flask import Flask, url_for, redirect"
   ]
  },
  {
   "cell_type": "code",
   "execution_count": 2,
   "id": "hairy-broadway",
   "metadata": {},
   "outputs": [],
   "source": [
    "app = Flask(__name__)"
   ]
  },
  {
   "cell_type": "code",
   "execution_count": 3,
   "id": "fabulous-cannon",
   "metadata": {},
   "outputs": [],
   "source": [
    "# give direction to ROOT\n",
    "@app.route(\"/\")\n",
    "def home():\n",
    "    return \"<h1>Hello! Yo mama so fat, she ate whole curry.</h1>\""
   ]
  },
  {
   "cell_type": "markdown",
   "id": "threaded-spokesman",
   "metadata": {},
   "source": [
    "# passing parameter with USER input\n",
    "- User Input passes as parameter with input"
   ]
  },
  {
   "cell_type": "code",
   "execution_count": 4,
   "id": "sunrise-schema",
   "metadata": {},
   "outputs": [],
   "source": [
    "@app.route(\"/<name>\")\n",
    "def user( name):\n",
    "    return f\"Hello {name}!\""
   ]
  },
  {
   "cell_type": "markdown",
   "id": "organizational-delight",
   "metadata": {},
   "source": [
    "# Redirecting the specific Page:\n",
    "- Here redirecting to HOMEpage"
   ]
  },
  {
   "cell_type": "code",
   "execution_count": 5,
   "id": "stone-crest",
   "metadata": {},
   "outputs": [],
   "source": [
    "@app.route(\"/admin\")\n",
    "def admin():\n",
    "    return redirect(url_for(\"home\")) # redirecting to HOME page"
   ]
  },
  {
   "cell_type": "markdown",
   "id": "electronic-concentrate",
   "metadata": {},
   "source": [
    "# Running the Main Function"
   ]
  },
  {
   "cell_type": "code",
   "execution_count": null,
   "id": "waiting-scenario",
   "metadata": {},
   "outputs": [
    {
     "name": "stdout",
     "output_type": "stream",
     "text": [
      " * Serving Flask app \"__main__\" (lazy loading)\n",
      " * Environment: production\n",
      "   WARNING: This is a development server. Do not use it in a production deployment.\n",
      "   Use a production WSGI server instead.\n",
      " * Debug mode: off\n"
     ]
    },
    {
     "name": "stderr",
     "output_type": "stream",
     "text": [
      " * Running on http://127.0.0.1:5000/ (Press CTRL+C to quit)\n",
      "127.0.0.1 - - [19/Feb/2021 15:10:19] \"\u001b[37mGET / HTTP/1.1\u001b[0m\" 200 -\n"
     ]
    }
   ],
   "source": [
    "if __name__== \"__main__\":\n",
    "    app.run()"
   ]
  }
 ],
 "metadata": {
  "kernelspec": {
   "display_name": "Python 3",
   "language": "python",
   "name": "python3"
  },
  "language_info": {
   "codemirror_mode": {
    "name": "ipython",
    "version": 3
   },
   "file_extension": ".py",
   "mimetype": "text/x-python",
   "name": "python",
   "nbconvert_exporter": "python",
   "pygments_lexer": "ipython3",
   "version": "3.8.5"
  }
 },
 "nbformat": 4,
 "nbformat_minor": 5
}
