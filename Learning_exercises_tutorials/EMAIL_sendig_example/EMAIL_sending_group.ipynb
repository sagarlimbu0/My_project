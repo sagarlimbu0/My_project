{
 "cells": [
  {
   "cell_type": "code",
   "execution_count": 1,
   "metadata": {},
   "outputs": [],
   "source": [
    "import time\n",
    "import smtplib, ssl"
   ]
  },
  {
   "cell_type": "code",
   "execution_count": 7,
   "metadata": {},
   "outputs": [],
   "source": [
    "Body= \"\"\"\\\n",
    "Subject: Email sending Practice\n",
    "\n",
    "This is a test.\n",
    "\n",
    "Sincerly,\n",
    "Sagar Limbu\n",
    "\"\"\"\n"
   ]
  },
  {
   "cell_type": "markdown",
   "metadata": {},
   "source": [
    "# NOTE: BEFORE you can send EMAIL from GMAIL\n",
    "\n",
    "- While logged into your gmail at gmail.com, go to https://myaccount.google.com/security\n",
    "- Scroll down to the part that says \"Allow less secure apps\"\n",
    "- Turn ON \"allow less secure apps\".\n",
    "- If you don't want to make your main gmail less secure, or if you don't already have gmail, then sign up for a new gmail solely for this purpose."
   ]
  },
  {
   "cell_type": "code",
   "execution_count": 6,
   "metadata": {},
   "outputs": [
    {
     "data": {
      "text/plain": [
       "(221, b'2.0.0 closing connection fw12sm7741697pjb.43 - gsmtp')"
      ]
     },
     "execution_count": 6,
     "metadata": {},
     "output_type": "execute_result"
    }
   ],
   "source": [
    "mailServer= smtplib.SMTP('smtp.gmail.com', 587)\n",
    "mailServer.starttls()\n",
    "\n",
    "sender= 'sagarlimbu027@gmail.com'\n",
    "mailServer.login(sender, password)\n",
    "\n",
    "mail_to=['abc@yahoo.com','xyz@hotmail.com']\n",
    "\n",
    "for recv in range(len(mail_to)):\n",
    "    mailServer.sendmail(sender, mail_to[recv], \"This is a test\")\n",
    "\n",
    "mailServer.quit()"
   ]
  },
  {
   "cell_type": "code",
   "execution_count": null,
   "metadata": {},
   "outputs": [],
   "source": []
  }
 ],
 "metadata": {
  "kernelspec": {
   "display_name": "Python 3",
   "language": "python",
   "name": "python3"
  },
  "language_info": {
   "codemirror_mode": {
    "name": "ipython",
    "version": 3
   },
   "file_extension": ".py",
   "mimetype": "text/x-python",
   "name": "python",
   "nbconvert_exporter": "python",
   "pygments_lexer": "ipython3",
   "version": "3.8.5"
  }
 },
 "nbformat": 4,
 "nbformat_minor": 4
}
